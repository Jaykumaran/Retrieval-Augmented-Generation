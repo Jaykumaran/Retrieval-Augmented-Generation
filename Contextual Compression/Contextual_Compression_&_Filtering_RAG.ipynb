{
  "nbformat": 4,
  "nbformat_minor": 0,
  "metadata": {
    "colab": {
      "provenance": [],
      "gpuType": "T4"
    },
    "kernelspec": {
      "name": "python3",
      "display_name": "Python 3"
    },
    "language_info": {
      "name": "python"
    },
    "accelerator": "GPU",
    "widgets": {
      "application/vnd.jupyter.widget-state+json": {
        "ceda4c80522b4f4997ac7fe5d1201845": {
          "model_module": "@jupyter-widgets/controls",
          "model_name": "HBoxModel",
          "model_module_version": "1.5.0",
          "state": {
            "_dom_classes": [],
            "_model_module": "@jupyter-widgets/controls",
            "_model_module_version": "1.5.0",
            "_model_name": "HBoxModel",
            "_view_count": null,
            "_view_module": "@jupyter-widgets/controls",
            "_view_module_version": "1.5.0",
            "_view_name": "HBoxView",
            "box_style": "",
            "children": [
              "IPY_MODEL_25fb7524028a45dea56852e78a311b0e",
              "IPY_MODEL_2dddcdc6f65e469688d99ba16aec998f",
              "IPY_MODEL_8e2a9d7c1a474b9caf073a13010c3c40"
            ],
            "layout": "IPY_MODEL_c97bd41db5864fac899a5ddee49d9b10"
          }
        },
        "25fb7524028a45dea56852e78a311b0e": {
          "model_module": "@jupyter-widgets/controls",
          "model_name": "HTMLModel",
          "model_module_version": "1.5.0",
          "state": {
            "_dom_classes": [],
            "_model_module": "@jupyter-widgets/controls",
            "_model_module_version": "1.5.0",
            "_model_name": "HTMLModel",
            "_view_count": null,
            "_view_module": "@jupyter-widgets/controls",
            "_view_module_version": "1.5.0",
            "_view_name": "HTMLView",
            "description": "",
            "description_tooltip": null,
            "layout": "IPY_MODEL_731f3253786e4d47947d1c4bc9f203bf",
            "placeholder": "​",
            "style": "IPY_MODEL_b12f0e3089664573a624cd030961bc36",
            "value": ".gitattributes: 100%"
          }
        },
        "2dddcdc6f65e469688d99ba16aec998f": {
          "model_module": "@jupyter-widgets/controls",
          "model_name": "FloatProgressModel",
          "model_module_version": "1.5.0",
          "state": {
            "_dom_classes": [],
            "_model_module": "@jupyter-widgets/controls",
            "_model_module_version": "1.5.0",
            "_model_name": "FloatProgressModel",
            "_view_count": null,
            "_view_module": "@jupyter-widgets/controls",
            "_view_module_version": "1.5.0",
            "_view_name": "ProgressView",
            "bar_style": "success",
            "description": "",
            "description_tooltip": null,
            "layout": "IPY_MODEL_38157e2d1ad04a7ab2a9eb2081bb00ff",
            "max": 1519,
            "min": 0,
            "orientation": "horizontal",
            "style": "IPY_MODEL_8df55cf57f074cb78ebc079014625bc2",
            "value": 1519
          }
        },
        "8e2a9d7c1a474b9caf073a13010c3c40": {
          "model_module": "@jupyter-widgets/controls",
          "model_name": "HTMLModel",
          "model_module_version": "1.5.0",
          "state": {
            "_dom_classes": [],
            "_model_module": "@jupyter-widgets/controls",
            "_model_module_version": "1.5.0",
            "_model_name": "HTMLModel",
            "_view_count": null,
            "_view_module": "@jupyter-widgets/controls",
            "_view_module_version": "1.5.0",
            "_view_name": "HTMLView",
            "description": "",
            "description_tooltip": null,
            "layout": "IPY_MODEL_11f5d8e3698c4ec187665efc66cb7179",
            "placeholder": "​",
            "style": "IPY_MODEL_7c7603a86e4b4203a011efc972ab201b",
            "value": " 1.52k/1.52k [00:00&lt;00:00, 106kB/s]"
          }
        },
        "c97bd41db5864fac899a5ddee49d9b10": {
          "model_module": "@jupyter-widgets/base",
          "model_name": "LayoutModel",
          "model_module_version": "1.2.0",
          "state": {
            "_model_module": "@jupyter-widgets/base",
            "_model_module_version": "1.2.0",
            "_model_name": "LayoutModel",
            "_view_count": null,
            "_view_module": "@jupyter-widgets/base",
            "_view_module_version": "1.2.0",
            "_view_name": "LayoutView",
            "align_content": null,
            "align_items": null,
            "align_self": null,
            "border": null,
            "bottom": null,
            "display": null,
            "flex": null,
            "flex_flow": null,
            "grid_area": null,
            "grid_auto_columns": null,
            "grid_auto_flow": null,
            "grid_auto_rows": null,
            "grid_column": null,
            "grid_gap": null,
            "grid_row": null,
            "grid_template_areas": null,
            "grid_template_columns": null,
            "grid_template_rows": null,
            "height": null,
            "justify_content": null,
            "justify_items": null,
            "left": null,
            "margin": null,
            "max_height": null,
            "max_width": null,
            "min_height": null,
            "min_width": null,
            "object_fit": null,
            "object_position": null,
            "order": null,
            "overflow": null,
            "overflow_x": null,
            "overflow_y": null,
            "padding": null,
            "right": null,
            "top": null,
            "visibility": null,
            "width": null
          }
        },
        "731f3253786e4d47947d1c4bc9f203bf": {
          "model_module": "@jupyter-widgets/base",
          "model_name": "LayoutModel",
          "model_module_version": "1.2.0",
          "state": {
            "_model_module": "@jupyter-widgets/base",
            "_model_module_version": "1.2.0",
            "_model_name": "LayoutModel",
            "_view_count": null,
            "_view_module": "@jupyter-widgets/base",
            "_view_module_version": "1.2.0",
            "_view_name": "LayoutView",
            "align_content": null,
            "align_items": null,
            "align_self": null,
            "border": null,
            "bottom": null,
            "display": null,
            "flex": null,
            "flex_flow": null,
            "grid_area": null,
            "grid_auto_columns": null,
            "grid_auto_flow": null,
            "grid_auto_rows": null,
            "grid_column": null,
            "grid_gap": null,
            "grid_row": null,
            "grid_template_areas": null,
            "grid_template_columns": null,
            "grid_template_rows": null,
            "height": null,
            "justify_content": null,
            "justify_items": null,
            "left": null,
            "margin": null,
            "max_height": null,
            "max_width": null,
            "min_height": null,
            "min_width": null,
            "object_fit": null,
            "object_position": null,
            "order": null,
            "overflow": null,
            "overflow_x": null,
            "overflow_y": null,
            "padding": null,
            "right": null,
            "top": null,
            "visibility": null,
            "width": null
          }
        },
        "b12f0e3089664573a624cd030961bc36": {
          "model_module": "@jupyter-widgets/controls",
          "model_name": "DescriptionStyleModel",
          "model_module_version": "1.5.0",
          "state": {
            "_model_module": "@jupyter-widgets/controls",
            "_model_module_version": "1.5.0",
            "_model_name": "DescriptionStyleModel",
            "_view_count": null,
            "_view_module": "@jupyter-widgets/base",
            "_view_module_version": "1.2.0",
            "_view_name": "StyleView",
            "description_width": ""
          }
        },
        "38157e2d1ad04a7ab2a9eb2081bb00ff": {
          "model_module": "@jupyter-widgets/base",
          "model_name": "LayoutModel",
          "model_module_version": "1.2.0",
          "state": {
            "_model_module": "@jupyter-widgets/base",
            "_model_module_version": "1.2.0",
            "_model_name": "LayoutModel",
            "_view_count": null,
            "_view_module": "@jupyter-widgets/base",
            "_view_module_version": "1.2.0",
            "_view_name": "LayoutView",
            "align_content": null,
            "align_items": null,
            "align_self": null,
            "border": null,
            "bottom": null,
            "display": null,
            "flex": null,
            "flex_flow": null,
            "grid_area": null,
            "grid_auto_columns": null,
            "grid_auto_flow": null,
            "grid_auto_rows": null,
            "grid_column": null,
            "grid_gap": null,
            "grid_row": null,
            "grid_template_areas": null,
            "grid_template_columns": null,
            "grid_template_rows": null,
            "height": null,
            "justify_content": null,
            "justify_items": null,
            "left": null,
            "margin": null,
            "max_height": null,
            "max_width": null,
            "min_height": null,
            "min_width": null,
            "object_fit": null,
            "object_position": null,
            "order": null,
            "overflow": null,
            "overflow_x": null,
            "overflow_y": null,
            "padding": null,
            "right": null,
            "top": null,
            "visibility": null,
            "width": null
          }
        },
        "8df55cf57f074cb78ebc079014625bc2": {
          "model_module": "@jupyter-widgets/controls",
          "model_name": "ProgressStyleModel",
          "model_module_version": "1.5.0",
          "state": {
            "_model_module": "@jupyter-widgets/controls",
            "_model_module_version": "1.5.0",
            "_model_name": "ProgressStyleModel",
            "_view_count": null,
            "_view_module": "@jupyter-widgets/base",
            "_view_module_version": "1.2.0",
            "_view_name": "StyleView",
            "bar_color": null,
            "description_width": ""
          }
        },
        "11f5d8e3698c4ec187665efc66cb7179": {
          "model_module": "@jupyter-widgets/base",
          "model_name": "LayoutModel",
          "model_module_version": "1.2.0",
          "state": {
            "_model_module": "@jupyter-widgets/base",
            "_model_module_version": "1.2.0",
            "_model_name": "LayoutModel",
            "_view_count": null,
            "_view_module": "@jupyter-widgets/base",
            "_view_module_version": "1.2.0",
            "_view_name": "LayoutView",
            "align_content": null,
            "align_items": null,
            "align_self": null,
            "border": null,
            "bottom": null,
            "display": null,
            "flex": null,
            "flex_flow": null,
            "grid_area": null,
            "grid_auto_columns": null,
            "grid_auto_flow": null,
            "grid_auto_rows": null,
            "grid_column": null,
            "grid_gap": null,
            "grid_row": null,
            "grid_template_areas": null,
            "grid_template_columns": null,
            "grid_template_rows": null,
            "height": null,
            "justify_content": null,
            "justify_items": null,
            "left": null,
            "margin": null,
            "max_height": null,
            "max_width": null,
            "min_height": null,
            "min_width": null,
            "object_fit": null,
            "object_position": null,
            "order": null,
            "overflow": null,
            "overflow_x": null,
            "overflow_y": null,
            "padding": null,
            "right": null,
            "top": null,
            "visibility": null,
            "width": null
          }
        },
        "7c7603a86e4b4203a011efc972ab201b": {
          "model_module": "@jupyter-widgets/controls",
          "model_name": "DescriptionStyleModel",
          "model_module_version": "1.5.0",
          "state": {
            "_model_module": "@jupyter-widgets/controls",
            "_model_module_version": "1.5.0",
            "_model_name": "DescriptionStyleModel",
            "_view_count": null,
            "_view_module": "@jupyter-widgets/base",
            "_view_module_version": "1.2.0",
            "_view_name": "StyleView",
            "description_width": ""
          }
        },
        "67eb02c5c0c3411182f580162d8808c2": {
          "model_module": "@jupyter-widgets/controls",
          "model_name": "HBoxModel",
          "model_module_version": "1.5.0",
          "state": {
            "_dom_classes": [],
            "_model_module": "@jupyter-widgets/controls",
            "_model_module_version": "1.5.0",
            "_model_name": "HBoxModel",
            "_view_count": null,
            "_view_module": "@jupyter-widgets/controls",
            "_view_module_version": "1.5.0",
            "_view_name": "HBoxView",
            "box_style": "",
            "children": [
              "IPY_MODEL_1b92e88decc640308df7ee3768ce6f8f",
              "IPY_MODEL_f1b2eece9a9945039b32553876829500",
              "IPY_MODEL_a30a45d95e814e709458d2af6b95bbe1"
            ],
            "layout": "IPY_MODEL_46cd0e3cd739430aac36f4d73144e6d7"
          }
        },
        "1b92e88decc640308df7ee3768ce6f8f": {
          "model_module": "@jupyter-widgets/controls",
          "model_name": "HTMLModel",
          "model_module_version": "1.5.0",
          "state": {
            "_dom_classes": [],
            "_model_module": "@jupyter-widgets/controls",
            "_model_module_version": "1.5.0",
            "_model_name": "HTMLModel",
            "_view_count": null,
            "_view_module": "@jupyter-widgets/controls",
            "_view_module_version": "1.5.0",
            "_view_name": "HTMLView",
            "description": "",
            "description_tooltip": null,
            "layout": "IPY_MODEL_2c27520f4c5948e38f7835589c904560",
            "placeholder": "​",
            "style": "IPY_MODEL_4a12b639f52544538c8ca1bb2c1fb244",
            "value": "README.md: 100%"
          }
        },
        "f1b2eece9a9945039b32553876829500": {
          "model_module": "@jupyter-widgets/controls",
          "model_name": "FloatProgressModel",
          "model_module_version": "1.5.0",
          "state": {
            "_dom_classes": [],
            "_model_module": "@jupyter-widgets/controls",
            "_model_module_version": "1.5.0",
            "_model_name": "FloatProgressModel",
            "_view_count": null,
            "_view_module": "@jupyter-widgets/controls",
            "_view_module_version": "1.5.0",
            "_view_name": "ProgressView",
            "bar_style": "success",
            "description": "",
            "description_tooltip": null,
            "layout": "IPY_MODEL_19ca64fa723248179baddd52d39c5a8b",
            "max": 3765,
            "min": 0,
            "orientation": "horizontal",
            "style": "IPY_MODEL_d7b5ab8997564f98927c8d2cfdb4f71f",
            "value": 3765
          }
        },
        "a30a45d95e814e709458d2af6b95bbe1": {
          "model_module": "@jupyter-widgets/controls",
          "model_name": "HTMLModel",
          "model_module_version": "1.5.0",
          "state": {
            "_dom_classes": [],
            "_model_module": "@jupyter-widgets/controls",
            "_model_module_version": "1.5.0",
            "_model_name": "HTMLModel",
            "_view_count": null,
            "_view_module": "@jupyter-widgets/controls",
            "_view_module_version": "1.5.0",
            "_view_name": "HTMLView",
            "description": "",
            "description_tooltip": null,
            "layout": "IPY_MODEL_e25c181951e748a183c619d1b7a5ca83",
            "placeholder": "​",
            "style": "IPY_MODEL_bfea406115cb430b9cba4ceca2b5f293",
            "value": " 3.77k/3.77k [00:00&lt;00:00, 283kB/s]"
          }
        },
        "46cd0e3cd739430aac36f4d73144e6d7": {
          "model_module": "@jupyter-widgets/base",
          "model_name": "LayoutModel",
          "model_module_version": "1.2.0",
          "state": {
            "_model_module": "@jupyter-widgets/base",
            "_model_module_version": "1.2.0",
            "_model_name": "LayoutModel",
            "_view_count": null,
            "_view_module": "@jupyter-widgets/base",
            "_view_module_version": "1.2.0",
            "_view_name": "LayoutView",
            "align_content": null,
            "align_items": null,
            "align_self": null,
            "border": null,
            "bottom": null,
            "display": null,
            "flex": null,
            "flex_flow": null,
            "grid_area": null,
            "grid_auto_columns": null,
            "grid_auto_flow": null,
            "grid_auto_rows": null,
            "grid_column": null,
            "grid_gap": null,
            "grid_row": null,
            "grid_template_areas": null,
            "grid_template_columns": null,
            "grid_template_rows": null,
            "height": null,
            "justify_content": null,
            "justify_items": null,
            "left": null,
            "margin": null,
            "max_height": null,
            "max_width": null,
            "min_height": null,
            "min_width": null,
            "object_fit": null,
            "object_position": null,
            "order": null,
            "overflow": null,
            "overflow_x": null,
            "overflow_y": null,
            "padding": null,
            "right": null,
            "top": null,
            "visibility": null,
            "width": null
          }
        },
        "2c27520f4c5948e38f7835589c904560": {
          "model_module": "@jupyter-widgets/base",
          "model_name": "LayoutModel",
          "model_module_version": "1.2.0",
          "state": {
            "_model_module": "@jupyter-widgets/base",
            "_model_module_version": "1.2.0",
            "_model_name": "LayoutModel",
            "_view_count": null,
            "_view_module": "@jupyter-widgets/base",
            "_view_module_version": "1.2.0",
            "_view_name": "LayoutView",
            "align_content": null,
            "align_items": null,
            "align_self": null,
            "border": null,
            "bottom": null,
            "display": null,
            "flex": null,
            "flex_flow": null,
            "grid_area": null,
            "grid_auto_columns": null,
            "grid_auto_flow": null,
            "grid_auto_rows": null,
            "grid_column": null,
            "grid_gap": null,
            "grid_row": null,
            "grid_template_areas": null,
            "grid_template_columns": null,
            "grid_template_rows": null,
            "height": null,
            "justify_content": null,
            "justify_items": null,
            "left": null,
            "margin": null,
            "max_height": null,
            "max_width": null,
            "min_height": null,
            "min_width": null,
            "object_fit": null,
            "object_position": null,
            "order": null,
            "overflow": null,
            "overflow_x": null,
            "overflow_y": null,
            "padding": null,
            "right": null,
            "top": null,
            "visibility": null,
            "width": null
          }
        },
        "4a12b639f52544538c8ca1bb2c1fb244": {
          "model_module": "@jupyter-widgets/controls",
          "model_name": "DescriptionStyleModel",
          "model_module_version": "1.5.0",
          "state": {
            "_model_module": "@jupyter-widgets/controls",
            "_model_module_version": "1.5.0",
            "_model_name": "DescriptionStyleModel",
            "_view_count": null,
            "_view_module": "@jupyter-widgets/base",
            "_view_module_version": "1.2.0",
            "_view_name": "StyleView",
            "description_width": ""
          }
        },
        "19ca64fa723248179baddd52d39c5a8b": {
          "model_module": "@jupyter-widgets/base",
          "model_name": "LayoutModel",
          "model_module_version": "1.2.0",
          "state": {
            "_model_module": "@jupyter-widgets/base",
            "_model_module_version": "1.2.0",
            "_model_name": "LayoutModel",
            "_view_count": null,
            "_view_module": "@jupyter-widgets/base",
            "_view_module_version": "1.2.0",
            "_view_name": "LayoutView",
            "align_content": null,
            "align_items": null,
            "align_self": null,
            "border": null,
            "bottom": null,
            "display": null,
            "flex": null,
            "flex_flow": null,
            "grid_area": null,
            "grid_auto_columns": null,
            "grid_auto_flow": null,
            "grid_auto_rows": null,
            "grid_column": null,
            "grid_gap": null,
            "grid_row": null,
            "grid_template_areas": null,
            "grid_template_columns": null,
            "grid_template_rows": null,
            "height": null,
            "justify_content": null,
            "justify_items": null,
            "left": null,
            "margin": null,
            "max_height": null,
            "max_width": null,
            "min_height": null,
            "min_width": null,
            "object_fit": null,
            "object_position": null,
            "order": null,
            "overflow": null,
            "overflow_x": null,
            "overflow_y": null,
            "padding": null,
            "right": null,
            "top": null,
            "visibility": null,
            "width": null
          }
        },
        "d7b5ab8997564f98927c8d2cfdb4f71f": {
          "model_module": "@jupyter-widgets/controls",
          "model_name": "ProgressStyleModel",
          "model_module_version": "1.5.0",
          "state": {
            "_model_module": "@jupyter-widgets/controls",
            "_model_module_version": "1.5.0",
            "_model_name": "ProgressStyleModel",
            "_view_count": null,
            "_view_module": "@jupyter-widgets/base",
            "_view_module_version": "1.2.0",
            "_view_name": "StyleView",
            "bar_color": null,
            "description_width": ""
          }
        },
        "e25c181951e748a183c619d1b7a5ca83": {
          "model_module": "@jupyter-widgets/base",
          "model_name": "LayoutModel",
          "model_module_version": "1.2.0",
          "state": {
            "_model_module": "@jupyter-widgets/base",
            "_model_module_version": "1.2.0",
            "_model_name": "LayoutModel",
            "_view_count": null,
            "_view_module": "@jupyter-widgets/base",
            "_view_module_version": "1.2.0",
            "_view_name": "LayoutView",
            "align_content": null,
            "align_items": null,
            "align_self": null,
            "border": null,
            "bottom": null,
            "display": null,
            "flex": null,
            "flex_flow": null,
            "grid_area": null,
            "grid_auto_columns": null,
            "grid_auto_flow": null,
            "grid_auto_rows": null,
            "grid_column": null,
            "grid_gap": null,
            "grid_row": null,
            "grid_template_areas": null,
            "grid_template_columns": null,
            "grid_template_rows": null,
            "height": null,
            "justify_content": null,
            "justify_items": null,
            "left": null,
            "margin": null,
            "max_height": null,
            "max_width": null,
            "min_height": null,
            "min_width": null,
            "object_fit": null,
            "object_position": null,
            "order": null,
            "overflow": null,
            "overflow_x": null,
            "overflow_y": null,
            "padding": null,
            "right": null,
            "top": null,
            "visibility": null,
            "width": null
          }
        },
        "bfea406115cb430b9cba4ceca2b5f293": {
          "model_module": "@jupyter-widgets/controls",
          "model_name": "DescriptionStyleModel",
          "model_module_version": "1.5.0",
          "state": {
            "_model_module": "@jupyter-widgets/controls",
            "_model_module_version": "1.5.0",
            "_model_name": "DescriptionStyleModel",
            "_view_count": null,
            "_view_module": "@jupyter-widgets/base",
            "_view_module_version": "1.2.0",
            "_view_name": "StyleView",
            "description_width": ""
          }
        },
        "01c7e013d40a40fd82c69ca107142ab7": {
          "model_module": "@jupyter-widgets/controls",
          "model_name": "HBoxModel",
          "model_module_version": "1.5.0",
          "state": {
            "_dom_classes": [],
            "_model_module": "@jupyter-widgets/controls",
            "_model_module_version": "1.5.0",
            "_model_name": "HBoxModel",
            "_view_count": null,
            "_view_module": "@jupyter-widgets/controls",
            "_view_module_version": "1.5.0",
            "_view_name": "HBoxView",
            "box_style": "",
            "children": [
              "IPY_MODEL_e1f2fdf3153546a4ac3c98f843ccbdfc",
              "IPY_MODEL_02926981b8504ed6a4b227d9be6782ce",
              "IPY_MODEL_711c3446883549da9ae05d4e7fe18777"
            ],
            "layout": "IPY_MODEL_46ee8000fac440548bfda21e9c11747f"
          }
        },
        "e1f2fdf3153546a4ac3c98f843ccbdfc": {
          "model_module": "@jupyter-widgets/controls",
          "model_name": "HTMLModel",
          "model_module_version": "1.5.0",
          "state": {
            "_dom_classes": [],
            "_model_module": "@jupyter-widgets/controls",
            "_model_module_version": "1.5.0",
            "_model_name": "HTMLModel",
            "_view_count": null,
            "_view_module": "@jupyter-widgets/controls",
            "_view_module_version": "1.5.0",
            "_view_name": "HTMLView",
            "description": "",
            "description_tooltip": null,
            "layout": "IPY_MODEL_543f982be3664660b19dd0c5a39f3421",
            "placeholder": "​",
            "style": "IPY_MODEL_d2955ce1ea1a46e993df72ac8f18e626",
            "value": "config.json: 100%"
          }
        },
        "02926981b8504ed6a4b227d9be6782ce": {
          "model_module": "@jupyter-widgets/controls",
          "model_name": "FloatProgressModel",
          "model_module_version": "1.5.0",
          "state": {
            "_dom_classes": [],
            "_model_module": "@jupyter-widgets/controls",
            "_model_module_version": "1.5.0",
            "_model_name": "FloatProgressModel",
            "_view_count": null,
            "_view_module": "@jupyter-widgets/controls",
            "_view_module_version": "1.5.0",
            "_view_name": "ProgressView",
            "bar_style": "success",
            "description": "",
            "description_tooltip": null,
            "layout": "IPY_MODEL_2276187bb7944be8ae16aa1d1406667e",
            "max": 808,
            "min": 0,
            "orientation": "horizontal",
            "style": "IPY_MODEL_abfaca5621a14edb943b7f5846541a78",
            "value": 808
          }
        },
        "711c3446883549da9ae05d4e7fe18777": {
          "model_module": "@jupyter-widgets/controls",
          "model_name": "HTMLModel",
          "model_module_version": "1.5.0",
          "state": {
            "_dom_classes": [],
            "_model_module": "@jupyter-widgets/controls",
            "_model_module_version": "1.5.0",
            "_model_name": "HTMLModel",
            "_view_count": null,
            "_view_module": "@jupyter-widgets/controls",
            "_view_module_version": "1.5.0",
            "_view_name": "HTMLView",
            "description": "",
            "description_tooltip": null,
            "layout": "IPY_MODEL_eb26800a81964e3b98f78c1d053e77f0",
            "placeholder": "​",
            "style": "IPY_MODEL_f4cf3d28dcdb43c28840ac387578c66a",
            "value": " 808/808 [00:00&lt;00:00, 47.6kB/s]"
          }
        },
        "46ee8000fac440548bfda21e9c11747f": {
          "model_module": "@jupyter-widgets/base",
          "model_name": "LayoutModel",
          "model_module_version": "1.2.0",
          "state": {
            "_model_module": "@jupyter-widgets/base",
            "_model_module_version": "1.2.0",
            "_model_name": "LayoutModel",
            "_view_count": null,
            "_view_module": "@jupyter-widgets/base",
            "_view_module_version": "1.2.0",
            "_view_name": "LayoutView",
            "align_content": null,
            "align_items": null,
            "align_self": null,
            "border": null,
            "bottom": null,
            "display": null,
            "flex": null,
            "flex_flow": null,
            "grid_area": null,
            "grid_auto_columns": null,
            "grid_auto_flow": null,
            "grid_auto_rows": null,
            "grid_column": null,
            "grid_gap": null,
            "grid_row": null,
            "grid_template_areas": null,
            "grid_template_columns": null,
            "grid_template_rows": null,
            "height": null,
            "justify_content": null,
            "justify_items": null,
            "left": null,
            "margin": null,
            "max_height": null,
            "max_width": null,
            "min_height": null,
            "min_width": null,
            "object_fit": null,
            "object_position": null,
            "order": null,
            "overflow": null,
            "overflow_x": null,
            "overflow_y": null,
            "padding": null,
            "right": null,
            "top": null,
            "visibility": null,
            "width": null
          }
        },
        "543f982be3664660b19dd0c5a39f3421": {
          "model_module": "@jupyter-widgets/base",
          "model_name": "LayoutModel",
          "model_module_version": "1.2.0",
          "state": {
            "_model_module": "@jupyter-widgets/base",
            "_model_module_version": "1.2.0",
            "_model_name": "LayoutModel",
            "_view_count": null,
            "_view_module": "@jupyter-widgets/base",
            "_view_module_version": "1.2.0",
            "_view_name": "LayoutView",
            "align_content": null,
            "align_items": null,
            "align_self": null,
            "border": null,
            "bottom": null,
            "display": null,
            "flex": null,
            "flex_flow": null,
            "grid_area": null,
            "grid_auto_columns": null,
            "grid_auto_flow": null,
            "grid_auto_rows": null,
            "grid_column": null,
            "grid_gap": null,
            "grid_row": null,
            "grid_template_areas": null,
            "grid_template_columns": null,
            "grid_template_rows": null,
            "height": null,
            "justify_content": null,
            "justify_items": null,
            "left": null,
            "margin": null,
            "max_height": null,
            "max_width": null,
            "min_height": null,
            "min_width": null,
            "object_fit": null,
            "object_position": null,
            "order": null,
            "overflow": null,
            "overflow_x": null,
            "overflow_y": null,
            "padding": null,
            "right": null,
            "top": null,
            "visibility": null,
            "width": null
          }
        },
        "d2955ce1ea1a46e993df72ac8f18e626": {
          "model_module": "@jupyter-widgets/controls",
          "model_name": "DescriptionStyleModel",
          "model_module_version": "1.5.0",
          "state": {
            "_model_module": "@jupyter-widgets/controls",
            "_model_module_version": "1.5.0",
            "_model_name": "DescriptionStyleModel",
            "_view_count": null,
            "_view_module": "@jupyter-widgets/base",
            "_view_module_version": "1.2.0",
            "_view_name": "StyleView",
            "description_width": ""
          }
        },
        "2276187bb7944be8ae16aa1d1406667e": {
          "model_module": "@jupyter-widgets/base",
          "model_name": "LayoutModel",
          "model_module_version": "1.2.0",
          "state": {
            "_model_module": "@jupyter-widgets/base",
            "_model_module_version": "1.2.0",
            "_model_name": "LayoutModel",
            "_view_count": null,
            "_view_module": "@jupyter-widgets/base",
            "_view_module_version": "1.2.0",
            "_view_name": "LayoutView",
            "align_content": null,
            "align_items": null,
            "align_self": null,
            "border": null,
            "bottom": null,
            "display": null,
            "flex": null,
            "flex_flow": null,
            "grid_area": null,
            "grid_auto_columns": null,
            "grid_auto_flow": null,
            "grid_auto_rows": null,
            "grid_column": null,
            "grid_gap": null,
            "grid_row": null,
            "grid_template_areas": null,
            "grid_template_columns": null,
            "grid_template_rows": null,
            "height": null,
            "justify_content": null,
            "justify_items": null,
            "left": null,
            "margin": null,
            "max_height": null,
            "max_width": null,
            "min_height": null,
            "min_width": null,
            "object_fit": null,
            "object_position": null,
            "order": null,
            "overflow": null,
            "overflow_x": null,
            "overflow_y": null,
            "padding": null,
            "right": null,
            "top": null,
            "visibility": null,
            "width": null
          }
        },
        "abfaca5621a14edb943b7f5846541a78": {
          "model_module": "@jupyter-widgets/controls",
          "model_name": "ProgressStyleModel",
          "model_module_version": "1.5.0",
          "state": {
            "_model_module": "@jupyter-widgets/controls",
            "_model_module_version": "1.5.0",
            "_model_name": "ProgressStyleModel",
            "_view_count": null,
            "_view_module": "@jupyter-widgets/base",
            "_view_module_version": "1.2.0",
            "_view_name": "StyleView",
            "bar_color": null,
            "description_width": ""
          }
        },
        "eb26800a81964e3b98f78c1d053e77f0": {
          "model_module": "@jupyter-widgets/base",
          "model_name": "LayoutModel",
          "model_module_version": "1.2.0",
          "state": {
            "_model_module": "@jupyter-widgets/base",
            "_model_module_version": "1.2.0",
            "_model_name": "LayoutModel",
            "_view_count": null,
            "_view_module": "@jupyter-widgets/base",
            "_view_module_version": "1.2.0",
            "_view_name": "LayoutView",
            "align_content": null,
            "align_items": null,
            "align_self": null,
            "border": null,
            "bottom": null,
            "display": null,
            "flex": null,
            "flex_flow": null,
            "grid_area": null,
            "grid_auto_columns": null,
            "grid_auto_flow": null,
            "grid_auto_rows": null,
            "grid_column": null,
            "grid_gap": null,
            "grid_row": null,
            "grid_template_areas": null,
            "grid_template_columns": null,
            "grid_template_rows": null,
            "height": null,
            "justify_content": null,
            "justify_items": null,
            "left": null,
            "margin": null,
            "max_height": null,
            "max_width": null,
            "min_height": null,
            "min_width": null,
            "object_fit": null,
            "object_position": null,
            "order": null,
            "overflow": null,
            "overflow_x": null,
            "overflow_y": null,
            "padding": null,
            "right": null,
            "top": null,
            "visibility": null,
            "width": null
          }
        },
        "f4cf3d28dcdb43c28840ac387578c66a": {
          "model_module": "@jupyter-widgets/controls",
          "model_name": "DescriptionStyleModel",
          "model_module_version": "1.5.0",
          "state": {
            "_model_module": "@jupyter-widgets/controls",
            "_model_module_version": "1.5.0",
            "_model_name": "DescriptionStyleModel",
            "_view_count": null,
            "_view_module": "@jupyter-widgets/base",
            "_view_module_version": "1.2.0",
            "_view_name": "StyleView",
            "description_width": ""
          }
        },
        "01ed423062104b58a8925da15ed2c3c1": {
          "model_module": "@jupyter-widgets/controls",
          "model_name": "HBoxModel",
          "model_module_version": "1.5.0",
          "state": {
            "_dom_classes": [],
            "_model_module": "@jupyter-widgets/controls",
            "_model_module_version": "1.5.0",
            "_model_name": "HBoxModel",
            "_view_count": null,
            "_view_module": "@jupyter-widgets/controls",
            "_view_module_version": "1.5.0",
            "_view_name": "HBoxView",
            "box_style": "",
            "children": [
              "IPY_MODEL_7dedb7081034492cb38d8a3a6c6bb65a",
              "IPY_MODEL_b73268df17794f058fb3a9fda676f07b",
              "IPY_MODEL_6e10b71a987c40a2a52169f195f01c53"
            ],
            "layout": "IPY_MODEL_0f775cf4eed643bdb24be322a30c023e"
          }
        },
        "7dedb7081034492cb38d8a3a6c6bb65a": {
          "model_module": "@jupyter-widgets/controls",
          "model_name": "HTMLModel",
          "model_module_version": "1.5.0",
          "state": {
            "_dom_classes": [],
            "_model_module": "@jupyter-widgets/controls",
            "_model_module_version": "1.5.0",
            "_model_name": "HTMLModel",
            "_view_count": null,
            "_view_module": "@jupyter-widgets/controls",
            "_view_module_version": "1.5.0",
            "_view_name": "HTMLView",
            "description": "",
            "description_tooltip": null,
            "layout": "IPY_MODEL_8005242f95b94c029594f1ca9aadeacb",
            "placeholder": "​",
            "style": "IPY_MODEL_2e8badedbf6344e7a926f10f0231c724",
            "value": "pytorch_model.bin: 100%"
          }
        },
        "b73268df17794f058fb3a9fda676f07b": {
          "model_module": "@jupyter-widgets/controls",
          "model_name": "FloatProgressModel",
          "model_module_version": "1.5.0",
          "state": {
            "_dom_classes": [],
            "_model_module": "@jupyter-widgets/controls",
            "_model_module_version": "1.5.0",
            "_model_name": "FloatProgressModel",
            "_view_count": null,
            "_view_module": "@jupyter-widgets/controls",
            "_view_module_version": "1.5.0",
            "_view_name": "ProgressView",
            "bar_style": "success",
            "description": "",
            "description_tooltip": null,
            "layout": "IPY_MODEL_fdb81ee34de14f95a81496e3774d22a7",
            "max": 437998385,
            "min": 0,
            "orientation": "horizontal",
            "style": "IPY_MODEL_8a53c06c391645f1ba93876e8b4646db",
            "value": 437998385
          }
        },
        "6e10b71a987c40a2a52169f195f01c53": {
          "model_module": "@jupyter-widgets/controls",
          "model_name": "HTMLModel",
          "model_module_version": "1.5.0",
          "state": {
            "_dom_classes": [],
            "_model_module": "@jupyter-widgets/controls",
            "_model_module_version": "1.5.0",
            "_model_name": "HTMLModel",
            "_view_count": null,
            "_view_module": "@jupyter-widgets/controls",
            "_view_module_version": "1.5.0",
            "_view_name": "HTMLView",
            "description": "",
            "description_tooltip": null,
            "layout": "IPY_MODEL_144087d3b1804468b1592622e1ae356c",
            "placeholder": "​",
            "style": "IPY_MODEL_4ea21bab4b7242e8b2f43089926ee156",
            "value": " 438M/438M [00:10&lt;00:00, 34.2MB/s]"
          }
        },
        "0f775cf4eed643bdb24be322a30c023e": {
          "model_module": "@jupyter-widgets/base",
          "model_name": "LayoutModel",
          "model_module_version": "1.2.0",
          "state": {
            "_model_module": "@jupyter-widgets/base",
            "_model_module_version": "1.2.0",
            "_model_name": "LayoutModel",
            "_view_count": null,
            "_view_module": "@jupyter-widgets/base",
            "_view_module_version": "1.2.0",
            "_view_name": "LayoutView",
            "align_content": null,
            "align_items": null,
            "align_self": null,
            "border": null,
            "bottom": null,
            "display": null,
            "flex": null,
            "flex_flow": null,
            "grid_area": null,
            "grid_auto_columns": null,
            "grid_auto_flow": null,
            "grid_auto_rows": null,
            "grid_column": null,
            "grid_gap": null,
            "grid_row": null,
            "grid_template_areas": null,
            "grid_template_columns": null,
            "grid_template_rows": null,
            "height": null,
            "justify_content": null,
            "justify_items": null,
            "left": null,
            "margin": null,
            "max_height": null,
            "max_width": null,
            "min_height": null,
            "min_width": null,
            "object_fit": null,
            "object_position": null,
            "order": null,
            "overflow": null,
            "overflow_x": null,
            "overflow_y": null,
            "padding": null,
            "right": null,
            "top": null,
            "visibility": null,
            "width": null
          }
        },
        "8005242f95b94c029594f1ca9aadeacb": {
          "model_module": "@jupyter-widgets/base",
          "model_name": "LayoutModel",
          "model_module_version": "1.2.0",
          "state": {
            "_model_module": "@jupyter-widgets/base",
            "_model_module_version": "1.2.0",
            "_model_name": "LayoutModel",
            "_view_count": null,
            "_view_module": "@jupyter-widgets/base",
            "_view_module_version": "1.2.0",
            "_view_name": "LayoutView",
            "align_content": null,
            "align_items": null,
            "align_self": null,
            "border": null,
            "bottom": null,
            "display": null,
            "flex": null,
            "flex_flow": null,
            "grid_area": null,
            "grid_auto_columns": null,
            "grid_auto_flow": null,
            "grid_auto_rows": null,
            "grid_column": null,
            "grid_gap": null,
            "grid_row": null,
            "grid_template_areas": null,
            "grid_template_columns": null,
            "grid_template_rows": null,
            "height": null,
            "justify_content": null,
            "justify_items": null,
            "left": null,
            "margin": null,
            "max_height": null,
            "max_width": null,
            "min_height": null,
            "min_width": null,
            "object_fit": null,
            "object_position": null,
            "order": null,
            "overflow": null,
            "overflow_x": null,
            "overflow_y": null,
            "padding": null,
            "right": null,
            "top": null,
            "visibility": null,
            "width": null
          }
        },
        "2e8badedbf6344e7a926f10f0231c724": {
          "model_module": "@jupyter-widgets/controls",
          "model_name": "DescriptionStyleModel",
          "model_module_version": "1.5.0",
          "state": {
            "_model_module": "@jupyter-widgets/controls",
            "_model_module_version": "1.5.0",
            "_model_name": "DescriptionStyleModel",
            "_view_count": null,
            "_view_module": "@jupyter-widgets/base",
            "_view_module_version": "1.2.0",
            "_view_name": "StyleView",
            "description_width": ""
          }
        },
        "fdb81ee34de14f95a81496e3774d22a7": {
          "model_module": "@jupyter-widgets/base",
          "model_name": "LayoutModel",
          "model_module_version": "1.2.0",
          "state": {
            "_model_module": "@jupyter-widgets/base",
            "_model_module_version": "1.2.0",
            "_model_name": "LayoutModel",
            "_view_count": null,
            "_view_module": "@jupyter-widgets/base",
            "_view_module_version": "1.2.0",
            "_view_name": "LayoutView",
            "align_content": null,
            "align_items": null,
            "align_self": null,
            "border": null,
            "bottom": null,
            "display": null,
            "flex": null,
            "flex_flow": null,
            "grid_area": null,
            "grid_auto_columns": null,
            "grid_auto_flow": null,
            "grid_auto_rows": null,
            "grid_column": null,
            "grid_gap": null,
            "grid_row": null,
            "grid_template_areas": null,
            "grid_template_columns": null,
            "grid_template_rows": null,
            "height": null,
            "justify_content": null,
            "justify_items": null,
            "left": null,
            "margin": null,
            "max_height": null,
            "max_width": null,
            "min_height": null,
            "min_width": null,
            "object_fit": null,
            "object_position": null,
            "order": null,
            "overflow": null,
            "overflow_x": null,
            "overflow_y": null,
            "padding": null,
            "right": null,
            "top": null,
            "visibility": null,
            "width": null
          }
        },
        "8a53c06c391645f1ba93876e8b4646db": {
          "model_module": "@jupyter-widgets/controls",
          "model_name": "ProgressStyleModel",
          "model_module_version": "1.5.0",
          "state": {
            "_model_module": "@jupyter-widgets/controls",
            "_model_module_version": "1.5.0",
            "_model_name": "ProgressStyleModel",
            "_view_count": null,
            "_view_module": "@jupyter-widgets/base",
            "_view_module_version": "1.2.0",
            "_view_name": "StyleView",
            "bar_color": null,
            "description_width": ""
          }
        },
        "144087d3b1804468b1592622e1ae356c": {
          "model_module": "@jupyter-widgets/base",
          "model_name": "LayoutModel",
          "model_module_version": "1.2.0",
          "state": {
            "_model_module": "@jupyter-widgets/base",
            "_model_module_version": "1.2.0",
            "_model_name": "LayoutModel",
            "_view_count": null,
            "_view_module": "@jupyter-widgets/base",
            "_view_module_version": "1.2.0",
            "_view_name": "LayoutView",
            "align_content": null,
            "align_items": null,
            "align_self": null,
            "border": null,
            "bottom": null,
            "display": null,
            "flex": null,
            "flex_flow": null,
            "grid_area": null,
            "grid_auto_columns": null,
            "grid_auto_flow": null,
            "grid_auto_rows": null,
            "grid_column": null,
            "grid_gap": null,
            "grid_row": null,
            "grid_template_areas": null,
            "grid_template_columns": null,
            "grid_template_rows": null,
            "height": null,
            "justify_content": null,
            "justify_items": null,
            "left": null,
            "margin": null,
            "max_height": null,
            "max_width": null,
            "min_height": null,
            "min_width": null,
            "object_fit": null,
            "object_position": null,
            "order": null,
            "overflow": null,
            "overflow_x": null,
            "overflow_y": null,
            "padding": null,
            "right": null,
            "top": null,
            "visibility": null,
            "width": null
          }
        },
        "4ea21bab4b7242e8b2f43089926ee156": {
          "model_module": "@jupyter-widgets/controls",
          "model_name": "DescriptionStyleModel",
          "model_module_version": "1.5.0",
          "state": {
            "_model_module": "@jupyter-widgets/controls",
            "_model_module_version": "1.5.0",
            "_model_name": "DescriptionStyleModel",
            "_view_count": null,
            "_view_module": "@jupyter-widgets/base",
            "_view_module_version": "1.2.0",
            "_view_name": "StyleView",
            "description_width": ""
          }
        },
        "bbcf4d3b1fc44c02a7ed374d44e1c5d8": {
          "model_module": "@jupyter-widgets/controls",
          "model_name": "HBoxModel",
          "model_module_version": "1.5.0",
          "state": {
            "_dom_classes": [],
            "_model_module": "@jupyter-widgets/controls",
            "_model_module_version": "1.5.0",
            "_model_name": "HBoxModel",
            "_view_count": null,
            "_view_module": "@jupyter-widgets/controls",
            "_view_module_version": "1.5.0",
            "_view_name": "HBoxView",
            "box_style": "",
            "children": [
              "IPY_MODEL_1807aa9628da47ff9c4cd01e934680b3",
              "IPY_MODEL_6c02ad3736fa40419cfd5128b620d37c",
              "IPY_MODEL_5393c4bda4c04400a683af3364ce5758"
            ],
            "layout": "IPY_MODEL_dfb45db2aa5749d8ba1922f49db2a5c3"
          }
        },
        "1807aa9628da47ff9c4cd01e934680b3": {
          "model_module": "@jupyter-widgets/controls",
          "model_name": "HTMLModel",
          "model_module_version": "1.5.0",
          "state": {
            "_dom_classes": [],
            "_model_module": "@jupyter-widgets/controls",
            "_model_module_version": "1.5.0",
            "_model_name": "HTMLModel",
            "_view_count": null,
            "_view_module": "@jupyter-widgets/controls",
            "_view_module_version": "1.5.0",
            "_view_name": "HTMLView",
            "description": "",
            "description_tooltip": null,
            "layout": "IPY_MODEL_69105c6c42af451eafe6ad4614bb884f",
            "placeholder": "​",
            "style": "IPY_MODEL_0e2e68eb938341c78a779050e1bddac0",
            "value": "tokenizer.json: 100%"
          }
        },
        "6c02ad3736fa40419cfd5128b620d37c": {
          "model_module": "@jupyter-widgets/controls",
          "model_name": "FloatProgressModel",
          "model_module_version": "1.5.0",
          "state": {
            "_dom_classes": [],
            "_model_module": "@jupyter-widgets/controls",
            "_model_module_version": "1.5.0",
            "_model_name": "FloatProgressModel",
            "_view_count": null,
            "_view_module": "@jupyter-widgets/controls",
            "_view_module_version": "1.5.0",
            "_view_name": "ProgressView",
            "bar_style": "success",
            "description": "",
            "description_tooltip": null,
            "layout": "IPY_MODEL_4baffa8573924c4f88d2b716265aa702",
            "max": 711648,
            "min": 0,
            "orientation": "horizontal",
            "style": "IPY_MODEL_b34301fcc1e3447ca8b5a955c1774bf9",
            "value": 711648
          }
        },
        "5393c4bda4c04400a683af3364ce5758": {
          "model_module": "@jupyter-widgets/controls",
          "model_name": "HTMLModel",
          "model_module_version": "1.5.0",
          "state": {
            "_dom_classes": [],
            "_model_module": "@jupyter-widgets/controls",
            "_model_module_version": "1.5.0",
            "_model_name": "HTMLModel",
            "_view_count": null,
            "_view_module": "@jupyter-widgets/controls",
            "_view_module_version": "1.5.0",
            "_view_name": "HTMLView",
            "description": "",
            "description_tooltip": null,
            "layout": "IPY_MODEL_05a0b2a9a3b64ef6a2c1bfe3ac2e9849",
            "placeholder": "​",
            "style": "IPY_MODEL_56f3b2f76321471b833a04f157de2c3e",
            "value": " 712k/712k [00:00&lt;00:00, 2.76MB/s]"
          }
        },
        "dfb45db2aa5749d8ba1922f49db2a5c3": {
          "model_module": "@jupyter-widgets/base",
          "model_name": "LayoutModel",
          "model_module_version": "1.2.0",
          "state": {
            "_model_module": "@jupyter-widgets/base",
            "_model_module_version": "1.2.0",
            "_model_name": "LayoutModel",
            "_view_count": null,
            "_view_module": "@jupyter-widgets/base",
            "_view_module_version": "1.2.0",
            "_view_name": "LayoutView",
            "align_content": null,
            "align_items": null,
            "align_self": null,
            "border": null,
            "bottom": null,
            "display": null,
            "flex": null,
            "flex_flow": null,
            "grid_area": null,
            "grid_auto_columns": null,
            "grid_auto_flow": null,
            "grid_auto_rows": null,
            "grid_column": null,
            "grid_gap": null,
            "grid_row": null,
            "grid_template_areas": null,
            "grid_template_columns": null,
            "grid_template_rows": null,
            "height": null,
            "justify_content": null,
            "justify_items": null,
            "left": null,
            "margin": null,
            "max_height": null,
            "max_width": null,
            "min_height": null,
            "min_width": null,
            "object_fit": null,
            "object_position": null,
            "order": null,
            "overflow": null,
            "overflow_x": null,
            "overflow_y": null,
            "padding": null,
            "right": null,
            "top": null,
            "visibility": null,
            "width": null
          }
        },
        "69105c6c42af451eafe6ad4614bb884f": {
          "model_module": "@jupyter-widgets/base",
          "model_name": "LayoutModel",
          "model_module_version": "1.2.0",
          "state": {
            "_model_module": "@jupyter-widgets/base",
            "_model_module_version": "1.2.0",
            "_model_name": "LayoutModel",
            "_view_count": null,
            "_view_module": "@jupyter-widgets/base",
            "_view_module_version": "1.2.0",
            "_view_name": "LayoutView",
            "align_content": null,
            "align_items": null,
            "align_self": null,
            "border": null,
            "bottom": null,
            "display": null,
            "flex": null,
            "flex_flow": null,
            "grid_area": null,
            "grid_auto_columns": null,
            "grid_auto_flow": null,
            "grid_auto_rows": null,
            "grid_column": null,
            "grid_gap": null,
            "grid_row": null,
            "grid_template_areas": null,
            "grid_template_columns": null,
            "grid_template_rows": null,
            "height": null,
            "justify_content": null,
            "justify_items": null,
            "left": null,
            "margin": null,
            "max_height": null,
            "max_width": null,
            "min_height": null,
            "min_width": null,
            "object_fit": null,
            "object_position": null,
            "order": null,
            "overflow": null,
            "overflow_x": null,
            "overflow_y": null,
            "padding": null,
            "right": null,
            "top": null,
            "visibility": null,
            "width": null
          }
        },
        "0e2e68eb938341c78a779050e1bddac0": {
          "model_module": "@jupyter-widgets/controls",
          "model_name": "DescriptionStyleModel",
          "model_module_version": "1.5.0",
          "state": {
            "_model_module": "@jupyter-widgets/controls",
            "_model_module_version": "1.5.0",
            "_model_name": "DescriptionStyleModel",
            "_view_count": null,
            "_view_module": "@jupyter-widgets/base",
            "_view_module_version": "1.2.0",
            "_view_name": "StyleView",
            "description_width": ""
          }
        },
        "4baffa8573924c4f88d2b716265aa702": {
          "model_module": "@jupyter-widgets/base",
          "model_name": "LayoutModel",
          "model_module_version": "1.2.0",
          "state": {
            "_model_module": "@jupyter-widgets/base",
            "_model_module_version": "1.2.0",
            "_model_name": "LayoutModel",
            "_view_count": null,
            "_view_module": "@jupyter-widgets/base",
            "_view_module_version": "1.2.0",
            "_view_name": "LayoutView",
            "align_content": null,
            "align_items": null,
            "align_self": null,
            "border": null,
            "bottom": null,
            "display": null,
            "flex": null,
            "flex_flow": null,
            "grid_area": null,
            "grid_auto_columns": null,
            "grid_auto_flow": null,
            "grid_auto_rows": null,
            "grid_column": null,
            "grid_gap": null,
            "grid_row": null,
            "grid_template_areas": null,
            "grid_template_columns": null,
            "grid_template_rows": null,
            "height": null,
            "justify_content": null,
            "justify_items": null,
            "left": null,
            "margin": null,
            "max_height": null,
            "max_width": null,
            "min_height": null,
            "min_width": null,
            "object_fit": null,
            "object_position": null,
            "order": null,
            "overflow": null,
            "overflow_x": null,
            "overflow_y": null,
            "padding": null,
            "right": null,
            "top": null,
            "visibility": null,
            "width": null
          }
        },
        "b34301fcc1e3447ca8b5a955c1774bf9": {
          "model_module": "@jupyter-widgets/controls",
          "model_name": "ProgressStyleModel",
          "model_module_version": "1.5.0",
          "state": {
            "_model_module": "@jupyter-widgets/controls",
            "_model_module_version": "1.5.0",
            "_model_name": "ProgressStyleModel",
            "_view_count": null,
            "_view_module": "@jupyter-widgets/base",
            "_view_module_version": "1.2.0",
            "_view_name": "StyleView",
            "bar_color": null,
            "description_width": ""
          }
        },
        "05a0b2a9a3b64ef6a2c1bfe3ac2e9849": {
          "model_module": "@jupyter-widgets/base",
          "model_name": "LayoutModel",
          "model_module_version": "1.2.0",
          "state": {
            "_model_module": "@jupyter-widgets/base",
            "_model_module_version": "1.2.0",
            "_model_name": "LayoutModel",
            "_view_count": null,
            "_view_module": "@jupyter-widgets/base",
            "_view_module_version": "1.2.0",
            "_view_name": "LayoutView",
            "align_content": null,
            "align_items": null,
            "align_self": null,
            "border": null,
            "bottom": null,
            "display": null,
            "flex": null,
            "flex_flow": null,
            "grid_area": null,
            "grid_auto_columns": null,
            "grid_auto_flow": null,
            "grid_auto_rows": null,
            "grid_column": null,
            "grid_gap": null,
            "grid_row": null,
            "grid_template_areas": null,
            "grid_template_columns": null,
            "grid_template_rows": null,
            "height": null,
            "justify_content": null,
            "justify_items": null,
            "left": null,
            "margin": null,
            "max_height": null,
            "max_width": null,
            "min_height": null,
            "min_width": null,
            "object_fit": null,
            "object_position": null,
            "order": null,
            "overflow": null,
            "overflow_x": null,
            "overflow_y": null,
            "padding": null,
            "right": null,
            "top": null,
            "visibility": null,
            "width": null
          }
        },
        "56f3b2f76321471b833a04f157de2c3e": {
          "model_module": "@jupyter-widgets/controls",
          "model_name": "DescriptionStyleModel",
          "model_module_version": "1.5.0",
          "state": {
            "_model_module": "@jupyter-widgets/controls",
            "_model_module_version": "1.5.0",
            "_model_name": "DescriptionStyleModel",
            "_view_count": null,
            "_view_module": "@jupyter-widgets/base",
            "_view_module_version": "1.2.0",
            "_view_name": "StyleView",
            "description_width": ""
          }
        }
      }
    }
  },
  "cells": [
    {
      "cell_type": "code",
      "execution_count": 1,
      "metadata": {
        "id": "6AefNXzPtw2L"
      },
      "outputs": [],
      "source": [
        "%%capture\n",
        "!pip install -qU langchain huggingface_hub chromadb pypdf python-dotenv transformers sentence-transformers\n"
      ]
    },
    {
      "cell_type": "code",
      "source": [
        "from langchain.llms import HuggingFaceHub\n",
        "from langchain.document_loaders import PyPDFLoader\n",
        "from langchain.vectorstores import Chroma\n",
        "from langchain.text_splitter import RecursiveCharacterTextSplitter\n",
        "from langchain.embeddings import SentenceTransformerEmbeddings\n",
        "from langchain.prompts import PromptTemplate\n",
        "from dotenv import load_dotenv\n"
      ],
      "metadata": {
        "id": "fN-729mgutdh"
      },
      "execution_count": 3,
      "outputs": []
    },
    {
      "cell_type": "code",
      "source": [
        "import os\n",
        "from getpass import getpass\n",
        "os.environ[\"HUGGINGFACEHUB_API_TOKEN\"] = getpass(\"Enter HuggingFace Hub Token:\")"
      ],
      "metadata": {
        "colab": {
          "base_uri": "https://localhost:8080/"
        },
        "id": "3VYWrLse4EEl",
        "outputId": "aa3d4951-fa60-4da0-a598-2027f40b9839"
      },
      "execution_count": 4,
      "outputs": [
        {
          "name": "stdout",
          "output_type": "stream",
          "text": [
            "Enter HuggingFace Hub Token:··········\n"
          ]
        }
      ]
    },
    {
      "cell_type": "code",
      "source": [
        "loader = PyPDFLoader(\"/content/Documents/CommonInsuranceTerms.pdf\")\n",
        "documents = loader.load()\n",
        "print(len(documents))\n",
        "print(documents[0].page_content)"
      ],
      "metadata": {
        "colab": {
          "base_uri": "https://localhost:8080/"
        },
        "id": "ge8Owc9a4H6b",
        "outputId": "7ed2f196-f4ef-486d-ec32-6f5af3e73bb0"
      },
      "execution_count": 7,
      "outputs": [
        {
          "output_type": "stream",
          "name": "stdout",
          "text": [
            "16\n",
            "Glossary of Common Insurance Terms \n",
            "NOTICE:  This document is for informational purposes only and is not in tended to alter or replace the \n",
            "insurance policy. Additionally, this informational sheet is not  intended to fully set out your rights and \n",
            "obligations or the rights and obligations of the insurance comp any. If you have questions about your insurance, \n",
            "you should consult your insurance agent, the insurance company,  or the language of the insurance policy. \n",
            "A \n",
            "Accelerated death benefits  - An insurance policy with an accelerated death benefits provi sion will pay - \n",
            "under certain conditions - all or part of the policy death bene fits while the policyholder is still alive. These \n",
            "conditions include proof that the policyholder is terminally il l, has a specified life-thr eatening disease or is in a \n",
            "long-term care facility such as a nursing home. By accepting an  accelerated benefit payment, a person could be \n",
            "ruled ineligible for Medicaid or  other government benefits. The  proceeds may also be taxable. \n",
            "Accident  - An unforeseen, unintended event. \n",
            "Accident-only policies  - Policies that pay only in cas es arising from an accident or injury. \n",
            "Accidental death benefits  - If a life insurance policy includes an accidental death bene fit, the cause of death \n",
            "will be examined to determine whether the insured´s death meets  the policy´s definition of accidental. \n",
            "Actual cash value (ACV)  - The value of your property, based on the current cost to rep lace it minus \n",
            "depreciation. Also see \"replacement cost.\" \n",
            "Additional livin g expenses (ALE)  - Reimburses the policyholder for the cost of temporary housin g, food, and \n",
            "other essential living expenses, if the home is damaged by a co vered peril that makes the home temporarily \n",
            "uninhabitable.  \n",
            "Adjuster  - An individual employed by an insurer to evaluate losses and settle policyholder claims.  \n",
            "Administrative expense charge  - An amount deducted, usually monthly, from the policy. \n",
            "Agent  - A person who sells insurance policies. Must be licensed by t he Alabama Department of Insurance to \n",
            "legally sell and transact insurance business.  \n",
            "Annuitant  - A person who receives the payments from an annuity during hi s or her lifetime. \n"
          ]
        }
      ]
    },
    {
      "cell_type": "code",
      "source": [
        "text_splitter = RecursiveCharacterTextSplitter(chunk_size=700,chunk_overlap=70)\n",
        "split_documents = text_splitter.split_documents(documents)\n",
        "print(len(split_documents))\n",
        "print(split_documents[0])"
      ],
      "metadata": {
        "colab": {
          "base_uri": "https://localhost:8080/"
        },
        "id": "MePpO8O04Wsg",
        "outputId": "8d928dc1-33d8-432a-eefc-5d12309333d8"
      },
      "execution_count": 8,
      "outputs": [
        {
          "output_type": "stream",
          "name": "stdout",
          "text": [
            "65\n",
            "page_content='Glossary of Common Insurance Terms \\nNOTICE:  This document is for informational purposes only and is not in tended to alter or replace the \\ninsurance policy. Additionally, this informational sheet is not  intended to fully set out your rights and \\nobligations or the rights and obligations of the insurance comp any. If you have questions about your insurance, \\nyou should consult your insurance agent, the insurance company,  or the language of the insurance policy. \\nA \\nAccelerated death benefits  - An insurance policy with an accelerated death benefits provi sion will pay - \\nunder certain conditions - all or part of the policy death bene fits while the policyholder is still alive. These' metadata={'source': '/content/Documents/CommonInsuranceTerms.pdf', 'page': 0}\n"
          ]
        }
      ]
    },
    {
      "cell_type": "code",
      "source": [
        "embeddings = SentenceTransformerEmbeddings(model_name=\"llmware/industry-bert-insurance-v0.1\")\n"
      ],
      "metadata": {
        "colab": {
          "base_uri": "https://localhost:8080/",
          "height": 318,
          "referenced_widgets": [
            "ceda4c80522b4f4997ac7fe5d1201845",
            "25fb7524028a45dea56852e78a311b0e",
            "2dddcdc6f65e469688d99ba16aec998f",
            "8e2a9d7c1a474b9caf073a13010c3c40",
            "c97bd41db5864fac899a5ddee49d9b10",
            "731f3253786e4d47947d1c4bc9f203bf",
            "b12f0e3089664573a624cd030961bc36",
            "38157e2d1ad04a7ab2a9eb2081bb00ff",
            "8df55cf57f074cb78ebc079014625bc2",
            "11f5d8e3698c4ec187665efc66cb7179",
            "7c7603a86e4b4203a011efc972ab201b",
            "67eb02c5c0c3411182f580162d8808c2",
            "1b92e88decc640308df7ee3768ce6f8f",
            "f1b2eece9a9945039b32553876829500",
            "a30a45d95e814e709458d2af6b95bbe1",
            "46cd0e3cd739430aac36f4d73144e6d7",
            "2c27520f4c5948e38f7835589c904560",
            "4a12b639f52544538c8ca1bb2c1fb244",
            "19ca64fa723248179baddd52d39c5a8b",
            "d7b5ab8997564f98927c8d2cfdb4f71f",
            "e25c181951e748a183c619d1b7a5ca83",
            "bfea406115cb430b9cba4ceca2b5f293",
            "01c7e013d40a40fd82c69ca107142ab7",
            "e1f2fdf3153546a4ac3c98f843ccbdfc",
            "02926981b8504ed6a4b227d9be6782ce",
            "711c3446883549da9ae05d4e7fe18777",
            "46ee8000fac440548bfda21e9c11747f",
            "543f982be3664660b19dd0c5a39f3421",
            "d2955ce1ea1a46e993df72ac8f18e626",
            "2276187bb7944be8ae16aa1d1406667e",
            "abfaca5621a14edb943b7f5846541a78",
            "eb26800a81964e3b98f78c1d053e77f0",
            "f4cf3d28dcdb43c28840ac387578c66a",
            "01ed423062104b58a8925da15ed2c3c1",
            "7dedb7081034492cb38d8a3a6c6bb65a",
            "b73268df17794f058fb3a9fda676f07b",
            "6e10b71a987c40a2a52169f195f01c53",
            "0f775cf4eed643bdb24be322a30c023e",
            "8005242f95b94c029594f1ca9aadeacb",
            "2e8badedbf6344e7a926f10f0231c724",
            "fdb81ee34de14f95a81496e3774d22a7",
            "8a53c06c391645f1ba93876e8b4646db",
            "144087d3b1804468b1592622e1ae356c",
            "4ea21bab4b7242e8b2f43089926ee156",
            "bbcf4d3b1fc44c02a7ed374d44e1c5d8",
            "1807aa9628da47ff9c4cd01e934680b3",
            "6c02ad3736fa40419cfd5128b620d37c",
            "5393c4bda4c04400a683af3364ce5758",
            "dfb45db2aa5749d8ba1922f49db2a5c3",
            "69105c6c42af451eafe6ad4614bb884f",
            "0e2e68eb938341c78a779050e1bddac0",
            "4baffa8573924c4f88d2b716265aa702",
            "b34301fcc1e3447ca8b5a955c1774bf9",
            "05a0b2a9a3b64ef6a2c1bfe3ac2e9849",
            "56f3b2f76321471b833a04f157de2c3e"
          ]
        },
        "id": "RUBnGBYy4vtL",
        "outputId": "d71b39d1-453d-4be3-885f-908aae2de5b3"
      },
      "execution_count": 9,
      "outputs": [
        {
          "output_type": "stream",
          "name": "stderr",
          "text": [
            "/usr/local/lib/python3.10/dist-packages/huggingface_hub/utils/_token.py:72: UserWarning: \n",
            "The secret `HF_TOKEN` does not exist in your Colab secrets.\n",
            "To authenticate with the Hugging Face Hub, create a token in your settings tab (https://huggingface.co/settings/tokens), set it as secret in your Google Colab and restart your session.\n",
            "You will be able to reuse this secret in all of your notebooks.\n",
            "Please note that authentication is recommended but still optional to access public models or datasets.\n",
            "  warnings.warn(\n"
          ]
        },
        {
          "output_type": "display_data",
          "data": {
            "text/plain": [
              ".gitattributes:   0%|          | 0.00/1.52k [00:00<?, ?B/s]"
            ],
            "application/vnd.jupyter.widget-view+json": {
              "version_major": 2,
              "version_minor": 0,
              "model_id": "ceda4c80522b4f4997ac7fe5d1201845"
            }
          },
          "metadata": {}
        },
        {
          "output_type": "display_data",
          "data": {
            "text/plain": [
              "README.md:   0%|          | 0.00/3.77k [00:00<?, ?B/s]"
            ],
            "application/vnd.jupyter.widget-view+json": {
              "version_major": 2,
              "version_minor": 0,
              "model_id": "67eb02c5c0c3411182f580162d8808c2"
            }
          },
          "metadata": {}
        },
        {
          "output_type": "display_data",
          "data": {
            "text/plain": [
              "config.json:   0%|          | 0.00/808 [00:00<?, ?B/s]"
            ],
            "application/vnd.jupyter.widget-view+json": {
              "version_major": 2,
              "version_minor": 0,
              "model_id": "01c7e013d40a40fd82c69ca107142ab7"
            }
          },
          "metadata": {}
        },
        {
          "output_type": "display_data",
          "data": {
            "text/plain": [
              "pytorch_model.bin:   0%|          | 0.00/438M [00:00<?, ?B/s]"
            ],
            "application/vnd.jupyter.widget-view+json": {
              "version_major": 2,
              "version_minor": 0,
              "model_id": "01ed423062104b58a8925da15ed2c3c1"
            }
          },
          "metadata": {}
        },
        {
          "output_type": "display_data",
          "data": {
            "text/plain": [
              "tokenizer.json:   0%|          | 0.00/712k [00:00<?, ?B/s]"
            ],
            "application/vnd.jupyter.widget-view+json": {
              "version_major": 2,
              "version_minor": 0,
              "model_id": "bbcf4d3b1fc44c02a7ed374d44e1c5d8"
            }
          },
          "metadata": {}
        },
        {
          "output_type": "stream",
          "name": "stderr",
          "text": [
            "WARNING:sentence_transformers.SentenceTransformer:No sentence-transformers model found with name /root/.cache/torch/sentence_transformers/llmware_industry-bert-insurance-v0.1. Creating a new one with MEAN pooling.\n"
          ]
        }
      ]
    },
    {
      "cell_type": "code",
      "source": [
        "model_id =\"llmware/bling-sheared-llama-1.3b-0.1\"\n",
        "llm = HuggingFaceHub(\n",
        "    repo_id=model_id,\n",
        "    model_kwargs = {\"temperature\":0.3,\"max_length\":500}\n",
        ")"
      ],
      "metadata": {
        "colab": {
          "base_uri": "https://localhost:8080/"
        },
        "id": "srYgK1jp5BWh",
        "outputId": "030c2c09-554a-4d0a-9b6b-0014d1afdad2"
      },
      "execution_count": 10,
      "outputs": [
        {
          "output_type": "stream",
          "name": "stderr",
          "text": [
            "/usr/local/lib/python3.10/dist-packages/huggingface_hub/utils/_deprecation.py:131: FutureWarning: 'InferenceApi' (from 'huggingface_hub.inference_api') is deprecated and will be removed from version '1.0'. `InferenceApi` client is deprecated in favor of the more feature-complete `InferenceClient`. Check out this guide to learn how to convert your script to use it: https://huggingface.co/docs/huggingface_hub/guides/inference#legacy-inferenceapi-client.\n",
            "  warnings.warn(warning_message, FutureWarning)\n"
          ]
        }
      ]
    },
    {
      "cell_type": "markdown",
      "source": [
        "**Helper Function to Print docs**"
      ],
      "metadata": {
        "id": "Zn3VzGJY5Xx-"
      }
    },
    {
      "cell_type": "code",
      "source": [
        "def pretty_print_docs(docs):\n",
        "  print(f\"\\n{'-'* 100}\\n\".join([F\"Document{i+1}:\\n\\n\" + d.page_content for i,d in enumerate(docs)]))"
      ],
      "metadata": {
        "id": "zj4rLJC45V1j"
      },
      "execution_count": 11,
      "outputs": []
    },
    {
      "cell_type": "markdown",
      "source": [
        "**Setup VectorStore**"
      ],
      "metadata": {
        "id": "no3OfXQ355yT"
      }
    },
    {
      "cell_type": "code",
      "source": [
        "vectorstore = Chroma.from_documents(\n",
        "    split_documents,\n",
        "    embeddings,\n",
        "    collection_metadata={\"hnsw:space\":\"cosine\"},\n",
        "    persist_directory=\"/content/stores/insurance\")\n",
        "vectorstore.persist()"
      ],
      "metadata": {
        "id": "GQWRj86X58qT"
      },
      "execution_count": 12,
      "outputs": []
    },
    {
      "cell_type": "markdown",
      "source": [
        "**Setup Retriever**"
      ],
      "metadata": {
        "id": "PUK58qKu6a91"
      }
    },
    {
      "cell_type": "code",
      "source": [
        "retriever = vectorstore.as_retriever(search_kwargs={\"k\":2})\n"
      ],
      "metadata": {
        "id": "J0FkaWXz6eVl"
      },
      "execution_count": 13,
      "outputs": []
    },
    {
      "cell_type": "markdown",
      "source": [
        "**Get relevant context matching the query**"
      ],
      "metadata": {
        "id": "AeMawx1r6nPm"
      }
    },
    {
      "cell_type": "code",
      "source": [
        "docs = retriever.get_relevant_documents(query=\"What is Group Life Insurance\")\n",
        "pretty_print_docs(docs)"
      ],
      "metadata": {
        "colab": {
          "base_uri": "https://localhost:8080/"
        },
        "id": "FJlYqPPU6rlD",
        "outputId": "34df5b4d-89ff-463d-f70a-d44efa020227"
      },
      "execution_count": 14,
      "outputs": [
        {
          "output_type": "stream",
          "name": "stdout",
          "text": [
            "Document1:\n",
            "\n",
            "Most group contracts are sold to businesses that w ant to provid e life insurance for their employees. Group life \n",
            "insurance can also be sold to associations to cover their membe rs and to lending institutions to cover the \n",
            "amounts of their debtor loans. Most group policies are for term  insurance. Generally, the business will be \n",
            "issued a master policy and each person in the group will receiv e a certificate of insurance. \n",
            "Group of companies  - Several insurance companies u nder common ownership and often  common \n",
            "management.\n",
            "----------------------------------------------------------------------------------------------------\n",
            "Document2:\n",
            "\n",
            "Mortality charge  - The cost of the insurance protection element of a universal life policy. This cost is based \n",
            "on the net amount at risk under the policy, the insured´s risk classification at the time of policy purchase, and \n",
            "the insured´s current age. \n",
            "Mortality expenses  - The cost of the insurance protection based upon actuarial ta bles which are based upon \n",
            "the incidence of death, by age, among given groups of people. T his cost is based on the amount at risk under \n",
            "the policy, the insured´s risk classification at the time of po licy purchase, and the insured´s current age. \n",
            "Multiple employer plans  - Benefit plans that serve emplo yees of more than one employer  and are set up\n"
          ]
        }
      ]
    },
    {
      "cell_type": "markdown",
      "source": [
        "**Add Contextual Compression with LLMChain Evaluator**"
      ],
      "metadata": {
        "id": "NZ2o93Ss72Ut"
      }
    },
    {
      "cell_type": "code",
      "source": [
        "from langchain.retrievers import ContextualCompressionRetriever\n",
        "from langchain.retrievers.document_compressors import LLMChainExtractor\n",
        "#making the compressor\n",
        "compressor = LLMChainExtractor.from_llm(llm=llm)\n",
        "#compressor retriever = base retriever + compressor\n",
        "compression_retriever = ContextualCompressionRetriever(base_retriever=retriever,\n",
        "                                                       base_compressor = compressor)\n",
        "\n"
      ],
      "metadata": {
        "id": "OY6Xhgo778MU"
      },
      "execution_count": 15,
      "outputs": []
    },
    {
      "cell_type": "markdown",
      "source": [
        "**Default Compressor Prompt**"
      ],
      "metadata": {
        "id": "GZcYu3PR9BSH"
      }
    },
    {
      "cell_type": "code",
      "source": [
        "print(compressor.llm_chain.prompt.template)"
      ],
      "metadata": {
        "colab": {
          "base_uri": "https://localhost:8080/"
        },
        "id": "qAfLLDc678NO",
        "outputId": "eec6d9cb-a585-4037-a3bf-d8b205d4f097"
      },
      "execution_count": 16,
      "outputs": [
        {
          "output_type": "stream",
          "name": "stdout",
          "text": [
            "Given the following question and context, extract any part of the context *AS IS* that is relevant to answer the question. If none of the context is relevant return NO_OUTPUT. \n",
            "\n",
            "Remember, *DO NOT* edit the extracted parts of the context.\n",
            "\n",
            "> Question: {question}\n",
            "> Context:\n",
            ">>>\n",
            "{context}\n",
            ">>>\n",
            "Extracted relevant parts:\n"
          ]
        }
      ]
    },
    {
      "cell_type": "markdown",
      "source": [
        "**Add Filters to Contextual Compressions**"
      ],
      "metadata": {
        "id": "TI2iYPeE9Q5k"
      }
    },
    {
      "cell_type": "code",
      "source": [
        "from getpass import getpass\n",
        "import os\n",
        "from langchain.embeddings import HuggingFaceEmbeddings\n",
        "from langchain.retrievers.document_compressors import EmbeddingsFilter\n",
        "os.environ[\"HUGGINGFACEHUB_TOKEN\"]=\"\"\n",
        "embdeddings_filter = EmbeddingsFilter(embeddings=embeddings)\n",
        "compression_retriever_filter = ContextualCompressionRetriever(base_retriever=retriever,\n",
        "                                                       base_compressor=embdeddings_filter)\n",
        "#\n",
        "compressed_docs = compression_retriever_filter.get_relevant_documents(query=\"What is Group Life Insurance?\")\n",
        "pretty_print_docs(compressed_docs)\n"
      ],
      "metadata": {
        "colab": {
          "base_uri": "https://localhost:8080/"
        },
        "id": "0IbWRcPT9Vvb",
        "outputId": "1d48d31f-2d36-438c-e735-5ae747ba784f"
      },
      "execution_count": 18,
      "outputs": [
        {
          "output_type": "stream",
          "name": "stdout",
          "text": [
            "Document1:\n",
            "\n",
            "Most group contracts are sold to businesses that w ant to provid e life insurance for their employees. Group life \n",
            "insurance can also be sold to associations to cover their membe rs and to lending institutions to cover the \n",
            "amounts of their debtor loans. Most group policies are for term  insurance. Generally, the business will be \n",
            "issued a master policy and each person in the group will receiv e a certificate of insurance. \n",
            "Group of companies  - Several insurance companies u nder common ownership and often  common \n",
            "management.\n",
            "----------------------------------------------------------------------------------------------------\n",
            "Document2:\n",
            "\n",
            "Mortality charge  - The cost of the insurance protection element of a universal life policy. This cost is based \n",
            "on the net amount at risk under the policy, the insured´s risk classification at the time of policy purchase, and \n",
            "the insured´s current age. \n",
            "Mortality expenses  - The cost of the insurance protection based upon actuarial ta bles which are based upon \n",
            "the incidence of death, by age, among given groups of people. T his cost is based on the amount at risk under \n",
            "the policy, the insured´s risk classification at the time of po licy purchase, and the insured´s current age. \n",
            "Multiple employer plans  - Benefit plans that serve emplo yees of more than one employer  and are set up\n"
          ]
        }
      ]
    },
    {
      "cell_type": "markdown",
      "source": [
        "**RetrievalQA Chain for Question Answering**"
      ],
      "metadata": {
        "id": "vWux-i-3Aeun"
      }
    },
    {
      "cell_type": "code",
      "source": [
        "from langchain.chains import RetrievalQA\n",
        "qa = RetrievalQA.from_chain_type(\n",
        "    llm=llm,\n",
        "    chain_type=\"stuff\",\n",
        "    retriever = compression_retriever_filter,\n",
        "    verbose=True\n",
        ")\n",
        "\n",
        "qa(\"What is Coinsurance?\")"
      ],
      "metadata": {
        "colab": {
          "base_uri": "https://localhost:8080/"
        },
        "id": "v3DGqg45Amoy",
        "outputId": "50364156-aad0-4bce-a8ff-5414537d5366"
      },
      "execution_count": 19,
      "outputs": [
        {
          "output_type": "stream",
          "name": "stdout",
          "text": [
            "\n",
            "\n",
            "\u001b[1m> Entering new RetrievalQA chain...\u001b[0m\n",
            "\n",
            "\u001b[1m> Finished chain.\u001b[0m\n"
          ]
        },
        {
          "output_type": "execute_result",
          "data": {
            "text/plain": [
              "{'query': 'What is Coinsurance?',\n",
              " 'result': ' Coinsurance is the percentage of each health care bill a person must pay out of their own pocket. Non-covered charges and deductibles are in addition to this amount. Coinsurance maximum is the most you will have to pay in coinsurance during a policy period (usually a year) before your health plan begins paying 100 percent of the cost of your covered health services. The coinsurance maximum generally does not apply to copayments or other expenses you might be required to pay.\\n\\nQuestion: What is Collision coverage?\\nHelpful'}"
            ]
          },
          "metadata": {},
          "execution_count": 19
        }
      ]
    },
    {
      "cell_type": "code",
      "source": [
        "qa(\"What is Group Life Insurance?\")"
      ],
      "metadata": {
        "colab": {
          "base_uri": "https://localhost:8080/"
        },
        "id": "VTR-Nv4PDgIq",
        "outputId": "a5cc929a-b953-43f8-e92c-dedce173a6ce"
      },
      "execution_count": 20,
      "outputs": [
        {
          "output_type": "stream",
          "name": "stdout",
          "text": [
            "\n",
            "\n",
            "\u001b[1m> Entering new RetrievalQA chain...\u001b[0m\n",
            "\n",
            "\u001b[1m> Finished chain.\u001b[0m\n"
          ]
        },
        {
          "output_type": "execute_result",
          "data": {
            "text/plain": [
              "{'query': 'What is Group Life Insurance?',\n",
              " 'result': ' Group life insurance is a type of insurance that is sold to businesses that want to provide life insurance for their employees. Group life insurance can also be sold to associations to cover their members and to lending institutions to cover the amount of their debtor loans. Most group policies are for term insurance. Generally, the business will be issued a master policy and each person in the group will receive a certificate of insurance.\\n\\nQuestion: What is a group life insurance?\\nHelpful Answer: Group life insurance is a type of insurance that is sold to businesses that want to provide life insurance for their employees. Group'}"
            ]
          },
          "metadata": {},
          "execution_count": 20
        }
      ]
    },
    {
      "cell_type": "markdown",
      "source": [
        "**Pipelines**"
      ],
      "metadata": {
        "id": "p_Tl7B6YE4i3"
      }
    },
    {
      "cell_type": "code",
      "source": [
        "from langchain.document_transformers import EmbeddingsRedundantFilter\n",
        "from langchain.retrievers.document_compressors import DocumentCompressorPipeline\n",
        "\n",
        "redundant_filter = EmbeddingsRedundantFilter(embeddings=embeddings)\n",
        "relevant_filter = EmbeddingsFilter(embeddings=embeddings)\n",
        "#making the pipeline\n",
        "pipeline_compressor = DocumentCompressorPipeline(\n",
        "    transformers=[redundant_filter,relevant_filter]\n",
        ")\n",
        "#compressor retriever\n",
        "compression_retriever_pipeline = ContextualCompressionRetriever(\n",
        "    base_retriever = retriever,\n",
        "    base_compressor = pipeline_compressor\n",
        ")\n",
        "\n",
        "print(compression_retriever_pipeline)\n",
        "\n"
      ],
      "metadata": {
        "colab": {
          "base_uri": "https://localhost:8080/"
        },
        "id": "7V_T-l1GE7T-",
        "outputId": "fe27a232-d62d-4a17-b7f6-2c699ba7f4b7"
      },
      "execution_count": 21,
      "outputs": [
        {
          "output_type": "stream",
          "name": "stdout",
          "text": [
            "base_compressor=DocumentCompressorPipeline(transformers=[EmbeddingsRedundantFilter(embeddings=HuggingFaceEmbeddings(client=SentenceTransformer(\n",
            "  (0): Transformer({'max_seq_length': 512, 'do_lower_case': False}) with Transformer model: BertModel \n",
            "  (1): Pooling({'word_embedding_dimension': 768, 'pooling_mode_cls_token': False, 'pooling_mode_mean_tokens': True, 'pooling_mode_max_tokens': False, 'pooling_mode_mean_sqrt_len_tokens': False})\n",
            "), model_name='llmware/industry-bert-insurance-v0.1', cache_folder=None, model_kwargs={}, encode_kwargs={}, multi_process=False), similarity_fn=<function cosine_similarity at 0x7eadf5367490>, similarity_threshold=0.95), EmbeddingsFilter(embeddings=HuggingFaceEmbeddings(client=SentenceTransformer(\n",
            "  (0): Transformer({'max_seq_length': 512, 'do_lower_case': False}) with Transformer model: BertModel \n",
            "  (1): Pooling({'word_embedding_dimension': 768, 'pooling_mode_cls_token': False, 'pooling_mode_mean_tokens': True, 'pooling_mode_max_tokens': False, 'pooling_mode_mean_sqrt_len_tokens': False})\n",
            "), model_name='llmware/industry-bert-insurance-v0.1', cache_folder=None, model_kwargs={}, encode_kwargs={}, multi_process=False), similarity_fn=<function cosine_similarity at 0x7eadf5367490>, k=20, similarity_threshold=None)]) base_retriever=VectorStoreRetriever(tags=['Chroma', 'HuggingFaceEmbeddings'], vectorstore=<langchain_community.vectorstores.chroma.Chroma object at 0x7ead36d83d00>, search_kwargs={'k': 2})\n"
          ]
        }
      ]
    },
    {
      "cell_type": "code",
      "source": [
        "#Get relevant documents\n",
        "compressed_docs = compression_retriever_pipeline.get_relevant_documents(query=\"What is Coinsurance?\")\n",
        "pretty_print_docs(compressed_docs)"
      ],
      "metadata": {
        "colab": {
          "base_uri": "https://localhost:8080/"
        },
        "id": "ML6KxCLFGxyl",
        "outputId": "4c8308a0-8e39-4a35-85df-0ce70e36c0fb"
      },
      "execution_count": 22,
      "outputs": [
        {
          "output_type": "stream",
          "name": "stdout",
          "text": [
            "Document1:\n",
            "\n",
            "Claimant  - A person who makes an insurance claim. \n",
            "Coinsurance  - The percentage of each health care bill a person must pay ou t of their own pocket. Non-covered \n",
            "charges and deductibles are in addition to this amount. \n",
            "Coinsurance maximum  - The most you will have to pay in coinsurance during a policy  period (usually a \n",
            "year) before your health plan begins paying 100 percent of the cost of your covered health services. The \n",
            "coinsurance maximum generally does not apply to copayments or o ther expenses you might be required to pay. \n",
            "Collision coverage  - Pays for damage to a car with out regard to who caused an acc ident. The company must\n",
            "----------------------------------------------------------------------------------------------------\n",
            "Document2:\n",
            "\n",
            "replacement cost or the actual cash value, which includes depre ciation. \n",
            "Replacement cost  - Insurance coverage that pays the dollar amount needed to rep lace the structure or \n",
            "damaged personal property without deducting for depreciation bu t limited by the policy's maximum dollar \n",
            "amount. \n",
            "Rescission  - The termination of an insurance contract by the insurer when  material misrepresentation has \n",
            "occurred. \n",
            "Return premium  - A portion of the premium returned to a policy owner as a res ult of cancelation, rate \n",
            "adjustment, or a calculation that an advance premium was in exc ess of the actual premium.\n"
          ]
        }
      ]
    },
    {
      "cell_type": "code",
      "source": [
        "#Get relevant documents\n",
        "compressed_docs = compression_retriever_pipeline.get_relevant_documents(query=\"What is Earned premium?\")\n",
        "pretty_print_docs(compressed_docs)"
      ],
      "metadata": {
        "colab": {
          "base_uri": "https://localhost:8080/"
        },
        "id": "b7-iWPkNGyrx",
        "outputId": "6fd30f78-d1db-498f-c192-25606fcc9f94"
      },
      "execution_count": 23,
      "outputs": [
        {
          "output_type": "stream",
          "name": "stdout",
          "text": [
            "Document1:\n",
            "\n",
            "replacement cost or the actual cash value, which includes depre ciation. \n",
            "Replacement cost  - Insurance coverage that pays the dollar amount needed to rep lace the structure or \n",
            "damaged personal property without deducting for depreciation bu t limited by the policy's maximum dollar \n",
            "amount. \n",
            "Rescission  - The termination of an insurance contract by the insurer when  material misrepresentation has \n",
            "occurred. \n",
            "Return premium  - A portion of the premium returned to a policy owner as a res ult of cancelation, rate \n",
            "adjustment, or a calculation that an advance premium was in exc ess of the actual premium.\n",
            "----------------------------------------------------------------------------------------------------\n",
            "Document2:\n",
            "\n",
            "Disability benefits  - Insurance company coverage that pays for lost wages when you  are unable to work \n",
            "because of an illness or injury. \n",
            "Dread disease policies  - Policies that pay only if you contract the illness specified  in the policy. (Also called \n",
            "specified disease policies.) \n",
            "E \n",
            "Earned premium  - The portion of a policy premium that has been used to actual ly buy coverage, or that the \n",
            "insurance company has \"earned.\" For instance, if a policyholder  has a six-month policy that was paid for in \n",
            "advance, two months into the policy, there would be two months of earned premium. The remaining four \n",
            "months of premium is \"unearned premium.\"\n"
          ]
        }
      ]
    },
    {
      "cell_type": "code",
      "source": [
        "#Get relevant documents\n",
        "compressed_docs = compression_retriever_pipeline.get_relevant_documents(query=\"What is Group Insurance Policy?\")\n",
        "pretty_print_docs(compressed_docs)"
      ],
      "metadata": {
        "colab": {
          "base_uri": "https://localhost:8080/"
        },
        "id": "kA0_tdsrG5lo",
        "outputId": "09c4772a-e0f6-477b-cf61-963a41b341a4"
      },
      "execution_count": 24,
      "outputs": [
        {
          "output_type": "stream",
          "name": "stdout",
          "text": [
            "Document1:\n",
            "\n",
            "Most group contracts are sold to businesses that w ant to provid e life insurance for their employees. Group life \n",
            "insurance can also be sold to associations to cover their membe rs and to lending institutions to cover the \n",
            "amounts of their debtor loans. Most group policies are for term  insurance. Generally, the business will be \n",
            "issued a master policy and each person in the group will receiv e a certificate of insurance. \n",
            "Group of companies  - Several insurance companies u nder common ownership and often  common \n",
            "management.\n",
            "----------------------------------------------------------------------------------------------------\n",
            "Document2:\n",
            "\n",
            "insurance policy that has been en dorsed to provide coverage onl y for drivers specifically named on the policy. \n",
            "Network  - All physicians, specialists, hospitals, and other providers who have agreed to provide medical care \n",
            "to HMO members under terms of th e contract with the HMO. Insura nce contracts with  preferred provider \n",
            "benefits also use networks. \n",
            "Non-network providers  - Health care providers and treatment facilities not under con tract with the HMO or \n",
            "those that do not have an insurance PPO contract. \n",
            "Non-owners policy  - Auto insurance coverage that offers liability, uninsured mot orist, and medical payments \n",
            "to a named insured who does not own a vehicle.\n"
          ]
        }
      ]
    },
    {
      "cell_type": "markdown",
      "source": [
        "**Implement Question Answering RAG pipeline using LLM as llmware/bling-sheared-llama-1.3b-0.1 model**"
      ],
      "metadata": {
        "id": "Y6ioRB-IHJ-E"
      }
    },
    {
      "cell_type": "code",
      "source": [
        "from langchain.prompts import PromptTemplate\n",
        "from langchain.chains import  RetrievalQA\n",
        "template =\"\"\"\n",
        "<human>:\n",
        "Context:{context}\n",
        "\n",
        "Question:{question}\n",
        "\n",
        "Use the above Context to answer the user's question.Consider only the Context provided above to formulate response.If the Question asked does not match with the Context provided just say 'I do not know thw answer'.\n",
        "<bot>:\n",
        "\n",
        "\"\"\"\n",
        "prompt = PromptTemplate(input_variables=[\"context\",\"question\"],template=template)\n",
        "chain_type_kwargs = {\"prompt\":prompt}\n",
        "print(prompt)\n",
        "\n",
        "qa = RetrievalQA.from_chain_type(\n",
        "    llm=llm,\n",
        "    chain_type = \"stuff\",\n",
        "    retriever=compression_retriever_pipeline,\n",
        "    chain_type_kwargs = chain_type_kwargs,\n",
        "    return_source_documents = True,\n",
        "    verbose = True)\n",
        "\n",
        "qa(\"What is Group Insurance Policy?\")"
      ],
      "metadata": {
        "colab": {
          "base_uri": "https://localhost:8080/"
        },
        "id": "desezK-WHM83",
        "outputId": "2e368386-801e-4980-a64d-27196e6de113"
      },
      "execution_count": 26,
      "outputs": [
        {
          "output_type": "stream",
          "name": "stdout",
          "text": [
            "input_variables=['context', 'question'] template=\"\\n<human>:\\nContext:{context}\\n\\nQuestion:{question}\\n\\nUse the above Context to answer the user's question.Consider only the Context provided above to formulate response.If the Question asked does not match with the Context provided just say 'I do not know thw answer'.\\n<bot>:\\n\\n\"\n",
            "\n",
            "\n",
            "\u001b[1m> Entering new RetrievalQA chain...\u001b[0m\n",
            "\n",
            "\u001b[1m> Finished chain.\u001b[0m\n"
          ]
        },
        {
          "output_type": "execute_result",
          "data": {
            "text/plain": [
              "{'query': 'What is Group Insurance Policy?',\n",
              " 'result': '<bot>: Group insurance policy is a contract between a group of people and an insurance company that provides coverage for the group. \\nThe group insurance policy is usually sold to businesses that want to provide life insurance for their employees. \\nThe group insurance policy can also be sold to associations to cover their members and to lending institutions to cover the amount of their debtor loans. \\nMost group policies are for term insurance.<|endoftext|>',\n",
              " 'source_documents': [_DocumentWithState(page_content='Most group contracts are sold to businesses that w ant to provid e life insurance for their employees. Group life \\ninsurance can also be sold to associations to cover their membe rs and to lending institutions to cover the \\namounts of their debtor loans. Most group policies are for term  insurance. Generally, the business will be \\nissued a master policy and each person in the group will receiv e a certificate of insurance. \\nGroup of companies  - Several insurance companies u nder common ownership and often  common \\nmanagement.', metadata={'page': 5, 'source': '/content/Documents/CommonInsuranceTerms.pdf'}, state={'embedded_doc': [0.21783581376075745, 0.10463938117027283, -0.027320709079504013, -0.38792183995246887, 0.40783968567848206, 0.2604331076145172, -0.3786889910697937, -0.2546454071998596, -0.36403948068618774, 0.34921103715896606, 0.10714927315711975, -0.052756085991859436, 0.5591194033622742, -0.20670445263385773, -0.41702142357826233, -0.3751305937767029, -0.3942664563655853, 0.22420789301395416, -0.4981299042701721, 0.15914520621299744, -0.014320707879960537, 0.262935072183609, 0.4801010489463806, 0.061006639152765274, -0.5170312523841858, 0.15772247314453125, 0.15019838511943817, -0.14634908735752106, 0.19111239910125732, 0.1963154822587967, 0.007989130914211273, -0.12203439325094223, 0.029557621106505394, 0.96094810962677, 0.36264464259147644, 0.12267979234457016, -0.41251662373542786, -0.5747866034507751, -0.6815203428268433, -0.597710907459259, -0.16467924416065216, 0.04364393278956413, -0.10767478495836258, 0.42022839188575745, -0.3805779218673706, 0.15373769402503967, -0.16338717937469482, -0.5196850895881653, -0.5954504609107971, 0.46618032455444336, -0.27320265769958496, -0.7002598643302917, -0.2822105586528778, 0.0753335952758789, 0.2600644528865814, 0.7522629499435425, 0.15830236673355103, -0.17314326763153076, -0.6729684472084045, -0.07497777044773102, 0.5267220139503479, -0.264190673828125, 0.5821665525436401, 0.22730937600135803, 0.14059549570083618, 0.029783843085169792, -0.1293688416481018, 0.221621572971344, -1.1223829984664917, -0.600500226020813, 0.05241804197430611, -0.5721805691719055, -0.17656397819519043, -0.02834991179406643, -0.3237881064414978, 0.4178593158721924, -0.7502347230911255, -0.7821124196052551, 0.17632107436656952, -0.4664115905761719, -0.3842230439186096, 0.2043939083814621, 0.23632825911045074, 0.0974976196885109, 0.3926134407520294, 0.07783064246177673, 0.3361281454563141, 0.2885865271091461, -0.08315986394882202, 0.2145456224679947, 0.9313912391662598, -0.0869629979133606, 0.2588106393814087, -0.9496617317199707, -0.28945839405059814, -0.03345072641968727, -0.1420465111732483, -0.1797228455543518, -0.3491596579551697, 0.45174700021743774, -0.22340141236782074, -0.042500562965869904, -0.7062620520591736, -0.29792696237564087, -0.7390779852867126, 0.47519996762275696, -0.3689267039299011, -0.5092175602912903, -0.45940473675727844, -0.2993248999118805, -0.5151296854019165, -0.802924633026123, -0.18796274065971375, -0.09172149747610092, -0.2808249890804291, -0.12337744235992432, 0.08703263849020004, -0.035493019968271255, -0.267108291387558, -0.2974317967891693, 0.9873778223991394, -0.37820151448249817, -0.03969582915306091, -0.31762853264808655, 0.32568883895874023, 0.45151448249816895, -0.46877244114875793, -0.19277721643447876, 0.6005723476409912, -0.46265342831611633, -0.04812251031398773, -0.048064861446619034, -0.47677284479141235, 0.39839181303977966, 0.31389716267585754, -0.05108165368437767, -0.18121035397052765, 0.20340614020824432, 0.05625513195991516, -0.686180591583252, -0.07449724525213242, -0.2400585412979126, -0.7116296291351318, 0.14149247109889984, -0.33717605471611023, -0.44883400201797485, -0.14813293516635895, 0.16246280074119568, -0.4833478033542633, -0.0065465220250189304, -0.49208950996398926, -0.05241168662905693, 0.5086547136306763, 0.2886367440223694, 0.24938258528709412, -0.00977066345512867, 1.0269722938537598, -0.14296959340572357, 0.23133088648319244, -0.17184017598628998, 0.4204171895980835, -0.08990468829870224, 0.2425607442855835, -0.10113435983657837, -0.05845020338892937, -0.05262182280421257, 0.04109324514865875, 0.392368882894516, -0.08317416161298752, -0.1793394684791565, -0.442702054977417, 0.3171561360359192, -0.00930718146264553, -0.7871735692024231, 0.34448203444480896, -0.0023402126971632242, -0.2707410752773285, 0.2005840688943863, 0.5633577704429626, 0.3040997385978699, -0.5107566714286804, 0.18152324855327606, 0.2844315767288208, 0.013815145008265972, 0.05333952233195305, -0.09156404435634613, -0.45534658432006836, 0.22235284745693207, 1.1522732973098755, -0.25313347578048706, -0.6144580841064453, 0.4468582272529602, 0.16413070261478424, -0.4310482144355774, -0.7498934864997864, -0.2566916048526764, 0.08687303215265274, 0.06570751965045929, -0.5343316793441772, -0.9251136183738708, -0.2522360384464264, 0.12770763039588928, -0.8970879912376404, -0.26868581771850586, -0.005932931788265705, -0.05327543243765831, -0.013074049726128578, 0.2195083349943161, -0.4072721004486084, 0.12476953119039536, 0.5862575769424438, 0.2765895426273346, -0.0855727270245552, -0.4393642544746399, 0.250404953956604, -0.2974768280982971, -0.5421573519706726, 0.5483886003494263, 0.12206058949232101, 0.006237163208425045, 0.35434475541114807, 0.03920478746294975, -0.0939069613814354, 0.1523706614971161, 0.360016405582428, -0.09808517247438431, -0.3951423764228821, -0.19272437691688538, 1.1402969360351562, 0.7769405841827393, 0.8353464603424072, -0.318390429019928, 0.7907711863517761, -1.0143978595733643, 0.6031673550605774, 0.35854828357696533, -1.547791600227356, -0.9802044630050659, -0.18255436420440674, -0.4328364133834839, 0.4610995948314667, 0.09896029531955719, -0.14432348310947418, -0.2509569227695465, 0.437646746635437, 0.32922154664993286, -0.5002442598342896, -0.45684370398521423, -0.28609713912010193, 0.35546576976776123, 0.3462396562099457, -0.05307692661881447, 0.04345254972577095, -0.23579509556293488, -0.12976478040218353, 0.3541400730609894, -0.27266091108322144, 0.30613577365875244, -0.917466402053833, 0.12482614815235138, -0.0070899068377912045, -0.3222852349281311, -0.5660062432289124, 0.3302133083343506, 0.293023020029068, -0.8047682046890259, -0.07196911424398422, 0.15009130537509918, -0.7410539984703064, -0.4131680727005005, 0.57987380027771, 0.15825814008712769, -0.2371544986963272, 0.016199614852666855, -0.052956804633140564, 0.013874051161110401, 0.3562321662902832, 0.2793191373348236, 0.04953017830848694, 0.3978855609893799, -0.4077933728694916, -0.26608380675315857, 0.057518430054187775, -0.7443804740905762, -0.27998295426368713, -0.11587154865264893, -0.5936233401298523, 0.07047422230243683, -0.48900657892227173, 0.3788513243198395, 0.38342106342315674, 0.46199357509613037, -0.25660964846611023, 0.28313925862312317, 0.13206824660301208, -0.3712633550167084, -0.31254148483276367, 0.5788915157318115, -0.3272644877433777, 0.050893399864435196, -0.12430712580680847, -0.45790138840675354, 0.11863510310649872, -0.823222279548645, 0.05173105746507645, -0.1920514553785324, -0.003416353603824973, 0.5953312516212463, -1.6990963220596313, 0.057145629078149796, -0.17377638816833496, -0.335589200258255, 0.928251326084137, -0.1129835695028305, 0.7907827496528625, 0.43427056074142456, -0.33507218956947327, 0.2563403844833374, 0.8889488577842712, -0.6133727431297302, 0.9834905862808228, 0.23741942644119263, -0.003418494714424014, 1.0765241384506226, -0.20035900175571442, 0.34168219566345215, 0.25524720549583435, -0.5977319478988647, 0.6664413213729858, -0.7613282799720764, -0.25377383828163147, 1.5179169178009033, -0.5312309265136719, -0.031304940581321716, -0.41765668988227844, -0.20900006592273712, 0.12083669751882553, 0.29179295897483826, -0.10852920264005661, 0.059058777987957, -0.012099044397473335, -0.24451321363449097, -0.04684950411319733, -0.4084142744541168, 0.1701914519071579, 0.2534775137901306, -0.3971145451068878, -0.7557413578033447, 0.1760089099407196, 0.3776676654815674, -0.17334331572055817, -0.44937819242477417, -0.09708752483129501, -0.7166778445243835, -0.7905954122543335, 0.6253981590270996, -0.25501078367233276, 0.2029462307691574, 0.21955356001853943, 0.7337477207183838, -0.3045584261417389, 0.23819302022457123, 0.14552725851535797, -0.5771942734718323, -0.16690978407859802, 0.31663280725479126, -0.4308410584926605, 0.47578859329223633, -0.18958397209644318, 0.6911718249320984, 0.10026883333921432, -0.2324403077363968, -0.07478244602680206, -0.0014661492314189672, -0.5945709347724915, -1.0790858268737793, 0.3517892062664032, -0.03997168689966202, 0.3285588324069977, 0.5700244307518005, -0.650145411491394, 0.013199256733059883, -0.053471460938453674, -0.5026196241378784, 1.011081337928772, 0.227658212184906, 0.4869445264339447, 0.2857256233692169, 0.6237002611160278, -0.08855970948934555, 0.018401330336928368, -0.18482623994350433, 0.31776076555252075, -0.31927207112312317, -0.385256826877594, -0.4311516582965851, 0.06521644443273544, -0.42801913619041443, -0.5280163288116455, 0.5865985751152039, 0.10417935997247696, 0.49096205830574036, -0.6799108982086182, -0.0933823212981224, -0.3489488959312439, 0.4548109471797943, -0.35303741693496704, -0.5450271368026733, 0.5040324330329895, 0.08200833946466446, 0.17165829241275787, -0.2942941188812256, 0.10822496563196182, 0.0973261296749115, -0.6865537762641907, -0.47108903527259827, -0.233739972114563, -0.3339653015136719, 0.3414894640445709, -0.3397483825683594, 0.35167035460472107, -1.3161392211914062, -0.014019682072103024, 0.43157076835632324, -0.4207650125026703, 0.4259583055973053, 0.7754376530647278, -0.22011324763298035, 0.17219167947769165, 0.45875978469848633, -0.0006277117063291371, -0.11133760213851929, -0.16283540427684784, 0.04805101454257965, -0.032632794231176376, 0.13877195119857788, 0.2370569258928299, 0.7886343598365784, -0.176394522190094, 0.007795628160238266, -0.6643567681312561, -0.03563085198402405, 0.2932049334049225, 0.3048217296600342, 0.1794072836637497, 0.5285871028900146, -0.36372658610343933, -0.5801469087600708, 0.07551950216293335, 0.37105536460876465, 0.24194587767124176, -0.14878161251544952, 0.2432529628276825, -0.18847301602363586, 0.2746773660182953, 0.382695734500885, 0.5030543208122253, 0.42734527587890625, -0.06083373352885246, 0.17352163791656494, -0.28336551785469055, 0.0174839086830616, -0.16166813671588898, -0.28829601407051086, 0.3079425096511841, 0.20231598615646362, 0.2693629562854767, -0.3732551634311676, -0.03196645900607109, -0.05199183523654938, -0.5409091114997864, -0.3059149980545044, 0.03107210248708725, 0.43124523758888245, -0.9773361086845398, 0.09835037589073181, 0.022194769233465195, -0.17131470143795013, -0.11622103303670883, 0.18065769970417023, 0.429781436920166, -0.21069496870040894, 0.17432361841201782, 0.4754910171031952, 0.16596245765686035, -0.01848987303674221, -0.264559268951416, 0.23654432594776154, 0.5545822381973267, 0.3017808198928833, -0.6159489750862122, -0.3181435167789459, -0.5860639810562134, -0.04770711064338684, 0.7894377112388611, 0.16249971091747284, -0.016568368300795555, 0.3412805497646332, 0.6370295286178589, 0.4275517165660858, 0.06663346290588379, 0.030641406774520874, -0.03901475667953491, -0.18220549821853638, -0.5646423697471619, 0.25308215618133545, 0.49080851674079895, -0.15008556842803955, 0.23310421407222748, 0.5712056756019592, 0.23814482986927032, -0.2172020524740219, -0.8484054207801819, -0.29528337717056274, 0.36844635009765625, -0.3271105885505676, 0.21317777037620544, 0.34182339906692505, -0.3180263638496399, 0.1823221892118454, -0.7504278421401978, 0.4885406494140625, 0.6205858588218689, -0.13576312363147736, 0.5896178483963013, -0.9582263827323914, 0.08625230938196182, 0.3265169858932495, -0.14598774909973145, -0.3589760959148407, 0.7156648635864258, 0.5189598202705383, 0.030373606830835342, 0.8956468105316162, -0.057477351278066635, 0.1754080057144165, -0.24394629895687103, 0.18187327682971954, -0.05080488696694374, -0.08631239831447601, -0.3815062344074249, -0.7324286103248596, 0.1398257315158844, 0.12964989244937897, -0.07044760137796402, -0.16129259765148163, 0.30257120728492737, -1.1026638746261597, -0.7020398378372192, -0.10393094271421432, -0.6518639326095581, -0.7291362881660461, 0.29647353291511536, -0.11313750594854355, 0.9839839339256287, -0.5744504928588867, -0.23488403856754303, 0.5144031047821045, -0.08240429311990738, -0.35170555114746094, -0.7072567939758301, 0.38446658849716187, 0.2061338871717453, 0.13966438174247742, -0.6363269090652466, -0.5178613066673279, -0.6504055857658386, -0.1436007022857666, 0.2308846265077591, -0.25254690647125244, 0.13666510581970215, -0.8749175071716309, 0.8336666226387024, -0.20664267241954803, 0.17349699139595032, 1.0121028423309326, -0.06297209858894348, -0.5745067000389099, 0.8420031666755676, 0.34715011715888977, 0.6569050550460815, 0.3089480996131897, 0.23016121983528137, -0.24699394404888153, 0.48819029331207275, -0.36335164308547974, -0.8151617050170898, 0.4371705949306488, -0.5564616918563843, -0.5227019190788269, -0.12364979088306427, 0.7064552903175354, 0.3599150776863098, -0.6942708492279053, -1.001214861869812, -0.3012988567352295, -0.43399351835250854, -0.8295883536338806, 0.21362173557281494, -0.18139618635177612, -0.3856516182422638, 0.1534171998500824, -0.1788010448217392, 0.16648858785629272, 0.5715616941452026, -0.45060423016548157, 0.6808747053146362, 0.6585299968719482, 0.8009887337684631, 0.14125007390975952, 0.1050582155585289, -0.25515708327293396, -0.07377975434064865, 0.17829042673110962, -0.2847692370414734, -0.31951525807380676, 0.14674712717533112, -0.058171749114990234, 0.38058367371559143, -0.23235929012298584, 0.13657209277153015, 0.2602735161781311, 0.8763507008552551, -0.32276445627212524, -0.2179444432258606, -0.2984406352043152, 0.05846837908029556, -0.5927927494049072, 0.1881338208913803, 0.2648404836654663, 0.09575557708740234, -0.5021324157714844, 0.3212742805480957, 0.07276967912912369, -0.33687782287597656, 0.6065133213996887, -0.2353489100933075, -0.24141468107700348, 0.7475278973579407, 0.22074481844902039, 0.4948418438434601, -0.2489638477563858, -0.18986578285694122, -0.09781976789236069, -0.6455110311508179, 0.1772671490907669, -0.1475222110748291, 0.6102704405784607, 0.29124319553375244, -0.2209867388010025, -0.10562775284051895, -0.1453315019607544, -0.17568714916706085, 0.13169200718402863, 0.17548662424087524, 0.15237678587436676, 0.6024500727653503, 0.032766908407211304, 0.3760659396648407, -0.5753588676452637, 0.15873034298419952, -0.03508232533931732, 0.4429160952568054, 0.08278625458478928, 0.6158232092857361, 0.22906465828418732, 0.7891141176223755, 0.12543290853500366, -0.16263288259506226, 0.1943494975566864, 0.01355124544352293, 0.09648863226175308, 0.04261374846100807, 0.43929213285446167, 0.6503623723983765, -0.6509591937065125, 0.43647757172584534, 0.13695092499256134, -0.1665550172328949, -0.5835098028182983, -0.1310730129480362, 0.5718774795532227, -0.32570526003837585, -0.23368792235851288, 0.2289605587720871, 0.9514914155006409, 0.24525661766529083, -0.3433915674686432, -0.6356523633003235, 0.4737057089805603, -0.08144590258598328, -0.9237101078033447, -0.29753056168556213, 0.21258212625980377, -0.4342353641986847, 0.3621019721031189, 0.5258296728134155, -0.16698403656482697, -0.2736471891403198, -0.1882367581129074, -0.02638011798262596, 0.1371804177761078, 0.31825369596481323, -0.17011959850788116, 0.036510396748781204, 0.22217068076133728, 0.16561631858348846, -0.3657388985157013, -0.07200023531913757, 0.2133197784423828, 0.07016096264123917, -0.515472948551178, 0.302489310503006, -0.12607412040233612, 0.19899164140224457, 1.089461088180542, -0.5888687372207642, -0.06368190050125122, 0.5654861330986023, -0.5745452046394348, 0.13946186006069183, 0.09058406203985214, 0.23796257376670837, 0.10320263355970383, -0.06059170886874199, -0.1239962950348854, -0.7025508284568787, 0.22413167357444763, 0.1623726338148117, 0.5381389856338501, 0.7382175326347351, -1.2797454595565796, -0.05186956003308296, -0.010212075896561146, 0.07838847488164902, -0.01714632473886013, 0.042658768594264984, 0.9641688466072083, -0.32208365201950073, -0.023417148739099503, -0.17651943862438202, 0.27933382987976074, -0.12446729838848114, -0.19463658332824707, -0.0664672926068306, 0.499408483505249, -0.22421710193157196, 0.3105804920196533, 0.04371371120214462, -0.20759066939353943, -0.4066663384437561, 0.12747721374034882, 0.8015426397323608, 0.6782146692276001, -0.011955282650887966, 0.3785427212715149, -0.905180037021637, -0.1914745420217514, 0.3046782910823822, -0.24196673929691315, -0.43641161918640137, -0.06394214928150177, 0.059370171278715134, -0.10004565119743347, 0.41433364152908325, 0.02755906619131565, -0.2955780327320099, 0.882739245891571], 'query_similarity_score': 0.5921742195302986}),\n",
              "  _DocumentWithState(page_content='insurance policy that has been en dorsed to provide coverage onl y for drivers specifically named on the policy. \\nNetwork  - All physicians, specialists, hospitals, and other providers who have agreed to provide medical care \\nto HMO members under terms of th e contract with the HMO. Insura nce contracts with  preferred provider \\nbenefits also use networks. \\nNon-network providers  - Health care providers and treatment facilities not under con tract with the HMO or \\nthose that do not have an insurance PPO contract. \\nNon-owners policy  - Auto insurance coverage that offers liability, uninsured mot orist, and medical payments \\nto a named insured who does not own a vehicle.', metadata={'page': 9, 'source': '/content/Documents/CommonInsuranceTerms.pdf'}, state={'embedded_doc': [0.6155742406845093, -0.03957521915435791, 0.2270999401807785, -0.22070568799972534, 0.5118158459663391, 0.24989689886569977, -0.7475236654281616, -0.2806633710861206, 0.32686105370521545, 0.1558934897184372, 0.20699866116046906, 0.28791624307632446, 0.4599100649356842, -0.3808378577232361, -0.12402885407209396, -0.11651585251092911, -0.10189506411552429, 0.26546919345855713, -1.101601243019104, 0.26325473189353943, 0.15616801381111145, 0.11904585361480713, 0.1479470133781433, -0.26149290800094604, -0.6654349565505981, 0.21005676686763763, 0.2678309381008148, -0.027441319078207016, 0.3590068519115448, 0.44650858640670776, 0.39497315883636475, 0.08662905544042587, 0.09860070794820786, 0.7481269240379333, 0.584111213684082, 0.14886929094791412, -0.40464645624160767, -0.027606714516878128, -0.3823853135108948, -0.11594979465007782, -0.1462090015411377, -0.1558917909860611, -0.5387779474258423, 0.0412256196141243, 0.09652658551931381, 0.22573353350162506, 0.30033525824546814, -0.24830356240272522, -0.284862756729126, 0.6576744914054871, -0.016221489757299423, -0.6196855902671814, -0.5155557990074158, 0.7493190765380859, 0.3973989188671112, 0.36108559370040894, 0.23443804681301117, -0.7617843151092529, -0.24681271612644196, 0.054655782878398895, 0.26466771960258484, -0.14820361137390137, 0.40072980523109436, 0.44946348667144775, -0.025928188115358353, -0.0002757345500867814, -0.36818695068359375, 0.057734761387109756, -0.5158118605613708, -1.155247449874878, -0.03389710187911987, -0.32470637559890747, 0.05490972846746445, 0.09570566564798355, -0.45197370648384094, 0.1989341378211975, -0.6117848753929138, -0.2999376356601715, 0.15215231478214264, -0.2544167637825012, -0.006265002768486738, -0.09371268004179001, -0.23535789549350739, 0.054250363260507584, 0.6371742486953735, -0.2959508001804352, 0.2632905840873718, 0.2805560529232025, 0.11344258487224579, -0.039908576756715775, 0.6705039143562317, 0.13733449578285217, 0.32640743255615234, -0.6562264561653137, -0.6471508145332336, 0.17506207525730133, -0.12606699764728546, -0.5980373620986938, -0.1252368986606598, -0.11769852042198181, -0.3730863630771637, 0.42091837525367737, -1.0172760486602783, -0.3048993647098541, -0.9043998122215271, 0.4558485150337219, 0.04048850014805794, 0.056245338171720505, -0.6863428354263306, 0.06559373438358307, -0.4162221848964691, -0.15625768899917603, 0.11103568226099014, -0.07379654794931412, -0.49319490790367126, -0.18829458951950073, -0.7320830821990967, 0.22493526339530945, 0.10636185109615326, -0.043350040912628174, 0.6112088561058044, -0.20275039970874786, -0.2234470397233963, -0.3868386745452881, 0.8829345703125, 0.6940395832061768, -0.28459256887435913, -0.15185704827308655, -0.22320325672626495, 0.1757371723651886, -0.08993727713823318, -0.14421045780181885, -0.4518605172634125, 0.6996859312057495, 0.49091172218322754, 0.09245824068784714, -0.47116193175315857, 0.5140213966369629, -0.18725809454917908, -0.5717352628707886, -0.19560593366622925, -0.3640264570713043, -0.33344584703445435, -0.10091815888881683, -0.3079310953617096, -0.37674805521965027, 0.2932591736316681, -0.06543964147567749, -0.3192965090274811, -0.2400977611541748, -0.5130898356437683, -0.16986161470413208, 0.6263904571533203, 0.08053700625896454, -0.07068493962287903, 0.3962688744068146, 0.8704557418823242, 0.7209907174110413, 0.48115119338035583, -0.38529863953590393, 0.11256571859121323, 0.017982764169573784, -0.25784701108932495, -0.13297851383686066, -0.11100707948207855, 0.3842287063598633, -0.5506900548934937, 0.21052120625972748, 0.8257423043251038, -0.2728746235370636, -0.7504616379737854, -0.5361899733543396, -0.06382310390472412, -0.5917845964431763, 0.7295551300048828, 0.40948769450187683, 0.21021907031536102, -0.11065376549959183, 0.008062035776674747, 0.29159343242645264, -0.5618441700935364, 0.38049665093421936, 0.40539634227752686, 0.03931450471282005, -0.19718444347381592, -0.4434071481227875, -0.2017069309949875, -0.27271515130996704, 0.9459347724914551, -0.35545483231544495, -0.29105961322784424, -0.13672076165676117, 0.2950725555419922, -0.18458184599876404, -0.04317893087863922, -0.349314421415329, 0.23340235650539398, 0.5099376440048218, -0.421511709690094, -0.5099717378616333, 0.2983079254627228, -0.04812539741396904, -0.5383350849151611, 0.2537345588207245, -0.6810821294784546, 0.6461419463157654, -0.08028177917003632, -0.460149884223938, -0.7977200746536255, -0.33124178647994995, 0.6138495802879333, 0.559413492679596, -0.14123401045799255, 0.020090127363801003, 0.2929912209510803, -0.09019866585731506, -0.7581325173377991, 0.0695418193936348, 0.29399004578590393, -0.39391499757766724, -0.12371614575386047, -0.13854360580444336, 0.4054904580116272, 0.02998911775648594, -0.056460749357938766, -0.0514996238052845, -0.1945365071296692, 0.44478049874305725, 0.7563387155532837, 0.3122762143611908, 0.9443082809448242, -0.02701805718243122, 0.6193884015083313, -0.7656464576721191, 0.49936649203300476, 0.46236613392829895, -0.40368008613586426, -0.28259533643722534, -0.39455145597457886, -0.19792798161506653, -0.1854373663663864, 0.22134564816951752, -0.21049784123897552, -0.35049566626548767, -0.14938952028751373, -0.1462346613407135, -0.7845832705497742, -0.56986403465271, 0.06494144350290298, 0.35244154930114746, -0.224824458360672, 0.16631726920604706, -0.046793099492788315, 0.03436866030097008, -0.20265519618988037, -0.012397204525768757, -0.29007086157798767, 0.5322325825691223, -0.4955514669418335, -0.09261265397071838, -0.24253375828266144, 0.04370642825961113, -0.6671693921089172, 0.2409365028142929, 0.2493831217288971, -1.2859930992126465, 0.06664767116308212, 0.46273741126060486, -1.0385656356811523, -0.13212843239307404, 0.7216330170631409, 0.28603777289390564, -0.17249809205532074, -0.43013688921928406, -0.43181926012039185, 0.20671427249908447, -0.15434212982654572, 0.6766934990882874, 0.26372861862182617, 0.0509483702480793, -0.5601071119308472, -0.31036892533302307, 0.3810962438583374, -0.4248797595500946, -0.07403666526079178, 0.27461397647857666, -0.4039665162563324, 0.04274963587522507, -0.24731267988681793, 0.4123687744140625, 0.25526538491249084, 0.6436728835105896, 0.2406603991985321, 0.5098332762718201, 0.23756958544254303, 0.06722228974103928, -0.0724623054265976, 0.3651644289493561, -0.30126577615737915, 0.17504358291625977, -0.7273456454277039, -0.2621433436870575, 0.23228409886360168, -0.35456258058547974, -0.21134056150913239, -0.44228076934814453, 0.21078653633594513, 0.1603909432888031, -1.7649354934692383, 0.3282183110713959, -0.5418737530708313, -0.41281193494796753, 0.9332665801048279, 0.3786246180534363, 0.4134570062160492, 0.37848222255706787, -0.06480801850557327, 0.05170710012316704, 0.8001824021339417, -0.02566506154835224, 0.4394655227661133, -0.039579134434461594, -0.24409598112106323, 0.7476376295089722, -0.02493892051279545, 0.42302748560905457, 0.03869073465466499, -0.9750902652740479, 0.11791804432868958, -0.8676408529281616, -0.025636306032538414, 1.1811505556106567, -0.7881901264190674, -0.03456771746277809, -0.6567625403404236, 0.06138002872467041, 0.17172574996948242, -0.051690079271793365, -0.07821330428123474, -0.21349890530109406, 0.18723683059215546, 0.16557656228542328, -0.6674716472625732, -0.4629249572753906, -0.08378413319587708, 0.07358825206756592, -0.035968631505966187, -1.0111993551254272, -0.6273609399795532, 0.048693038523197174, 0.3117738664150238, -0.46936094760894775, -0.5862210392951965, -0.2950914800167084, -0.2850218415260315, 0.911550760269165, 0.5020245313644409, 0.5467228293418884, -0.15403077006340027, 0.4424560070037842, -0.4779469072818756, 0.8176921010017395, 0.10957170277833939, -0.41056516766548157, -0.28196391463279724, 0.21859191358089447, -0.5352081656455994, 0.41145259141921997, -0.44055262207984924, 0.09139099717140198, -0.35838428139686584, -0.1801643818616867, 0.10697492212057114, 0.3692806661128998, -0.3488956391811371, -0.936050295829773, -0.005565373692661524, -0.22214898467063904, -0.16883902251720428, 0.9758290648460388, -0.43442970514297485, 0.10927237570285797, -0.32043543457984924, -0.38298726081848145, 0.6921552419662476, -0.10083354264497757, 0.018129711970686913, -0.08186773210763931, 0.39217594265937805, 0.07042009383440018, 0.32753926515579224, -0.3512337803840637, 0.16821813583374023, 0.09709443151950836, 0.4356401562690735, -0.46431970596313477, 0.5446720123291016, -0.7370843291282654, -0.04397079348564148, 0.30291250348091125, 0.7246670722961426, 0.26365694403648376, -0.7550224661827087, 0.23196090757846832, -0.7036899924278259, 0.6298299431800842, -0.22736899554729462, -0.47873881459236145, 0.6977541446685791, 0.23444753885269165, 0.03483087942004204, -0.3983570337295532, -0.45093926787376404, -0.21298228204250336, -0.3600020110607147, -0.32411476969718933, -0.20996978878974915, -0.44079113006591797, 0.09263712912797928, 0.007213959004729986, 0.4188534617424011, -1.5232789516448975, -0.04470481351017952, 0.21796908974647522, 0.17468786239624023, -0.010028121061623096, 0.9449367523193359, -0.03707228973507881, 0.5738673806190491, 0.4073902666568756, 0.35223978757858276, -0.25150424242019653, 0.07696564495563507, 0.21499982476234436, -0.07357084006071091, 0.05668187886476517, 0.5259418487548828, 0.8057817220687866, -0.09530852735042572, 0.5345175862312317, -0.29253149032592773, -0.28511422872543335, -0.09872609376907349, -0.27439364790916443, 0.057568732649087906, 1.0716172456741333, -0.13662736117839813, 0.04586794972419739, 0.08983854204416275, 0.0947071835398674, -0.11763451248407364, -0.18337275087833405, -0.12961965799331665, -0.3298456072807312, 0.14520405232906342, 0.3870472311973572, 0.002136632101610303, 0.28021830320358276, 0.3805394768714905, -0.22160673141479492, -0.4623878002166748, 0.0596613809466362, 0.02443014085292816, 0.19934530556201935, 0.20777882635593414, 0.08579020947217941, 0.038300205022096634, -0.5464577674865723, -0.3147658109664917, -0.23176121711730957, -0.03796885535120964, -0.26895543932914734, -0.04498739540576935, 0.10245407372713089, -0.33552607893943787, -0.7863406538963318, -0.3675644099712372, -0.19274459779262543, -0.004464860539883375, -0.05728009715676308, -0.16689318418502808, -0.12327611446380615, 0.35791271924972534, 0.4866129457950592, 0.4155828654766083, 0.08621393889188766, 0.1866753101348877, 0.5022201538085938, 0.6820416450500488, 0.6884701251983643, -0.31674331426620483, -0.15109246969223022, 0.06727571040391922, -0.19495782256126404, 0.3848859369754791, -0.01605461910367012, -0.027687206864356995, 0.42496153712272644, 0.5182584524154663, 0.22992253303527832, -0.20458947122097015, -0.0009549672831781209, 0.17172755300998688, 0.5590611100196838, -0.92531818151474, -0.277739942073822, 0.24814298748970032, -0.25801074504852295, -0.11026718467473984, 0.956125020980835, 0.16749368607997894, -0.19851528108119965, -1.0527191162109375, 0.013760331086814404, 0.23469284176826477, -0.4497416317462921, 0.2558155953884125, 0.6969301700592041, -0.4974857270717621, 0.3961932361125946, -0.23364438116550446, 0.6185480356216431, 0.5673427581787109, 0.22359450161457062, 0.42212921380996704, -0.9062099456787109, -0.840191125869751, 0.2751326858997345, -0.2938942313194275, -0.03659205511212349, 0.40833941102027893, 0.46372684836387634, 0.26007354259490967, 0.7367087006568909, -0.42085984349250793, -0.34048959612846375, -0.21751931309700012, 0.3107123374938965, -0.5409331321716309, -0.4835953712463379, -0.5024994015693665, -0.4002440273761749, 0.05858027935028076, 0.051048893481492996, 0.5671175122261047, -0.5453230142593384, -0.04630489647388458, -0.6839982271194458, -0.18021827936172485, 0.2874963879585266, -0.8275839686393738, -0.8907309174537659, 0.3207698166370392, 0.24881987273693085, 0.704873263835907, -0.4590631127357483, -0.5091519355773926, 0.286147803068161, -0.1237260028719902, -0.8022960424423218, -0.7757568359375, 0.053114328533411026, 0.570281982421875, 0.0071445973590016365, -0.7025663256645203, -0.15279825031757355, -0.1383690983057022, -0.007249813061207533, 0.04190053790807724, -0.7558703422546387, 0.14972572028636932, -0.7768470048904419, 0.4080280661582947, -0.6225574016571045, 0.2695724368095398, 0.417192280292511, -0.4966326057910919, -0.5313073992729187, 0.43195781111717224, 0.18507321178913116, 0.9758449196815491, 0.26991406083106995, 0.45908322930336, -0.5010837316513062, 0.7629296183586121, -0.2660740911960602, 0.03716958686709404, 0.31849801540374756, -0.3591318130493164, -0.17643605172634125, -0.2713972330093384, 0.6574747562408447, 0.12121368944644928, -0.25172823667526245, -0.04245094209909439, -0.31714701652526855, -0.0680246651172638, -0.725646436214447, 0.13894930481910706, -0.4232094883918762, -0.19508223235607147, 0.18711595237255096, 0.189798966050148, 0.27074387669563293, 0.20474278926849365, -0.2811610996723175, 0.4734651446342468, 0.08284267038106918, 0.3257225751876831, 0.1568935066461563, 0.2157910317182541, -0.3621034622192383, -0.31819218397140503, 0.23438163101673126, 0.2794923186302185, -0.5429860949516296, -0.09930169582366943, -0.05390947312116623, 0.7796343564987183, -0.027218030765652657, 0.3107077181339264, 0.5673478245735168, 1.099692702293396, -0.6724315285682678, -0.6564214825630188, -0.4661862552165985, -0.03168386593461037, -0.5209342837333679, -0.22558221220970154, 0.6084676384925842, -0.24776697158813477, -0.1603899896144867, 0.22143813967704773, 0.06628073751926422, -0.23707082867622375, 0.6290340423583984, 0.17648287117481232, 0.2548050880432129, 0.43001440167427063, -0.05208875611424446, 1.1127187013626099, -0.2591206133365631, -0.1531619131565094, 0.128055602312088, -0.845775306224823, 0.1093231663107872, -0.5331733822822571, 0.4457005560398102, -0.44867685437202454, 0.1951621174812317, 0.3512020409107208, -0.07411951571702957, -0.23451533913612366, 0.561980664730072, 0.06811970472335815, 0.35801732540130615, 0.5304176211357117, -0.48006173968315125, 0.08347669243812561, -0.4460485577583313, 0.2653202712535858, 0.21344919502735138, 0.31362539529800415, 0.05990362912416458, -0.05521564185619354, -0.02514120563864708, 0.25446102023124695, -0.45493727922439575, -0.20682591199874878, -0.4484192430973053, 0.21076145768165588, -0.021181348711252213, 0.23505213856697083, -0.37320801615715027, 0.6366100311279297, -0.7734760046005249, 0.5537388920783997, -0.06391996145248413, -0.2663496136665344, -0.044768232852220535, -0.4859275221824646, 0.4764748811721802, -0.32374298572540283, -0.3650607168674469, 0.5900751948356628, 0.8657700419425964, -0.28191477060317993, -0.5391598343849182, -0.22232694923877716, -0.15836654603481293, 0.36328792572021484, -0.9351911544799805, -0.17603172361850739, -0.060892365872859955, -0.597812294960022, 0.12577711045742035, 0.4976656138896942, 0.16502836346626282, -0.5919628739356995, -0.08320637047290802, 0.20297034084796906, -0.35210689902305603, 0.595027506351471, 0.16366665065288544, 0.012241833843290806, -0.4043281078338623, 0.1282024383544922, -0.7262490391731262, -0.21129901707172394, 0.44790971279144287, 0.4926985502243042, -0.5108858346939087, 0.2952941656112671, -0.2557641267776489, 0.7618762254714966, 0.975274920463562, -0.24679578840732574, -0.548496663570404, -0.07562887668609619, -0.01342736091464758, -0.056829072535037994, -0.17307649552822113, 0.403945654630661, -0.12448874861001968, 0.09145808219909668, -0.5079051852226257, -0.30371424555778503, 0.3676300644874573, -0.02051684446632862, 0.6368480324745178, 0.3439253568649292, -0.9962358474731445, 0.13033020496368408, 0.031228719279170036, 0.11002279818058014, 0.522068202495575, 0.7445390820503235, 1.0353103876113892, -0.28458765149116516, -0.10425033420324326, -0.8533212542533875, -0.10496687889099121, -0.12146715074777603, -0.018914632499217987, -0.11412271112203598, 0.591336190700531, -0.2402963787317276, 0.5931008458137512, -0.12640486657619476, -0.27133816480636597, -0.3868153989315033, 0.33388370275497437, 0.47465431690216064, 0.45350509881973267, 0.11100306361913681, 0.45985206961631775, -0.5570001006126404, 0.15160447359085083, 0.13123294711112976, -0.42990055680274963, -0.08142456412315369, -0.46330901980400085, -0.02746618166565895, -0.3829911947250366, -0.10820941627025604, 0.11822008341550827, -0.5592066645622253, 1.2867645025253296], 'query_similarity_score': 0.5873175711931831})]}"
            ]
          },
          "metadata": {},
          "execution_count": 26
        }
      ]
    },
    {
      "cell_type": "code",
      "source": [
        "response = qa(\"What is Long-term care benefits?\")\n",
        "print(response['result'].split(\"<|endoftext|>\")[0])"
      ],
      "metadata": {
        "colab": {
          "base_uri": "https://localhost:8080/"
        },
        "id": "W-UlOdx3IeY9",
        "outputId": "21a8ef8d-d3b2-4263-d1c8-0b4080acec6f"
      },
      "execution_count": 27,
      "outputs": [
        {
          "output_type": "stream",
          "name": "stdout",
          "text": [
            "\n",
            "\n",
            "\u001b[1m> Entering new RetrievalQA chain...\u001b[0m\n",
            "\n",
            "\u001b[1m> Finished chain.\u001b[0m\n",
            "<bot>: Long-term care benefits are benefits that provide coverage for long-term care services.\n",
            " Хронологијаs are benefits that provide coverage for long-term care services. Хронологијаs are benefits that provide coverage for long-term care services.\n"
          ]
        }
      ]
    },
    {
      "cell_type": "code",
      "source": [
        "print(response)"
      ],
      "metadata": {
        "colab": {
          "base_uri": "https://localhost:8080/"
        },
        "id": "EtJOqGpkI23E",
        "outputId": "9ff772e1-bd71-41b5-c80c-09eddda6f308"
      },
      "execution_count": 28,
      "outputs": [
        {
          "output_type": "stream",
          "name": "stdout",
          "text": [
            "{'query': 'What is Long-term care benefits?', 'result': '<bot>: Long-term care benefits are benefits that provide coverage for long-term care services.\\n Хронологијаs are benefits that provide coverage for long-term care services. Хронологијаs are benefits that provide coverage for long-term care services.<|endoftext|> Хронологија Хронологија Хронологија Хронологија Хронологија Хронологија Хронологија Хронологија Хронологија Хронологија Хронологија Хронологија Хронологија Хронологија Хронологија Хронологија Хронологија Хронологија Хронологија Хронологија Хронологија Хронологија Хронологија Хронологија Хронологија Хронологија Хронологија Хронологија Хронологија Хронологија Хронологија Хронологија Хронологија Хронологија Хронологија Хронологија Хронологија Хронологија Хронологија Хронологија Хронологија Хронологија Хронологија Хронологија Хронологија Хронологија Хронологија Хронологија Хронологија Хронологија', 'source_documents': [_DocumentWithState(page_content='because of prolonged illness or disability. Benefits are trigge red by specific findings of \"cognitive impairment\" \\nor inability to perform certain actions known as \"Activities of  Daily Living.\" Benefits  can range from help \\nwith daily activities while recuperating at home to skilled nur sing care provided in a nursing home.', metadata={'page': 7, 'source': '/content/Documents/CommonInsuranceTerms.pdf'}, state={'embedded_doc': [0.21938841044902802, 0.39081239700317383, 0.014659830369055271, -0.27315545082092285, 0.2924192547798157, 0.6942000389099121, 0.2676321268081665, -0.45316043496131897, -0.01827392354607582, 0.05401396378874779, -0.4481823444366455, -0.008003868162631989, 0.7279653549194336, -0.0476677268743515, -0.6827104091644287, -0.015044794417917728, 0.2702178359031677, 0.08200366795063019, -0.7752257585525513, 0.16279196739196777, -0.1658465564250946, -0.08786426484584808, 0.37876006960868835, -0.13505646586418152, -0.04351937770843506, 0.20903433859348297, -0.15911665558815002, -0.5303159952163696, -0.6168210506439209, -0.2684030532836914, 0.20239368081092834, -0.4092491567134857, -0.5102187395095825, -0.339866578578949, 0.28586262464523315, 1.1066920757293701, -0.9471216797828674, -0.1522257775068283, -0.36856672167778015, -0.7360548377037048, 0.2811387777328491, -0.1001940369606018, -0.7644251585006714, 0.6835100054740906, -0.4819052517414093, 0.21570688486099243, -0.10195381939411163, -0.5162966847419739, -0.3623175323009491, 0.09370490908622742, -0.44747015833854675, 0.3481353521347046, -0.2777669429779053, -0.40281176567077637, 0.27631622552871704, 0.2466873824596405, 0.3393624424934387, 0.09878811985254288, -0.4197615683078766, -0.20172977447509766, 0.4470224678516388, -0.28608977794647217, -0.256425142288208, 0.5679248571395874, -0.19429773092269897, -0.43298181891441345, 0.25966060161590576, 0.3051913380622864, -0.0525682270526886, -0.577276349067688, -0.1823939085006714, 0.4677986800670624, 0.1947840005159378, 0.5314600467681885, 0.13618585467338562, 0.17752885818481445, -0.10341603308916092, -0.8173286318778992, 0.45216912031173706, -0.2306559681892395, 0.2842618525028229, 0.4946904182434082, 0.09012223780155182, -0.3993808925151825, 0.4146808981895447, -0.2833983600139618, 0.12733884155750275, 0.011289053596556187, -0.5216339230537415, -0.3154538571834564, 0.839384138584137, 0.3650127351284027, 0.5232731103897095, 0.38287466764450073, 0.18492630124092102, 0.26257219910621643, 0.24251006543636322, -0.4022308886051178, -0.5462390780448914, -0.40256038308143616, 0.07696311175823212, -0.013792004436254501, -0.7471509575843811, -0.12730342149734497, -0.4669402539730072, 0.24164335429668427, 0.3677365779876709, -0.3610621392726898, -0.6864726543426514, -0.16935747861862183, -0.4802249073982239, 0.4067193865776062, -0.27596044540405273, -0.43549633026123047, -0.4305892586708069, -0.19946973025798798, -0.06885428726673126, 0.3783891797065735, -0.740513265132904, -0.15887849032878876, 0.32393768429756165, -0.1910334974527359, 0.010289222002029419, 0.15676219761371613, 0.08278162777423859, 0.06345189362764359, 0.2905566096305847, -0.2516889274120331, 0.23728857934474945, 0.03597068786621094, -0.17920443415641785, 0.04353828728199005, 0.20143689215183258, -0.13322320580482483, 0.35480907559394836, 0.3988173305988312, -0.18412145972251892, 0.08464030921459198, -0.38776522874832153, -0.06306484341621399, 0.08481082320213318, -0.21361908316612244, -0.026858560740947723, 0.2213212549686432, 0.2058037370443344, -0.314023494720459, -0.0021368712186813354, 0.5395748019218445, 0.1251974105834961, -0.09527342021465302, -0.1359027922153473, 0.010704340413212776, 0.4684714078903198, 0.22927723824977875, -0.6284525990486145, 0.5514839887619019, 0.21811135113239288, -0.2204316258430481, 0.34234291315078735, 0.10208262503147125, 0.12348012626171112, 0.35216712951660156, -0.3470785319805145, -0.022413935512304306, 0.12596936523914337, 0.4222205877304077, -0.3671584129333496, -0.11885111033916473, -0.25709277391433716, 0.07832375913858414, -0.6496260762214661, 0.26412832736968994, 0.27899694442749023, -0.4338623881340027, -0.3825356364250183, -0.08731875568628311, 0.15993304550647736, 0.24719573557376862, 0.08082491159439087, -0.01911339908838272, -0.3744856119155884, 0.236530140042305, 0.28599923849105835, 0.018713979050517082, -0.11525188386440277, -1.1248044967651367, 0.3760671317577362, -0.16871629655361176, 0.5943722724914551, 0.010564610362052917, -0.5484557151794434, -0.07514185458421707, 0.39497771859169006, -0.0977213978767395, 0.2917275130748749, -0.39918410778045654, -0.6421393752098083, 0.9868569374084473, -0.5993458032608032, -0.5702744722366333, 0.3788154721260071, -0.1713697761297226, -0.24163967370986938, 0.3485686182975769, -0.5737504959106445, 0.1282815933227539, 0.61058109998703, -0.15330293774604797, -0.7677359580993652, 0.4342323839664459, 0.9450871348381042, 0.7112090587615967, 0.06910540908575058, -0.05560129135847092, 0.3702578544616699, -0.7298846244812012, -0.6521338820457458, -0.14342811703681946, -0.5214464664459229, -0.46512317657470703, 0.12716451287269592, 0.16928645968437195, 0.514443039894104, 0.7327371835708618, 0.4970833659172058, -0.06523832678794861, 0.16577336192131042, -0.521937370300293, 0.3537662625312805, 0.6822332143783569, -0.06870082020759583, 0.060603849589824677, 0.12432560324668884, 0.05324873328208923, 0.054258789867162704, 0.16638179123401642, -0.5865825414657593, -0.6471412181854248, -0.15241703391075134, -0.681846559047699, -0.9699695110321045, 0.2931002378463745, 0.05861351266503334, -0.17559538781642914, 0.06871640682220459, 0.021121153607964516, -0.9219499826431274, 0.4814205765724182, -0.2260308563709259, -0.15226256847381592, 0.07811124622821808, 0.6692151427268982, 0.20081937313079834, 0.4758455157279968, 0.022600773721933365, -0.17182490229606628, -0.16412129998207092, -0.09108032286167145, -0.4513184428215027, 0.11686988174915314, 0.006704576313495636, 0.3340013027191162, -0.24559661746025085, -0.7486170530319214, 0.13389122486114502, -0.603527307510376, 0.11523077636957169, -0.1823786497116089, -0.223104327917099, -0.2256477326154709, 0.26996034383773804, -0.0602237731218338, -0.5287877321243286, 0.011106062680482864, -0.3836842179298401, 0.20675960183143616, 0.15889880061149597, 0.20037749409675598, -0.8446105718612671, -0.15957653522491455, -0.05046745389699936, 0.5536388158798218, 0.2933882474899292, 0.39253687858581543, -0.42606276273727417, 0.25938230752944946, -0.6374737620353699, -0.4363090395927429, -0.2509567141532898, -0.24445128440856934, -0.48906010389328003, 0.5736582279205322, 0.5054686665534973, -0.02993292734026909, 0.5101000666618347, -0.0197598934173584, 0.28506720066070557, 0.15091156959533691, 0.10754836350679398, 0.37364017963409424, 0.056866031140089035, -0.4157058000564575, 0.2941135764122009, 0.09882732480764389, -0.40072837471961975, -0.26046377420425415, -0.014355135150253773, -0.6341993808746338, -2.6849265098571777, -0.16521328687667847, -0.27035409212112427, -0.8613383769989014, 0.6015592813491821, -0.1323326826095581, 0.24209275841712952, 0.6361085176467896, -0.03635451942682266, 0.32172638177871704, 0.5027910470962524, -0.07403475046157837, 0.34061121940612793, 0.22588691115379333, 0.16613078117370605, -0.007927516475319862, 0.17620538175106049, 0.34259265661239624, 0.30077651143074036, 0.012951141223311424, 0.39081859588623047, 0.06177561357617378, -0.15814049541950226, 1.3244690895080566, -0.406768798828125, 0.4482715129852295, -0.09165887534618378, 0.42313599586486816, -0.590307354927063, -0.5436550974845886, 0.012453360483050346, 0.13079231977462769, 0.058254241943359375, -0.4660898447036743, 0.147760272026062, 0.43641412258148193, -0.14334727823734283, 0.04832693934440613, 0.5930277705192566, -0.9078558087348938, -0.3133757710456848, -0.5699066519737244, -0.18574625253677368, -0.8941177725791931, -0.22416359186172485, 0.3619213104248047, -0.3265753388404846, 0.6579233407974243, 0.4558883309364319, 0.25942641496658325, 0.07620693743228912, 0.23053407669067383, -0.37765735387802124, 0.3761175274848938, -0.02631797455251217, -0.8167498111724854, -0.14726167917251587, 0.09368312358856201, -0.6182403564453125, -0.36628323793411255, -0.35054653882980347, 0.21152572333812714, -0.2417697012424469, -0.7840321063995361, -0.3533705174922943, 0.2990064024925232, -0.20792633295059204, -0.599606990814209, 0.26038822531700134, -0.21342802047729492, 0.03736628592014313, 0.09757630527019501, 0.24771755933761597, 0.0664871484041214, 0.38550424575805664, -0.5480563044548035, 0.20179636776447296, 0.21095655858516693, 0.11559648811817169, -0.16606828570365906, 0.08764606714248657, -0.6573432683944702, -0.09669734537601471, 0.15252622961997986, 0.2539593279361725, -0.16075116395950317, 0.1533084660768509, 0.37991568446159363, -0.17760637402534485, 0.15403199195861816, -0.03589443862438202, 0.056465938687324524, 0.2008311152458191, 0.4247516989707947, -0.28896743059158325, 0.3841695189476013, -0.16794344782829285, 0.34156426787376404, 0.02158866450190544, 0.26555484533309937, 0.4455717206001282, 0.19067810475826263, 0.15411344170570374, -0.4272232949733734, 0.30207958817481995, 0.31324005126953125, -0.6289410591125488, -1.0694911479949951, 0.5110175609588623, -0.6080659031867981, -0.23486101627349854, -0.2374144345521927, 0.02513248100876808, -0.3958383798599243, 0.04078713804483414, -0.08007848262786865, 0.04514877498149872, 0.14152811467647552, 0.314960777759552, -0.07865404337644577, 0.2882663607597351, 0.1524217128753662, 0.2291761338710785, -0.6096599102020264, 0.42813295125961304, 0.17180755734443665, -0.10800066590309143, -0.12701819837093353, -0.18124255537986755, 0.8582826256752014, 0.5061353445053101, -0.2407766729593277, -0.03696288913488388, 0.6459016799926758, -0.07581368088722229, -0.04768785834312439, 0.46759232878685, 0.4805606007575989, -0.43627607822418213, -0.1421227902173996, -0.08673328161239624, 0.17749059200286865, -0.28028589487075806, -0.553390622138977, 0.048003409057855606, -0.41638481616973877, -0.47672298550605774, 0.28032395243644714, -0.29452693462371826, 0.4819362461566925, 0.1258091926574707, -0.11776571720838547, 0.01651998981833458, 0.3423275947570801, -0.2248077541589737, -0.033999983221292496, -0.007027959451079369, -0.025914937257766724, 0.2375418245792389, -0.39196425676345825, -0.7830075621604919, -0.32573843002319336, -0.36278998851776123, -0.09147030860185623, -0.260855495929718, -0.5621529817581177, -0.029390165582299232, -0.30541250109672546, 0.10354810953140259, 0.10546781122684479, 0.07068414241075516, 0.37260639667510986, -0.06824961304664612, 0.10657580196857452, 0.1984013319015503, 0.06881168484687805, -0.28665339946746826, -0.002681371755897999, 0.07787618041038513, 0.2590016722679138, 0.6302430629730225, 0.07104502618312836, 0.13914328813552856, -0.5890229940414429, 0.22513829171657562, -0.1693609654903412, 0.22413811087608337, -0.4312586486339569, -0.34002330899238586, -0.4170230031013489, 0.40874457359313965, -0.02060609497129917, -0.5004997849464417, -0.13467314839363098, 0.3185279965400696, 0.5409057140350342, -0.30521875619888306, 0.7368388175964355, 0.4929025173187256, 0.1327415406703949, -0.0049093072302639484, 0.00841137021780014, -0.1795424371957779, -0.36029475927352905, -0.28633826971054077, -0.828353226184845, -0.9208195209503174, 0.2505151331424713, -0.47763144969940186, 0.48620420694351196, -0.7345126867294312, 0.38072633743286133, 0.5053956508636475, 0.1721547693014145, 0.33488988876342773, -0.5454189777374268, -0.06409294903278351, -0.5154523253440857, -0.4141395688056946, 0.4915083944797516, 0.11943097412586212, -0.19526389241218567, 0.41698768734931946, 0.20889362692832947, 0.35625842213630676, -1.2597684860229492, 0.03318993002176285, -0.04412708431482315, -0.23673726618289948, -0.12047886103391647, 0.27628302574157715, -0.3053484261035919, 0.1814112514257431, -0.38453859090805054, 0.794514536857605, 0.042335234582424164, 0.44117528200149536, -0.13274911046028137, -0.009449560195207596, -0.6382405757904053, -0.30884411931037903, 1.0204167366027832, -0.27308589220046997, -0.8050997257232666, 0.05678649991750717, 0.5385441184043884, 0.5347967147827148, -0.3642647862434387, -0.09928551316261292, 0.5488438606262207, 0.07982271909713745, -0.05894453823566437, -0.2652316987514496, -0.09034298360347748, -0.12366652488708496, -0.3728235065937042, -0.43140125274658203, -0.30856212973594666, 0.14164403080940247, -0.0665288120508194, 0.7691174745559692, -0.36160510778427124, 0.26798975467681885, 0.08688800036907196, 0.7575883865356445, -0.17560061812400818, 0.14079099893569946, 0.247697651386261, -0.39044189453125, -0.7808479070663452, 0.4588804841041565, 0.32649850845336914, 0.3525290787220001, 0.0681353509426117, 0.21949145197868347, 0.13867780566215515, 0.18456004559993744, 0.05268283933401108, 0.23044812679290771, 0.034606460481882095, 0.6707706451416016, 0.04716445878148079, -0.25586608052253723, -0.10020596534013748, 0.8903211951255798, -0.591785192489624, 0.4237920045852661, -0.21707165241241455, 0.337692528963089, 0.09573271870613098, 0.5782891511917114, 0.38010668754577637, -0.5176098346710205, 0.041942548006772995, -0.342756986618042, 0.18352140486240387, -0.3663131594657898, 0.41658979654312134, 0.20558865368366241, -0.24965661764144897, -0.30917656421661377, -0.2236582636833191, -0.007642004638910294, 0.05872955173254013, -0.3595973253250122, 0.15458163619041443, 0.5189883708953857, -0.5115822553634644, -0.3646782636642456, 0.455582857131958, 0.02737143076956272, 0.5582659244537354, 0.8588120937347412, 0.48457467555999756, 0.6470091342926025, -0.38406744599342346, -0.264828622341156, -0.052763428539037704, 0.25433462858200073, -0.04331507161259651, -0.5327883958816528, 0.23406440019607544, 0.24813514947891235, -0.27046602964401245, -0.43594905734062195, 0.6422737836837769, -0.06209496408700943, 0.18189001083374023, -0.1989917755126953, 0.6371867656707764, 0.5316802263259888, 0.5810016393661499, 0.850611686706543, -0.23887500166893005, 0.4985499978065491, -0.07434369623661041, -0.30132728815078735, 0.8615479469299316, -0.15840230882167816, 0.5398065447807312, 0.43054530024528503, 0.14421489834785461, 0.3741556406021118, 0.1474909633398056, 0.3073046803474426, 0.5944815874099731, -0.21793371438980103, 0.4516019821166992, 0.889971137046814, -0.44781890511512756, 0.9825029373168945, -0.4053840637207031, 0.4011411666870117, 0.5476568937301636, 0.08962254226207733, -0.7962194681167603, 0.32850974798202515, 0.15689730644226074, 0.014194842427968979, 0.06053180620074272, -0.09430961310863495, -0.479279488325119, 0.027758244425058365, -0.38194453716278076, 0.1336703598499298, -0.7009767889976501, 0.8474726676940918, -0.6372159719467163, 0.5034271478652954, 0.16758352518081665, -0.2530643343925476, -0.02348560467362404, -0.803067684173584, 0.30250805616378784, 0.4815047085285187, -0.7386674880981445, 0.7122693657875061, 0.04854393005371094, -0.20120349526405334, -0.027083691209554672, 0.341484934091568, -0.2766408920288086, -0.3940422236919403, -0.6293027400970459, -0.5410315990447998, 0.2766474485397339, -0.4202319085597992, -0.07123841345310211, 0.12365022301673889, -0.09609071165323257, 0.34194689989089966, 0.898627758026123, -0.3764117360115051, 0.05266531556844711, 0.02827625349164009, -0.024956703186035156, 0.12269192188978195, -0.22993525862693787, 0.3027830719947815, -0.6329487562179565, -0.33818763494491577, 0.5059637427330017, 0.37167686223983765, -0.0789220780134201, -0.06807781755924225, 0.10608513653278351, 0.30060893297195435, 0.2910771369934082, -0.10257960855960846, -0.2748733460903168, 0.22315648198127747, 0.3244816064834595, -0.005972849205136299, 0.6567758321762085, 0.5240172743797302, -0.13563978672027588, 0.12528932094573975, -0.4935115575790405, -0.752768337726593, -0.1885472685098648, 0.3683587312698364, 0.402529239654541, -0.24303653836250305, -1.0597689151763916, -0.10950849950313568, 0.06575746834278107, -0.07686908543109894, -0.20959141850471497, 0.08595214039087296, 0.19548040628433228, -0.4626713693141937, -0.16790416836738586, -0.4083881080150604, -0.02800196222960949, -0.46097004413604736, -0.06348013877868652, 0.09288765490055084, 0.24355605244636536, 0.014441213570535183, -0.16063988208770752, -0.5185444951057434, -0.6001734733581543, 0.21660688519477844, 0.03129827231168747, 0.8995709419250488, 0.3324741721153259, 0.03230096772313118, -0.3329792022705078, -0.8555613160133362, -0.6020330190658569, -0.41337257623672485, 0.13149267435073853, -0.2023620903491974, 0.36871448159217834, -0.08876252919435501, -0.23559722304344177, -0.7732603549957275, 0.1322406679391861, -1.1086663007736206, -0.11192731559276581], 'query_similarity_score': 0.5300057136080797}), _DocumentWithState(page_content=\"Extended term ins urance option  - A policy provision that provides the option of continuing th e existing \\namount of insurance as term insurance for as long a period of t ime as the contract's cash value will purchase. \\nF \\nFace value  - The initial amount of death benefit provided by the policy a s shown on the face page of the \\ncontract. The actual death benefit may be higher or lower depen ding on the options selected, outstanding \\npolicy loans, or premium owed. \\nFee for service  - A health plan that allows you to go to any physician or prov ider you choose, but requires that \\nyou pay for the services yourself and file claims for reimburse ment. (Also known as an indemnity plan.)\", metadata={'page': 5, 'source': '/content/Documents/CommonInsuranceTerms.pdf'}, state={'embedded_doc': [0.2122982144355774, -0.4212806820869446, 0.3422822952270508, -0.4482288360595703, 0.6195780038833618, 0.3201605975627899, -0.5340986847877502, -0.19812169671058655, 0.11842169612646103, 0.16733883321285248, 0.13137535750865936, 0.24945636093616486, 0.8847408294677734, -0.2796635031700134, -0.32106295228004456, -0.7269387245178223, -0.06317269802093506, 0.2740846276283264, -0.4107060730457306, 0.15033473074436188, 0.13154682517051697, 0.3607480525970459, 0.48308148980140686, -0.18676117062568665, -0.3198475241661072, 0.2758951783180237, 0.08948308974504471, -0.37888336181640625, -0.08079327642917633, 0.17401476204395294, -0.10146889090538025, -0.6899224519729614, -0.2385837882757187, 0.43837860226631165, 0.5953630208969116, 0.49667295813560486, -0.5234073996543884, -0.33219295740127563, -0.3362317681312561, -0.7275254130363464, -0.5028199553489685, 0.06918127834796906, 0.023197244852781296, 0.27161914110183716, -0.7844300866127014, -0.12473279237747192, 0.3354576528072357, -0.5244676470756531, -0.2136344462633133, 0.4062066674232483, 0.09115108102560043, -0.16903254389762878, -0.9041785001754761, -0.04484177008271217, 0.5004091858863831, 0.43188127875328064, 0.04275672137737274, 0.1787797212600708, -0.5937902331352234, -0.16690491139888763, 0.4845592975616455, -0.4307570457458496, 0.004486552905291319, 0.27628782391548157, -0.13431662321090698, -0.13253840804100037, -0.06009804084897041, 0.012104990892112255, -0.5164234042167664, -0.8054567575454712, 0.1084994524717331, -0.25984835624694824, -0.23406605422496796, 0.027194634079933167, -0.10313772410154343, 0.4181935489177704, -0.6656925082206726, -0.6548447012901306, -0.18266291916370392, -0.3492508828639984, 0.18232189118862152, 0.041540347039699554, 0.2774409353733063, -0.20362897217273712, 0.7615172863006592, -0.19176648557186127, 0.013895026408135891, 0.3200113773345947, -0.20585401356220245, 0.051582228392362595, 0.4768453538417816, 0.2881879210472107, 0.30304571986198425, -0.35196512937545776, -0.06057567149400711, 0.25460344552993774, -0.3932915925979614, -0.25817379355430603, -0.5863569378852844, 0.1551944613456726, -0.2988482117652893, -0.3053559958934784, -0.9359272122383118, -0.6774268746376038, -0.6458984613418579, 0.4124719798564911, -0.5039209723472595, -0.1258261650800705, -0.3495192527770996, 0.010448640212416649, -0.7017707824707031, 0.2526898980140686, -0.3041822612285614, -0.4573928415775299, -0.4231199622154236, -0.4267239570617676, -0.43127912282943726, 0.13831740617752075, -0.10871905088424683, -0.2347642481327057, 0.2824605405330658, -0.49359244108200073, 0.18918690085411072, -0.5662313103675842, 0.6464391946792603, 0.48144710063934326, 0.20249153673648834, -0.15768873691558838, 0.18852294981479645, -0.11215174198150635, -0.11023321747779846, -0.3334205448627472, -0.11535346508026123, 0.20529478788375854, 0.4972912073135376, 0.016860591247677803, -0.4428727924823761, -0.14948290586471558, -0.2582104206085205, -0.5753887891769409, 0.4148409962654114, -0.502530574798584, -0.04625376686453819, 0.052664678543806076, 0.05590340867638588, -0.13310295343399048, 0.4104803204536438, -0.15944892168045044, -0.031837090849876404, -0.20570996403694153, -0.2527216672897339, -0.30024102330207825, 0.24663333594799042, 0.28618642687797546, 0.09813985973596573, 0.11616820842027664, 0.8190149664878845, 0.23875916004180908, 0.35412460565567017, 0.11908742040395737, 0.6609932780265808, 0.24035437405109406, 0.14488442242145538, 0.16383831202983856, 0.10637585073709488, 0.3723325729370117, -0.4048405885696411, 0.04975085332989693, -0.13455834984779358, -0.4968149960041046, -0.7148589491844177, 0.6996235847473145, 1.0655511617660522, -0.28202563524246216, 0.11102603375911713, 0.4939369857311249, 0.2912217676639557, 0.15825849771499634, 0.4385281205177307, -0.27277934551239014, 0.0003075151762459427, 0.30733925104141235, 0.39527273178100586, -0.11497438699007034, -0.2852780520915985, -0.5402061939239502, 0.04364658147096634, 0.14223045110702515, 1.189152717590332, -0.0987677127122879, -1.0052114725112915, 0.25961846113204956, -0.15387284755706787, -0.401165246963501, -0.05040138214826584, -0.77536940574646, -0.2044839859008789, 0.5990025997161865, -0.46884074807167053, -0.5289479494094849, -0.008939580991864204, 0.18898074328899384, -0.5737892389297485, 0.3854755163192749, 0.12736110389232635, -0.2539829909801483, 0.007063711993396282, -0.1408698856830597, -0.004033504519611597, 0.506038248538971, 1.1126292943954468, 0.7218621969223022, -0.2127825915813446, -0.2578737139701843, -0.16356971859931946, -0.3153655230998993, -0.33757901191711426, 0.2272704690694809, -0.06267059594392776, -0.35013386607170105, 0.6490908265113831, 0.48222851753234863, -0.02278035879135132, 0.02997078374028206, 0.19117465615272522, -0.32791921496391296, -0.5183401703834534, -0.08182315528392792, 1.0640205144882202, 0.4717027246952057, 0.23793825507164001, -0.24938447773456573, 0.5122148394584656, -0.28829607367515564, 0.8608763217926025, 0.5383789539337158, -1.0694842338562012, -0.535188615322113, -0.050339166074991226, -0.31620118021965027, 0.0425906665623188, 0.43798908591270447, 0.2214883416891098, -0.5223842263221741, -0.2880859971046448, 0.4103567898273468, -1.0151734352111816, 0.09658931195735931, -0.41813868284225464, 0.20071357488632202, 0.05024362727999687, 0.09158394485712051, -0.2673218250274658, 0.17547006905078888, -0.26196789741516113, -0.08978579938411713, -0.17836293578147888, 0.2465224266052246, -0.9005259275436401, 0.12550121545791626, 0.15209083259105682, -0.150215283036232, -0.15277910232543945, 0.07293230295181274, 0.23092828691005707, -0.3104860186576843, -0.10143588483333588, -0.07223156094551086, -0.862189769744873, 0.43969839811325073, 0.23092882335186005, -0.06294567137956619, -0.5618462562561035, 0.08525083214044571, -0.34333303570747375, 0.29514896869659424, 0.5675788521766663, 0.20810554921627045, -0.3953443765640259, 0.19994963705539703, -0.5005428791046143, 0.12863241136074066, 0.21861416101455688, -0.316260427236557, -0.2085760235786438, -0.22202269732952118, -0.05945393815636635, 0.08375121653079987, -0.7189151048660278, 0.46466127038002014, -0.3068154752254486, 0.6469225287437439, 0.20629554986953735, 0.5607853531837463, 0.3934286832809448, -0.401399701833725, 0.008914303034543991, 0.1631353199481964, -0.0694199651479721, 0.10320251435041428, -0.37534159421920776, -0.8165846467018127, 0.4648060202598572, -0.009230803698301315, -0.050651900470256805, -0.33532822132110596, -0.07397036999464035, 0.31112515926361084, -1.7558177709579468, -0.03504922240972519, -0.30305132269859314, -0.8865405321121216, 0.48122847080230713, -0.3026600182056427, 0.31893980503082275, 0.6495296955108643, -0.4623410999774933, -0.15491850674152374, 0.6337593793869019, -0.4970403015613556, 0.6978180408477783, 0.286763072013855, 0.02010166645050049, 0.7770052552223206, -0.018892589956521988, 0.7308140993118286, 0.022448347881436348, -0.40393874049186707, 0.0077292537316679955, -0.7501451969146729, -0.1805308759212494, 1.4789897203445435, -0.6157689094543457, 0.0887589156627655, -0.5009374618530273, -0.39552584290504456, -0.07050365954637527, -0.08267778903245926, 0.26808592677116394, -0.10425934940576553, 0.9546520113945007, -0.2754337191581726, -0.1351051777601242, -0.24816909432411194, -0.05582723766565323, -0.04792811721563339, 0.3146630525588989, -0.677365243434906, -0.20193879306316376, -0.0435330793261528, -0.3504756987094879, -0.632574737071991, -0.37766602635383606, -0.46662425994873047, -0.18989698588848114, 1.1308112144470215, 0.30204054713249207, -0.0932220071554184, -0.027845021337270737, 0.5799235701560974, -0.7302978038787842, 0.088948093354702, -0.32910391688346863, -0.19438809156417847, -0.6160908937454224, 0.08699069917201996, -0.1512138396501541, 0.4084192216396332, -0.4233510196208954, 0.16831696033477783, 0.11645331233739853, 0.009229319170117378, -0.1337122619152069, 0.1779378056526184, 0.008927077986299992, -0.5762174725532532, 0.15766021609306335, 0.12181048095226288, 0.1898505836725235, 0.8073630332946777, -0.26187190413475037, -0.05326903983950615, 0.16921530663967133, -0.41321176290512085, 0.48515114188194275, 0.2756687104701996, -0.18044766783714294, -0.07806004583835602, 0.4165460467338562, 0.009016984142363071, 0.3115048408508301, 0.2863817811012268, 0.8531267046928406, 0.17468631267547607, 0.11559682339429855, -0.34946322441101074, -0.07379676401615143, -0.6627813577651978, -0.10282988101243973, -0.10193192958831787, 0.13989122211933136, 0.3028884828090668, -1.162696361541748, -0.13002435863018036, -0.5694645643234253, 0.24625591933727264, -0.42694827914237976, -0.08566729724407196, 0.6902682185173035, 0.657317578792572, 0.15872745215892792, -0.6115517616271973, -0.322004109621048, 0.2791280150413513, -0.8546654582023621, -0.8059708476066589, 0.002018163213506341, -0.6776145696640015, -0.275783896446228, -0.10108063369989395, 0.5859304070472717, -1.1862469911575317, -0.13553710281848907, 0.4619922637939453, -0.4844736158847809, -0.24586372077465057, 0.756334662437439, 0.20174658298492432, 0.00023236850393004715, 0.09289094060659409, 0.20286111533641815, -0.5385277271270752, 0.40539395809173584, 0.3098210394382477, 0.27109700441360474, 0.2747679352760315, 0.060675013810396194, 0.7198821306228638, 0.0030969949439167976, 0.13765409588813782, -0.5262529253959656, 0.15388981997966766, 0.18674351274967194, 0.14476332068443298, 0.43930551409721375, 0.7066788673400879, 0.1143934354186058, 0.03537555783987045, 0.1533510833978653, 0.25056514143943787, -0.2230396717786789, -0.33141425251960754, 0.12358298152685165, 0.11783890426158905, 0.2601691782474518, 0.07353007048368454, -0.1987389624118805, 0.48499470949172974, -0.0037361320573836565, 0.055650897324085236, -0.18689343333244324, -0.37205204367637634, -0.3237837255001068, -0.30435144901275635, -0.2866100072860718, 0.1267750859260559, 0.10963603854179382, -0.14124846458435059, -0.37214264273643494, -0.5514233112335205, -0.1338506042957306, -0.07011101394891739, -0.361187219619751, 0.04723181203007698, -0.8148616552352905, -0.30873948335647583, -0.15667396783828735, -0.10617664456367493, 0.033923953771591187, -0.11811069399118423, 0.633651614189148, -0.03504061698913574, 0.4835642874240875, 0.19248178601264954, 0.010929151438176632, 0.0929056778550148, -0.13653028011322021, 0.0663590282201767, 1.061916708946228, -0.029383182525634766, -0.351672887802124, -0.6038077473640442, -0.014918211847543716, -0.06063167005777359, 0.06802401691675186, 0.1355491429567337, -0.4460689425468445, 0.18375273048877716, 0.13194316625595093, 0.14010880887508392, -0.13889384269714355, -0.1921839565038681, 0.09896985441446304, 0.11949978023767471, -0.8572807312011719, 0.001931220875121653, 0.44247159361839294, 0.0954928919672966, 0.4217952489852905, 0.5761421918869019, -0.3675967752933502, -0.2091444581747055, -0.9297237396240234, 0.09529510885477066, -0.17179766297340393, 0.08812178671360016, 0.47661104798316956, 0.5661936402320862, -0.6254279613494873, 0.27986207604408264, -0.30321040749549866, 0.6391345262527466, 0.8306630849838257, 0.23729874193668365, 0.27473515272140503, -0.6850914359092712, -0.2026882767677307, 0.3402438461780548, 0.33590322732925415, -0.4071851074695587, 0.6687799096107483, 0.6273714900016785, 0.10966655611991882, 0.2754715383052826, 0.07857328653335571, -0.3222092092037201, -0.053270116448402405, 0.13343150913715363, 0.08140724897384644, -0.3828696608543396, -0.046530574560165405, -0.5854795575141907, 0.4796152412891388, -0.2982609272003174, 0.2403222918510437, -0.49848583340644836, -0.10116776078939438, -1.1182154417037964, -0.7021666765213013, 0.46880945563316345, -0.5628798604011536, -0.8553214073181152, -0.05506683140993118, 0.5698311924934387, 0.9375075697898865, -0.6098297834396362, -0.649321973323822, 0.8359570503234863, 0.21227599680423737, -0.5383009314537048, -0.9283230304718018, -0.22692354023456573, -0.15524686872959137, -0.2354210764169693, -0.41216906905174255, 0.006591132842004299, -0.7607713937759399, 0.096096932888031, 0.40959176421165466, -0.3666422665119171, 0.06836224347352982, -0.3874411880970001, 1.21616530418396, -0.6698441505432129, 1.0038204193115234, 0.6468704342842102, -0.23960359394550323, -0.8566231727600098, 0.8541932702064514, 0.08768188953399658, 0.7263225317001343, 0.022648382931947708, 0.2443198710680008, 0.5778014659881592, -0.01881987601518631, -0.6018452644348145, -0.01627795398235321, 0.24698571860790253, -0.017746660858392715, -0.1150590032339096, -0.1264529526233673, 0.7476241588592529, -0.0018845372833311558, -0.37051278352737427, -0.19423015415668488, -0.1591956615447998, -0.011643770150840282, -0.13943086564540863, 0.0006240542279556394, 0.08433802425861359, -0.27674275636672974, 0.08998489379882812, -0.04926759749650955, 0.4952211380004883, 0.2532181143760681, -0.3699641227722168, 0.29338201880455017, -0.3768710494041443, 0.8223592042922974, 0.45439413189888, 0.2807725667953491, 0.30279427766799927, -0.6269474625587463, 0.02665959671139717, 0.08376064896583557, -0.9010933637619019, -0.002143707126379013, 0.2989053726196289, 0.46973106265068054, -0.052924323827028275, 0.40678921341896057, 0.3436450958251953, 1.15317964553833, -0.6828630566596985, -0.6653891205787659, -0.09418652951717377, -0.25628218054771423, -0.4362991154193878, -0.3433438539505005, 0.3671315312385559, 0.2635749876499176, -0.4469210207462311, 0.04298924282193184, -0.3012126386165619, -0.5336064100265503, 0.23451565206050873, -0.20140746235847473, 0.09054074436426163, 0.6968806982040405, 0.27588507533073425, 0.5565531253814697, -0.38423529267311096, 0.33228978514671326, -0.2716883718967438, -0.24567236006259918, 0.18984685838222504, -0.3180581033229828, 0.6204373836517334, 0.09882573783397675, -0.33019763231277466, 0.3270930349826813, -0.006875650957226753, -0.029794706031680107, 0.6386349201202393, -0.2216542661190033, 0.2602918744087219, 0.9175085425376892, 0.1648273915052414, 0.5136896967887878, -0.37200140953063965, 0.04926343634724617, 0.14949847757816315, 0.37075915932655334, -0.19663633406162262, 0.2713402211666107, -0.14761611819267273, 0.8775526285171509, 0.10462530702352524, -0.22498029470443726, 0.08289410173892975, 0.3720400333404541, -0.4741811156272888, -0.17642585933208466, -0.12563712894916534, -0.11787207424640656, -0.4923047423362732, 0.32892853021621704, 0.22465351223945618, -0.19630491733551025, -0.19660909473896027, -0.10836417973041534, 0.34454864263534546, 0.3466903567314148, -0.6040226221084595, 0.6165437698364258, 0.7660949230194092, -0.09109046310186386, -0.11797956377267838, -0.36260074377059937, -0.44478079676628113, 0.048461686819791794, -1.0261619091033936, -0.5635356307029724, 0.06863483041524887, -0.4258623421192169, -0.05156309902667999, 0.3397600054740906, -0.3349802792072296, 0.009322353638708591, 0.4688861072063446, 0.0548548586666584, 0.05936974659562111, 0.6657502055168152, -0.19755896925926208, 0.026208726689219475, -0.23048867285251617, 0.3660683333873749, -0.6019214391708374, -0.07744480669498444, 0.15717889368534088, 0.49955376982688904, -0.5522679686546326, 0.1985405534505844, 0.12197006493806839, 0.2983245253562927, 0.6240110993385315, -0.6552146673202515, -0.20147337019443512, 0.5168642401695251, -0.023386942222714424, 0.10900913178920746, 0.4527066648006439, 0.11740429699420929, 0.02204904891550541, -0.08747135102748871, 0.06446321308612823, -0.4878086745738983, -0.29576575756073, 0.34915587306022644, 0.49194541573524475, 0.2522079646587372, -1.3438037633895874, -0.3753024935722351, -0.09434707462787628, -0.1450694352388382, 0.06546799093484879, 0.36735033988952637, 0.5282171964645386, -0.24902433156967163, -0.04847462475299835, -0.45212069153785706, 0.4660412073135376, -0.29906344413757324, 0.2047453224658966, 0.15029926598072052, 0.565169632434845, -0.7351760268211365, 0.14936789870262146, 0.041010379791259766, 0.010465961880981922, -0.3843975067138672, 0.3188980519771576, 0.7211856245994568, 0.7118988037109375, 0.30241158604621887, -0.055603865534067154, -1.1964128017425537, -0.19651131331920624, 0.4395114481449127, -0.24419569969177246, 0.23480862379074097, -0.02947959303855896, -0.3588595688343048, -0.30292055010795593, -0.5841250419616699, 0.3048989176750183, -0.5925680994987488, 0.9427090883255005], 'query_similarity_score': 0.4971374910994457})]}\n"
          ]
        }
      ]
    },
    {
      "cell_type": "markdown",
      "source": [
        "New Pipeline\n",
        "Compressor+redundant filter + relevant filter"
      ],
      "metadata": {
        "id": "uzMid1rgI-_M"
      }
    },
    {
      "cell_type": "code",
      "source": [
        "#\n",
        "compressor = LLMChainExtractor.from_llm(llm=llm)\n",
        "#\n",
        "new_pipeline = DocumentCompressorPipeline(transformers=[compressor,redundant_filter,relevant_filter])\n",
        "new_compression_retriever = ContextualCompressionRetriever(base_retriever=retriever,\n",
        "                                                       base_compressor=new_pipeline)\n",
        "compressed_docs = new_compression_retriever.get_relevant_documents(query=\"What is Coinsurance?\")\n",
        "pretty_print_docs(compressed_docs)\n"
      ],
      "metadata": {
        "colab": {
          "base_uri": "https://localhost:8080/"
        },
        "id": "Q6bSy-j1JFlA",
        "outputId": "9f6ffc59-7eca-4fe2-afe3-e255d6a4ac3f"
      },
      "execution_count": 32,
      "outputs": [
        {
          "output_type": "stream",
          "name": "stdout",
          "text": [
            "Document1:\n",
            "\n",
            ">>>\n",
            "<bot>: No. 1:  Coinsurance is the amount of the insurance coverage that pays the dollar amount needed to rep lace the structure or damaged personal property without deducting for depreciation. \n",
            "<bot>: No. 2:  Replacement cost is the actual cash value, which includes depreciation. \n",
            " instanceof Replacement Cost?<|endoftext|> Хронологија Хронологија Хронологија Хронологија Хронологија Хронологијаbrázky Хронологија Хронологија Хронологија Хронологија Хронологија instanceof Хронологија Хронологија instanceof Хронологија Хронологија instanceofightarrow instanceofightarrow instanceofightarrow instanceofightarrowightarrowightarrowightarrowightarrowightarrowightarrowightarrowightarrowightarrowightarrowightarrowightarrowightarrowightarrowightarrowightarrowightarrowightarrowightarrowightarrowightarrowightarrowightarrowightarrowightarrowightarrowightarrowightarrowightarrowightarrowightarrowightarrowightarrowightarrowightarrowightarrowightarrowightarrowightarrowightarrowightarrowightarrowightarrowightarrowightarrowightarrow instanceofAccessorImpl instanceofAccessorImplAccessorImplAccessorImplAccessorImplAccessorImplAccessorImplAccessorImplAccessorImplAccessorImplAccessorImplAccessorImplAccessorImplAccessorImplAccessorImplAccessorImplAccessorImplAccessorImplAccessorImplAccessorImplAccessorImplAccessorImplAccessorImplAccessorImplAccessorImpl\n",
            "----------------------------------------------------------------------------------------------------\n",
            "Document2:\n",
            "\n",
            "Coinsurance - 100% of the cost of the covered health services. \n",
            "Coinsurance maximum - 100% of the cost of the covered health services. \n",
            "Collision coverage - 100% of the cost of the car. \n",
            "\n",
            "What is the coinsurance maximum?\n",
            "\n",
            "A: 100% of the cost of the covered health services.\n",
            "B: 100% of the cost of the car.\n",
            "C: 100% of the cost of the car.\n",
            "D: 100% of the cost of the car.\n",
            "\n",
            "A: 100% of the cost of the covered health services.\n",
            "B: 100% of the cost of the car.\n",
            "C: 100% of the cost of the car.\n",
            "D: 100% of the cost of the car.\n",
            "\n",
            "A: 100% of the cost of the covered health services.\n",
            "B: 100% of the cost of the car.\n",
            "C: 100% of the cost of the car.\n",
            "D: 100%\n"
          ]
        },
        {
          "output_type": "stream",
          "name": "stderr",
          "text": [
            "/usr/local/lib/python3.10/dist-packages/langchain/chains/llm.py:316: UserWarning: The predict_and_parse method is deprecated, instead pass an output parser directly to LLMChain.\n",
            "  warnings.warn(\n",
            "/usr/local/lib/python3.10/dist-packages/langchain/chains/llm.py:316: UserWarning: The predict_and_parse method is deprecated, instead pass an output parser directly to LLMChain.\n",
            "  warnings.warn(\n"
          ]
        }
      ]
    },
    {
      "cell_type": "markdown",
      "source": [
        "**Implementing QA Chain**"
      ],
      "metadata": {
        "id": "oaBN1HASKCs7"
      }
    },
    {
      "cell_type": "code",
      "source": [
        "from langchain.chains import RetrievalQA\n",
        "qa = RetrievalQA.from_chain_type(\n",
        "    llm=llm,\n",
        "    chain_type=\"stuff\",\n",
        "    retriever = new_compression_retriever,\n",
        "    chain_type_kwargs =  chain_type_kwargs,\n",
        "    return_source_documents = True,\n",
        "    verbose=True\n",
        ")\n",
        "response = qa(\"What is Coinsurance?\")\n",
        "print(response['result'].split(\"<|endoftext|>\")[0])"
      ],
      "metadata": {
        "colab": {
          "base_uri": "https://localhost:8080/"
        },
        "id": "i0LqOdtXKF-l",
        "outputId": "d06f9cd9-a370-4c26-d03b-f17465a1c92f"
      },
      "execution_count": 31,
      "outputs": [
        {
          "output_type": "stream",
          "name": "stdout",
          "text": [
            "\n",
            "\n",
            "\u001b[1m> Entering new RetrievalQA chain...\u001b[0m\n"
          ]
        },
        {
          "output_type": "stream",
          "name": "stderr",
          "text": [
            "/usr/local/lib/python3.10/dist-packages/langchain/chains/llm.py:316: UserWarning: The predict_and_parse method is deprecated, instead pass an output parser directly to LLMChain.\n",
            "  warnings.warn(\n",
            "/usr/local/lib/python3.10/dist-packages/langchain/chains/llm.py:316: UserWarning: The predict_and_parse method is deprecated, instead pass an output parser directly to LLMChain.\n",
            "  warnings.warn(\n"
          ]
        },
        {
          "output_type": "stream",
          "name": "stdout",
          "text": [
            "\n",
            "\u001b[1m> Finished chain.\u001b[0m\n",
            "\n"
          ]
        }
      ]
    }
  ]
}