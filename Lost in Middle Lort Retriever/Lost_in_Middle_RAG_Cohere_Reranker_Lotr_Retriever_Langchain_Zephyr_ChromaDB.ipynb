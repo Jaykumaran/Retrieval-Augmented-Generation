{
  "nbformat": 4,
  "nbformat_minor": 0,
  "metadata": {
    "colab": {
      "provenance": [],
      "gpuType": "T4"
    },
    "kernelspec": {
      "name": "python3",
      "display_name": "Python 3"
    },
    "language_info": {
      "name": "python"
    },
    "accelerator": "GPU"
  },
  "cells": [
    {
      "cell_type": "code",
      "execution_count": 1,
      "metadata": {
        "id": "PGK3qkE2jUTZ"
      },
      "outputs": [],
      "source": [
        "%%capture\n",
        "!pip install -qU langchain chromadb huggingface_hub sentence-transformers pypdf cohere openai tiktoken"
      ]
    },
    {
      "cell_type": "code",
      "source": [
        "import os\n",
        "from langchain.document_transformers import(\n",
        "    EmbeddingsClusteringFilter,\n",
        "    EmbeddingsRedundantFilter)\n",
        "from langchain.retrievers.document_compressors import DocumentCompressorPipeline\n",
        "from langchain.embeddings import HuggingFaceEmbeddings,CohereEmbeddings,HuggingFaceBgeEmbeddings\n",
        "#alternatively use openaiembeddings\n",
        "from langchain.retrievers import ContextualCompressionRetriever\n",
        "from langchain.document_transformers import LongContextReorder\n",
        "from langchain.retrievers.merger_retriever import MergerRetriever\n",
        "from langchain.text_splitter import RecursiveCharacterTextSplitter\n",
        "from langchain.vectorstores import FAISS,Chroma\n",
        "from langchain.document_loaders import PyPDFLoader\n"
      ],
      "metadata": {
        "id": "BHiVYcYLj0I8"
      },
      "execution_count": 32,
      "outputs": []
    },
    {
      "cell_type": "markdown",
      "source": [
        "**Cohere API Keys**"
      ],
      "metadata": {
        "id": "B3j-rBwsnK3z"
      }
    },
    {
      "cell_type": "code",
      "source": [
        "import os\n",
        "from getpass import getpass\n",
        "import cohere\n",
        "#get free cohere api key in cohere or openai website\n",
        "os.environ[\"COHERE_API_KEY\"] = \"\""
      ],
      "metadata": {
        "id": "tS4e-WHcnNU-"
      },
      "execution_count": 12,
      "outputs": []
    },
    {
      "cell_type": "markdown",
      "source": [
        "**Setup Embedding Model**"
      ],
      "metadata": {
        "id": "_K9edSZFozMr"
      }
    },
    {
      "cell_type": "code",
      "source": [
        "hf_embeddings = HuggingFaceEmbeddings(model_name=\"sentence-transformers/all-MiniLM-L6-v2\",\n",
        "                                      model_kwargs={\"device\": 'cuda'},\n",
        "                                      encode_kwargs = {'normalize_embeddings':False})\n",
        "\n",
        "hf_bge_embeddings = HuggingFaceBgeEmbeddings(model_name=\"BAAI/bge-large-en\",\n",
        "                                             model_kwargs={'device': 'cuda'},\n",
        "                                             encode_kwargs={'normalize_embeddings':False})\n",
        "cohere_embeddings = CohereEmbeddings(model=\"embed-english-light-v3.0\")\n"
      ],
      "metadata": {
        "id": "apsEtiYNo-TZ"
      },
      "execution_count": 20,
      "outputs": []
    },
    {
      "cell_type": "markdown",
      "source": [
        "**Data Processing**"
      ],
      "metadata": {
        "id": "jYhURoEjp6ur"
      }
    },
    {
      "cell_type": "code",
      "source": [
        "loader_mh = PyPDFLoader(\"/content/wcms_108221.pdf\")\n",
        "document_mh = loader_mh.load()\n",
        "print(len(document_mh))\n",
        "loader_esops = PyPDFLoader(\"/content/Employee-Stock-Option-Plans-ESOP-Best-Practices-2.pdf\")\n",
        "document_esops = loader_esops.load()\n",
        "print(len(document_esops))\n"
      ],
      "metadata": {
        "colab": {
          "base_uri": "https://localhost:8080/"
        },
        "id": "dNVjQYirp8xr",
        "outputId": "7a6b02f1-9b07-4195-a6a9-abe132a4306b"
      },
      "execution_count": 21,
      "outputs": [
        {
          "output_type": "stream",
          "name": "stdout",
          "text": [
            "37\n",
            "44\n"
          ]
        }
      ]
    },
    {
      "cell_type": "markdown",
      "source": [
        "**Split Text into Chunks**"
      ],
      "metadata": {
        "id": "RbCA4AL0rNqu"
      }
    },
    {
      "cell_type": "code",
      "source": [
        "text_splitter = RecursiveCharacterTextSplitter(chunk_size=1000,\n",
        "                                               chunk_overlap=200)\n",
        "text_mh = text_splitter.split_documents(document_mh) #mental health\n",
        "text_esops = text_splitter.split_documents(document_esops)\n",
        "print(len(text_mh))\n",
        "print(len(text_esops))"
      ],
      "metadata": {
        "colab": {
          "base_uri": "https://localhost:8080/"
        },
        "id": "0nsJLgwtrRIm",
        "outputId": "0423d62e-f102-4a36-bac9-33f1c04e71f6"
      },
      "execution_count": 22,
      "outputs": [
        {
          "output_type": "stream",
          "name": "stdout",
          "text": [
            "157\n",
            "50\n"
          ]
        }
      ]
    },
    {
      "cell_type": "markdown",
      "source": [
        "**Chromadb Indexes Instantiate with different embedding for these two docs**"
      ],
      "metadata": {
        "id": "e_z1Ahpnrt4C"
      }
    },
    {
      "cell_type": "code",
      "source": [
        "import chromadb\n",
        "ABS_PATH = os.path.dirname(os.path.abspath(\".\"))\n",
        "DB_DIR = os.path.join(ABS_PATH,\"db\")\n",
        "#\n",
        "client_settings = chromadb.config.Settings(\n",
        "    is_persistent=True,\n",
        "    persist_directory=DB_DIR,\n",
        "    anonymized_telemetry=False #moving from local to hub\n",
        ")\n",
        "#\n",
        "mh_vectorstore = Chroma.from_documents(text_mh,\n",
        "                                       hf_bge_embeddings,\n",
        "                                       client_settings=client_settings,\n",
        "                                       collection_name=\"mental_health\",\n",
        "                                       collection_metadata={\"hnsw\":\"cosine\"},\n",
        "                                       persist_directory='/store/Database')\n",
        "\n",
        "esops_vectorstore = Chroma.from_documents(text_esops,\n",
        "                                          hf_embeddings,\n",
        "                                          client_settings=client_settings,\n",
        "                                          collection_name=\"esops\",\n",
        "                                          collection_metadata = {\"hnsw\":\"cosine\"},\n",
        "                                          persist_directory=\"/store/Database\"\n",
        ")\n"
      ],
      "metadata": {
        "id": "77OACtUir7o0"
      },
      "execution_count": 23,
      "outputs": []
    },
    {
      "cell_type": "markdown",
      "source": [
        "**Load VectorStore**"
      ],
      "metadata": {
        "id": "KZotNbYwtvTA"
      }
    },
    {
      "cell_type": "code",
      "source": [
        "retriever_mh = mh_vectorstore.as_retriever(search_type=\"mmr\",\n",
        "                                           search_kwargs={'k':5,\"include_metadata\":True})\n",
        "retriever_esops = esops_vectorstore.as_retriever(search_type=\"mmr\",\n",
        "                                                 search_kwargs={'k':5,\"include_metadata\":True})\n"
      ],
      "metadata": {
        "id": "lWDNXxF3tyle"
      },
      "execution_count": 24,
      "outputs": []
    },
    {
      "cell_type": "markdown",
      "source": [
        "**Merge all the retrievers**:\n",
        "This will hold the outputs from both the retrievers and can be used as any other retriever on different types of chains.\n",
        "The EnsembleRetriever and the MergerRetriever (LOTR) in Langchain do have similar functionalities in that they both combine the results of multiple retrievers. However, they handle the merging of outputs differently.\n",
        "\n",
        "The EnsembleRetriever uses a technique called Reciprocal Rank Fusion (RRF) to combine the results. It takes a list of retrievers and a corresponding list of weights as input. If no weights are provided, it defaults to equal weighting for all retrievers. The RRF score for each document is calculated as the weight times the reciprocal of the rank plus a constant ‘c’. The final result is a list of items sorted by their weighted RRF scores in descending order\n",
        "\n",
        "The MergerRetriever (LOTR) merges the outputs from different retrievers in a round-robin fashion. It first gets the relevant documents from all retrievers and then merges them. The merged results will be a list of documents that are relevant to the query and that have been ranked by the different retrievers. Redundant results from the merged retrievers can be removed using the EmbeddingsRedundantFilter with another embedding. The documents can also be divided into clusters or \"centers\" of meaning, and the closest document to that center can be picked for the final results. This can be done using the EmbeddingsClusteringFilter\n",
        "\n",
        "As for the specific use case for using the EnsembleRetriever over the MergerRetriever, it depends on your needs.\n",
        "\n",
        "The EnsembleRetriever can be used to adjust the influence of different retrievers on the final result by assigning different weights to the retrievers.\n",
        "\n",
        "The MergerRetriever, on the other hand, can be used to reduce the risk of bias in the results and ensure that the most relevant documents are returned first."
      ],
      "metadata": {
        "id": "jJQ3vY9Qu-ju"
      }
    },
    {
      "cell_type": "code",
      "source": [
        "lotr = MergerRetriever(retriever=[retriever_mh,retriever_esops])\n",
        "\n",
        "for chunks in lotr.get_relevant_documents(\"What is esops?\"):\n",
        "   print(chunks.page_content)\n",
        "\n"
      ],
      "metadata": {
        "colab": {
          "base_uri": "https://localhost:8080/"
        },
        "id": "adsy42wTvDEU",
        "outputId": "e0a263c0-872c-4921-c986-5719ea09b6b2"
      },
      "execution_count": 26,
      "outputs": [
        {
          "output_type": "stream",
          "name": "stdout",
          "text": [
            "Non-governmen-\n",
            "tal organisationsare vital in raisingawareness ofmental healthissues, dissemi-nating informa-tion, providingservices, andreducing stigmasurrounding men-tal health prob-lems.Finland provides an example of an extensive occupational health care serv-ice system that reaches 90 % of the workforce.  Occupational health careservices are also responsible for providing rehabilitation services foremployees.  Mental health issues have not traditionally belonged to thedomain of occupational health care services, but their importance to employ-ees’ work ability has been recognised, and more attention and resourceshave been devoted to them.  In the USA and the UK, where the occupation-al health care services operate on a different basis, Employee AssistanceProgrammes (EAP) are becoming a more common and popular means toprovide counselling and confidential information.  EAP services are inde-pendent of but financed by employers.\n",
            "THE ROLE OF GOVERNMENT AND THE SOCIAL PARTNERS\n",
            "ESOPS FOR THE LONG TERM  Part IV\n",
            "The ILO’s Target Groups Unit, in the Infocus\n",
            "1Programme on Skills,\n",
            "Knowledge, and Employability, focuses on the human resource needs ofvulnerable groups, including individuals with mental health difficulties,and promotes the inclusion of persons with mental health difficulties andphysical disabilities into mainstream training and employment.  The ILO’soccupational safety and health programmes, Safe Work and Conditions ofWork, complement these activities by dealing with issues of occupationalsafety and health and working conditions.\n",
            "This summary and the situation analyses resulting from the project\n",
            "What is an ESOP?  \n",
            "•An Employee Stock Options Plan (ESOP)  \n",
            " \n",
            "•An allocation  of shares that will be granted to employees in the future \n",
            "in the form of stock options  \n",
            "–How much equity should we set aside for employees?  \n",
            " \n",
            "•A plan for how these options will be distributed:  \n",
            "–How many shares will individual employees receive?  \n",
            "–What terms will govern these grants?  \n",
            " \n",
            "•The plan is as important as the allocation!\n",
            "The role of government and social partners \n",
            "The Ministries of Labour and Health and Social Affairs are vital inadvancing good working conditions, improving and maintaining the\n",
            "work ability of the Finnish labour force, and providing mental health careservices, occupational health care services, and rehabilitation.  The Ministryof Labour runs workplace programmes that address issues conducive toemployees’ wellbeing and the quality of working life.  The National Researchand Development Centre for Welfare and Health (STAKES), an affiliate ofthe Ministry of Health and Social Affairs, runs several successful nation-wide programmes targeting suicide and depression. \n",
            "Central employees’ organisations also actively promote wellbeing and work\n",
            "Late-VC Flush with capital,  startups at this stage \n",
            "begin to steadily ramp -up hiring, yet \n",
            "employees still want equity  Important to have standardized the  \n",
            "ESOP and the amount of equity granted \n",
            "to new hires at each level  \n",
            "Growth  Company is aggressively pursuing \n",
            "growth and hiring; likely to have \n",
            "exhausted most of the ESOP  Most of the ESOP is gone, but shares \n",
            "remaining are more valuable; use them \n",
            "to allow  new hires to share in the upside  Make employee equity allocations and set up an ESOP sometime \n",
            "between the pre -seed and early -VC stage\n",
            "context of a nearly universal market economy in which the pace of econom-ic activities is fast, contractual relationships start and terminate at shortnotice, and international competition is intensified.  While globalisation hasopened up new opportunities for powerful and dynamic development andgrowth of the world economy, it does not benefit every person or region inthe world equally.  The key elements that globalisation has brought areincreasing automation, rapid implementation of information technology,and the need for more flexible and responsive work methods.  Workersworldwide confront, as never before, an array of new organisational struc-tures and processes which can affect their mental health.  These includedownsizing, layoffs, mergers, contingent employment, and increased workload.  To guarantee the best results in international competition, it is in theinterest of employers to provide their employees with decent working con-\n",
            "ditions.\n",
            "10\n",
            "THE PURPOSE OF THE SITUATION ANALYSES\n",
            "Legal Advice  \n",
            "When structuring an ESOP, engage an experienced \n",
            "startup lawyer with regional expertise to standardize the \n",
            "terms and language\n",
            "In addition to task forces and executive orders, there is a group of laws\n",
            "which reflect national policy and provide the legislative framework for effec-tively managing the impact of depressive disorders ( and other mentalhealth problems) on the workplace.  These laws do not focus specifically ondepression but operate within the larger framework of all disabilities.\n",
            "The situation analysis highlights: The Americans with Disabilities Act of\n",
            "1990 (ADA); the Family and Medical Leave Act of 1993 (FMLA); healthinsurance parity laws in mental health services and state workers’ compen-sation laws.  The Americans with Disabilities Act represents a watershed inthe history of the disability rights movement in the U.S.  It is one of the mostsignificant employment laws in U.S. history.  The ADA outlaws discrimina-tion against people with disabilities in nearly every domain of public life,including employment, transportation, communication, and recreationalactivities.\n",
            "The defining difference between Silicon Valley companies and almost \n",
            "every other industry in the U.S. is the virtually universal practice among \n",
            "tech companies of distributing meaningful equity (usually in the form of \n",
            "stock options) to ordinary employees .  A Defining Characteristic of Startup Culture  \n",
            "Steven Johnson, Technology Writer  \n",
            "•Startups are a unique case . Unlike at larger corporations, employee \n",
            "ownership is an essential element of startup communities and culture  \n",
            "–As high -risk/high -reward enterprises, startups use options to align \n",
            "employee compensation with the risk -prone mentality of the \n",
            "business  \n",
            "–Startups seeking to achieve a “big exit” use options to align all \n",
            "employees to drive toward this desired outcome\n"
          ]
        }
      ]
    },
    {
      "cell_type": "code",
      "source": [
        "for chunks in lotr.get_relevant_documents(\"What is consequence of Stigma?\"):\n",
        "  print(chunks.page_content)"
      ],
      "metadata": {
        "colab": {
          "base_uri": "https://localhost:8080/"
        },
        "id": "vRIIzvxKvhUt",
        "outputId": "7a41f45e-1286-4c39-926c-fe4e1867473b"
      },
      "execution_count": 27,
      "outputs": [
        {
          "output_type": "stream",
          "name": "stdout",
          "text": [
            "feelings of shame, fear, and rejection.\n",
            "4\n",
            "Stigma surrounds people with mental health difficulties, and the recovery\n",
            "process is often misunderstood.  Stigmatisation can negatively affect thesuccess of vocational efforts.  For example, it has been reported that manyprofessional workers who either resign a job or take a medical leave relatedto a mental illness episode, such as depression, experience difficulty main-taining a stigma-free relationship with their employers.  Those returning tothe same work environment find that performance and behavioural difficul-ties, which initially interrupted their work, have altered their employers’\n",
            "and co-workers’ perception of their professional abilities.\n",
            "5\n",
            "It is clear that mental health problems can impose a heavy burden in terms\n",
            "Social Impact Considerations  \n",
            "•Companies focused on social impact goals and/or in developing \n",
            "markets may have unique ESOP considerations  \n",
            "•Consider two possible scenarios:  \n",
            "–Financial Inclusion Goals : Employee -friendly hiring practices and \n",
            "ESOPs can help build local financial inclusion. If this is part of your \n",
            "corporate mandate, consider the added social impact value of \n",
            "offering your options program to all levels of employees  \n",
            "–Local Ownership Culture : Conversely, in certain regions stock \n",
            "options may have negligible value to employees, either because of \n",
            "risk aversion, lack of liquidity, or lack of understanding. If this is the \n",
            "case, it is not worth extensively offering options to employees who \n",
            "would rather be paid in cash\n",
            "The United\n",
            "Nations esti-mates that 25%of the entire pop-ulation isadversely affectedin one way oranother as aresult of disabili-ties.\n",
            "Mental health\n",
            "problems do notjust affect theindividual.  Theyimpact the entirecommunity.  They can impose aheavy burden interms of socialexclusion, stig-matisation, andeconomic costsfor people withmental health dif-ficulties and theirfamilies.tal disorders, and they are a major reason for granting disability pensions inseveral countries.  The United Nations estimates that 25% of the entire pop-\n",
            "ulation is adversely affected in one way or another as a result of disabilities.\n",
            "2\n",
            "Mental health problems do not just affect the individual.  They impact the\n",
            "entire community. The cost of excluding people with mental health difficul-ties from an active role in community life is high.  Exclusion often leads todiminished productivity and losses in human potential.  The cost of mental\n",
            "health problems, and of other disabilities, has three components:\n",
            "3\n",
            "The Cliff  \n",
            "•The cliff protects the company  \n",
            "•This trial period exists so that the company can avoid giving shares to \n",
            "employees immediately, reserving the opportunity part ways if the \n",
            "employee does not perform well  \n",
            "•Standard cliff: 1 year  \n",
            "–Alternatively, some companies require a 2 -year cliff. However, in \n",
            "startup communities where employees know what is “standard” this \n",
            "can cause significant discontent  \n",
            "–Firing an employee right as their cliff is about to expire is legal, but \n",
            "unethical – begin to communicate discontent as early as possible \n",
            "during the trail period  The trial period during which no vesting occurs; in this period vesting \n",
            "accrues, but the accrued shares are earned immediately after the cliff\n",
            "The situational analysis examines three major areas: Mental health at the\n",
            "national level, The role of government and social partners, and Managingmental health in the workplace.\n",
            "Mental health at the national level begins with a discussion\n",
            "of the evolution of the disability rights movement in the U.S.  Historically,\n",
            "the disability rights movement has consisted primarily of people with phys-ical disabilities.  Because the disability rights movement has a significantimpact on current public policy and social awareness, mental health advo-cacy and awareness must be viewed within its overall context.  One of thekey themes in this situational analysis is that while stigma and discrimi-nation affect the lives of all people with disabilities, people with mentalhealth problems suffer from some of their harshest manifestations.\n",
            "The report notes that during the 1990s there was a substantial increase in\n",
            "THE FINE PRINT – TERMS  Part III\n",
            "services still existsin all five countries.  Stigma may prevent the person suffering from a men-tal health problem from seeking treatment, and ultimately, can lead tounnecessarily severe and costly problems.\n",
            "ESOPS FOR THE LONG TERM  Part IV\n",
            "depressive disorder in the U.S.  Depression is a workplace health issue thatsignificantly impacts the bottom line.  In this situational analysis, the lit-erature showed that depression-related illnesses predominated in preva-lence and cost over other traditional occupational health issues, such assubstance disorders.  It is estimated that depression costs the nationbetween $30 and $44 billion with approximately 200 million lost workdayseach year.  Employers assume much of this financial burden associatedwith depression, both in direct treatment costs and through absenteeism,reduced productivity, and more frequent work-related accidents.  However,it is important to note that the treatment success rate for depression ishigh, ranging from 65% to 80%.  Although this report focuses on examiningthe impact of depression, it is often assessed within the context of overallmental health or psychiatric problems.  This is due, in large part, to thenature of the data which does not always\n",
            "Discretionary Grants  \n",
            "•Bonuses Outstanding Performance  \n",
            "–These discretionary grants should only be made once per year, and \n",
            "only offered to your top 10 -20% of employees whose \n",
            "accomplishments and performance are truly distinguished  \n",
            "•Promotions  \n",
            "–These discretionary grants should only be made to reward \n",
            "promotion. Bring the employee’s total equity up to the amount you \n",
            "would pay to hire them today.\n"
          ]
        }
      ]
    },
    {
      "cell_type": "markdown",
      "source": [
        "**Remove redundant results from merged_retrievers**"
      ],
      "metadata": {
        "id": "z8wAs5-tvuQS"
      }
    },
    {
      "cell_type": "code",
      "source": [
        "filter = EmbeddingsRedundantFilter(embeddings=cohere_embeddings)\n",
        "pipeline = DocumentCompressorPipeline(transformers=[filter])\n",
        "compression_retriever = ContextualCompressionRetriever(base_compressor=pipeline,\n",
        "                                                        base_retriever=lotr)\n"
      ],
      "metadata": {
        "id": "NJLYceMvv0QG"
      },
      "execution_count": 33,
      "outputs": []
    },
    {
      "cell_type": "markdown",
      "source": [
        "**Retrieve final doc ordered by original retriever scores**"
      ],
      "metadata": {
        "id": "9886moZPypOv"
      }
    },
    {
      "cell_type": "code",
      "source": [
        "filter_ordered_by_retriever = EmbeddingsClusteringFilter(\n",
        "    embeddings=cohere_embeddings,\n",
        "    num_clusters=10,\n",
        "    num_closest=1,\n",
        "    sorted=True,\n",
        ")\n",
        "\n",
        "pipeline = DocumentCompressorPipeline(transformers=[filter_ordered_by_retriever])\n",
        "compression_retriever = ContextualCompressionRetriever(\n",
        "    base_compressor=pipeline,base_retriever=lotr\n",
        ")"
      ],
      "metadata": {
        "id": "7fDj_plXyv8S"
      },
      "execution_count": 34,
      "outputs": []
    },
    {
      "cell_type": "markdown",
      "source": [
        "**Visualising Results before Reordering results to avoid performance degradation**"
      ],
      "metadata": {
        "id": "o7z_iw-Mzd7V"
      }
    },
    {
      "cell_type": "code",
      "source": [
        "lotr = MergerRetriever(retrievers=[retriever_mh,retriever_esops])\n",
        "query=\"What is ESOPS?\"\n",
        "docs = lotr.get_relevant_documents(query)\n",
        "docs"
      ],
      "metadata": {
        "colab": {
          "base_uri": "https://localhost:8080/"
        },
        "id": "tdSzcP73zkdh",
        "outputId": "1f51239e-9eeb-4571-8c04-04745d44a6f7"
      },
      "execution_count": 35,
      "outputs": [
        {
          "output_type": "execute_result",
          "data": {
            "text/plain": [
              "[Document(page_content='Non-governmen-\\ntal organisationsare vital in raisingawareness ofmental healthissues, dissemi-nating informa-tion, providingservices, andreducing stigmasurrounding men-tal health prob-lems.Finland provides an example of an extensive occupational health care serv-ice system that reaches 90 % of the workforce.  Occupational health careservices are also responsible for providing rehabilitation services foremployees.  Mental health issues have not traditionally belonged to thedomain of occupational health care services, but their importance to employ-ees’ work ability has been recognised, and more attention and resourceshave been devoted to them.  In the USA and the UK, where the occupation-al health care services operate on a different basis, Employee AssistanceProgrammes (EAP) are becoming a more common and popular means toprovide counselling and confidential information.  EAP services are inde-pendent of but financed by employers.\\nTHE ROLE OF GOVERNMENT AND THE SOCIAL PARTNERS', metadata={'page': 11, 'source': '/content/wcms_108221.pdf'}),\n",
              " Document(page_content='ESOPS FOR THE LONG TERM  Part IV', metadata={'page': 34, 'source': '/content/Employee-Stock-Option-Plans-ESOP-Best-Practices-2.pdf'}),\n",
              " Document(page_content='The ILO’s Target Groups Unit, in the Infocus\\n1Programme on Skills,\\nKnowledge, and Employability, focuses on the human resource needs ofvulnerable groups, including individuals with mental health difficulties,and promotes the inclusion of persons with mental health difficulties andphysical disabilities into mainstream training and employment.  The ILO’soccupational safety and health programmes, Safe Work and Conditions ofWork, complement these activities by dealing with issues of occupationalsafety and health and working conditions.\\nThis summary and the situation analyses resulting from the project', metadata={'page': 5, 'source': '/content/wcms_108221.pdf'}),\n",
              " Document(page_content='What is an ESOP?  \\n•An Employee Stock Options Plan (ESOP)  \\n \\n•An allocation  of shares that will be granted to employees in the future \\nin the form of stock options  \\n–How much equity should we set aside for employees?  \\n \\n•A plan for how these options will be distributed:  \\n–How many shares will individual employees receive?  \\n–What terms will govern these grants?  \\n \\n•The plan is as important as the allocation!', metadata={'page': 3, 'source': '/content/Employee-Stock-Option-Plans-ESOP-Best-Practices-2.pdf'}),\n",
              " Document(page_content='The role of government and social partners \\nThe Ministries of Labour and Health and Social Affairs are vital inadvancing good working conditions, improving and maintaining the\\nwork ability of the Finnish labour force, and providing mental health careservices, occupational health care services, and rehabilitation.  The Ministryof Labour runs workplace programmes that address issues conducive toemployees’ wellbeing and the quality of working life.  The National Researchand Development Centre for Welfare and Health (STAKES), an affiliate ofthe Ministry of Health and Social Affairs, runs several successful nation-wide programmes targeting suicide and depression. \\nCentral employees’ organisations also actively promote wellbeing and work', metadata={'page': 20, 'source': '/content/wcms_108221.pdf'}),\n",
              " Document(page_content='Late-VC Flush with capital,  startups at this stage \\nbegin to steadily ramp -up hiring, yet \\nemployees still want equity  Important to have standardized the  \\nESOP and the amount of equity granted \\nto new hires at each level  \\nGrowth  Company is aggressively pursuing \\ngrowth and hiring; likely to have \\nexhausted most of the ESOP  Most of the ESOP is gone, but shares \\nremaining are more valuable; use them \\nto allow  new hires to share in the upside  Make employee equity allocations and set up an ESOP sometime \\nbetween the pre -seed and early -VC stage', metadata={'page': 10, 'source': '/content/Employee-Stock-Option-Plans-ESOP-Best-Practices-2.pdf'}),\n",
              " Document(page_content='context of a nearly universal market economy in which the pace of econom-ic activities is fast, contractual relationships start and terminate at shortnotice, and international competition is intensified.  While globalisation hasopened up new opportunities for powerful and dynamic development andgrowth of the world economy, it does not benefit every person or region inthe world equally.  The key elements that globalisation has brought areincreasing automation, rapid implementation of information technology,and the need for more flexible and responsive work methods.  Workersworldwide confront, as never before, an array of new organisational struc-tures and processes which can affect their mental health.  These includedownsizing, layoffs, mergers, contingent employment, and increased workload.  To guarantee the best results in international competition, it is in theinterest of employers to provide their employees with decent working con-\\nditions.\\n10\\nTHE PURPOSE OF THE SITUATION ANALYSES', metadata={'page': 7, 'source': '/content/wcms_108221.pdf'}),\n",
              " Document(page_content='Legal Advice  \\nWhen structuring an ESOP, engage an experienced \\nstartup lawyer with regional expertise to standardize the \\nterms and language', metadata={'page': 33, 'source': '/content/Employee-Stock-Option-Plans-ESOP-Best-Practices-2.pdf'}),\n",
              " Document(page_content='In addition to task forces and executive orders, there is a group of laws\\nwhich reflect national policy and provide the legislative framework for effec-tively managing the impact of depressive disorders ( and other mentalhealth problems) on the workplace.  These laws do not focus specifically ondepression but operate within the larger framework of all disabilities.\\nThe situation analysis highlights: The Americans with Disabilities Act of\\n1990 (ADA); the Family and Medical Leave Act of 1993 (FMLA); healthinsurance parity laws in mental health services and state workers’ compen-sation laws.  The Americans with Disabilities Act represents a watershed inthe history of the disability rights movement in the U.S.  It is one of the mostsignificant employment laws in U.S. history.  The ADA outlaws discrimina-tion against people with disabilities in nearly every domain of public life,including employment, transportation, communication, and recreationalactivities.', metadata={'page': 32, 'source': '/content/wcms_108221.pdf'}),\n",
              " Document(page_content='The defining difference between Silicon Valley companies and almost \\nevery other industry in the U.S. is the virtually universal practice among \\ntech companies of distributing meaningful equity (usually in the form of \\nstock options) to ordinary employees .  A Defining Characteristic of Startup Culture  \\nSteven Johnson, Technology Writer  \\n•Startups are a unique case . Unlike at larger corporations, employee \\nownership is an essential element of startup communities and culture  \\n–As high -risk/high -reward enterprises, startups use options to align \\nemployee compensation with the risk -prone mentality of the \\nbusiness  \\n–Startups seeking to achieve a “big exit” use options to align all \\nemployees to drive toward this desired outcome', metadata={'page': 8, 'source': '/content/Employee-Stock-Option-Plans-ESOP-Best-Practices-2.pdf'})]"
            ]
          },
          "metadata": {},
          "execution_count": 35
        }
      ]
    },
    {
      "cell_type": "markdown",
      "source": [
        "**Re-ordered Docs(Tackling Lost in the Middle)**"
      ],
      "metadata": {
        "id": "oMwLEJJyz73j"
      }
    },
    {
      "cell_type": "code",
      "source": [
        "reordering = LongContextReorder()\n",
        "reordered_docs=reordering.transform_documents(docs)\n",
        "reordered_docs"
      ],
      "metadata": {
        "colab": {
          "base_uri": "https://localhost:8080/"
        },
        "id": "zxR_1Vqo0DMp",
        "outputId": "14caa8dd-fabb-4880-a5db-1d009c1ca6e9"
      },
      "execution_count": 36,
      "outputs": [
        {
          "output_type": "execute_result",
          "data": {
            "text/plain": [
              "[Document(page_content='ESOPS FOR THE LONG TERM  Part IV', metadata={'page': 34, 'source': '/content/Employee-Stock-Option-Plans-ESOP-Best-Practices-2.pdf'}),\n",
              " Document(page_content='What is an ESOP?  \\n•An Employee Stock Options Plan (ESOP)  \\n \\n•An allocation  of shares that will be granted to employees in the future \\nin the form of stock options  \\n–How much equity should we set aside for employees?  \\n \\n•A plan for how these options will be distributed:  \\n–How many shares will individual employees receive?  \\n–What terms will govern these grants?  \\n \\n•The plan is as important as the allocation!', metadata={'page': 3, 'source': '/content/Employee-Stock-Option-Plans-ESOP-Best-Practices-2.pdf'}),\n",
              " Document(page_content='Late-VC Flush with capital,  startups at this stage \\nbegin to steadily ramp -up hiring, yet \\nemployees still want equity  Important to have standardized the  \\nESOP and the amount of equity granted \\nto new hires at each level  \\nGrowth  Company is aggressively pursuing \\ngrowth and hiring; likely to have \\nexhausted most of the ESOP  Most of the ESOP is gone, but shares \\nremaining are more valuable; use them \\nto allow  new hires to share in the upside  Make employee equity allocations and set up an ESOP sometime \\nbetween the pre -seed and early -VC stage', metadata={'page': 10, 'source': '/content/Employee-Stock-Option-Plans-ESOP-Best-Practices-2.pdf'}),\n",
              " Document(page_content='Legal Advice  \\nWhen structuring an ESOP, engage an experienced \\nstartup lawyer with regional expertise to standardize the \\nterms and language', metadata={'page': 33, 'source': '/content/Employee-Stock-Option-Plans-ESOP-Best-Practices-2.pdf'}),\n",
              " Document(page_content='The defining difference between Silicon Valley companies and almost \\nevery other industry in the U.S. is the virtually universal practice among \\ntech companies of distributing meaningful equity (usually in the form of \\nstock options) to ordinary employees .  A Defining Characteristic of Startup Culture  \\nSteven Johnson, Technology Writer  \\n•Startups are a unique case . Unlike at larger corporations, employee \\nownership is an essential element of startup communities and culture  \\n–As high -risk/high -reward enterprises, startups use options to align \\nemployee compensation with the risk -prone mentality of the \\nbusiness  \\n–Startups seeking to achieve a “big exit” use options to align all \\nemployees to drive toward this desired outcome', metadata={'page': 8, 'source': '/content/Employee-Stock-Option-Plans-ESOP-Best-Practices-2.pdf'}),\n",
              " Document(page_content='In addition to task forces and executive orders, there is a group of laws\\nwhich reflect national policy and provide the legislative framework for effec-tively managing the impact of depressive disorders ( and other mentalhealth problems) on the workplace.  These laws do not focus specifically ondepression but operate within the larger framework of all disabilities.\\nThe situation analysis highlights: The Americans with Disabilities Act of\\n1990 (ADA); the Family and Medical Leave Act of 1993 (FMLA); healthinsurance parity laws in mental health services and state workers’ compen-sation laws.  The Americans with Disabilities Act represents a watershed inthe history of the disability rights movement in the U.S.  It is one of the mostsignificant employment laws in U.S. history.  The ADA outlaws discrimina-tion against people with disabilities in nearly every domain of public life,including employment, transportation, communication, and recreationalactivities.', metadata={'page': 32, 'source': '/content/wcms_108221.pdf'}),\n",
              " Document(page_content='context of a nearly universal market economy in which the pace of econom-ic activities is fast, contractual relationships start and terminate at shortnotice, and international competition is intensified.  While globalisation hasopened up new opportunities for powerful and dynamic development andgrowth of the world economy, it does not benefit every person or region inthe world equally.  The key elements that globalisation has brought areincreasing automation, rapid implementation of information technology,and the need for more flexible and responsive work methods.  Workersworldwide confront, as never before, an array of new organisational struc-tures and processes which can affect their mental health.  These includedownsizing, layoffs, mergers, contingent employment, and increased workload.  To guarantee the best results in international competition, it is in theinterest of employers to provide their employees with decent working con-\\nditions.\\n10\\nTHE PURPOSE OF THE SITUATION ANALYSES', metadata={'page': 7, 'source': '/content/wcms_108221.pdf'}),\n",
              " Document(page_content='The role of government and social partners \\nThe Ministries of Labour and Health and Social Affairs are vital inadvancing good working conditions, improving and maintaining the\\nwork ability of the Finnish labour force, and providing mental health careservices, occupational health care services, and rehabilitation.  The Ministryof Labour runs workplace programmes that address issues conducive toemployees’ wellbeing and the quality of working life.  The National Researchand Development Centre for Welfare and Health (STAKES), an affiliate ofthe Ministry of Health and Social Affairs, runs several successful nation-wide programmes targeting suicide and depression. \\nCentral employees’ organisations also actively promote wellbeing and work', metadata={'page': 20, 'source': '/content/wcms_108221.pdf'}),\n",
              " Document(page_content='The ILO’s Target Groups Unit, in the Infocus\\n1Programme on Skills,\\nKnowledge, and Employability, focuses on the human resource needs ofvulnerable groups, including individuals with mental health difficulties,and promotes the inclusion of persons with mental health difficulties andphysical disabilities into mainstream training and employment.  The ILO’soccupational safety and health programmes, Safe Work and Conditions ofWork, complement these activities by dealing with issues of occupationalsafety and health and working conditions.\\nThis summary and the situation analyses resulting from the project', metadata={'page': 5, 'source': '/content/wcms_108221.pdf'}),\n",
              " Document(page_content='Non-governmen-\\ntal organisationsare vital in raisingawareness ofmental healthissues, dissemi-nating informa-tion, providingservices, andreducing stigmasurrounding men-tal health prob-lems.Finland provides an example of an extensive occupational health care serv-ice system that reaches 90 % of the workforce.  Occupational health careservices are also responsible for providing rehabilitation services foremployees.  Mental health issues have not traditionally belonged to thedomain of occupational health care services, but their importance to employ-ees’ work ability has been recognised, and more attention and resourceshave been devoted to them.  In the USA and the UK, where the occupation-al health care services operate on a different basis, Employee AssistanceProgrammes (EAP) are becoming a more common and popular means toprovide counselling and confidential information.  EAP services are inde-pendent of but financed by employers.\\nTHE ROLE OF GOVERNMENT AND THE SOCIAL PARTNERS', metadata={'page': 11, 'source': '/content/wcms_108221.pdf'})]"
            ]
          },
          "metadata": {},
          "execution_count": 36
        }
      ]
    },
    {
      "cell_type": "markdown",
      "source": [
        "**We can see a difference in the order of the context retrieved after applying LongContextReorder**"
      ],
      "metadata": {
        "id": "7KPQdq_60URD"
      }
    },
    {
      "cell_type": "markdown",
      "source": [
        "**Setup Filtering and LongContext Retriever Pipeline**"
      ],
      "metadata": {
        "id": "E0PUw3RN0TeW"
      }
    },
    {
      "cell_type": "code",
      "source": [
        "from re import search\n",
        "filter = EmbeddingsRedundantFilter(embeddings=hf_bge_embeddings)\n",
        "reordering  = LongContextReorder()\n",
        "pipeline = DocumentCompressorPipeline(transformers=[filter,reordering])\n",
        "compression_retriever_reordered = ContextualCompressionRetriever(\n",
        "    base_compressor=pipeline,base_retriever=lotr,search_kwargs={\"k\":5,\"include_metadata\":True})\n",
        "\n",
        "docs = compression_retriever_reordered.get_relevant_documents(\"What is esops?\")\n",
        "print(len(docs))\n",
        "\n",
        "print(docs[0].page_content)\n",
        "\n",
        "print(compression_retriever_reordered.get_relevant_documents(\"What is the stigma associated with mental health?\")[0].page_content)\n"
      ],
      "metadata": {
        "colab": {
          "base_uri": "https://localhost:8080/"
        },
        "id": "D754j5X70heP",
        "outputId": "bfde27e6-fba5-4e4e-fe27-10f5ee01a755"
      },
      "execution_count": 38,
      "outputs": [
        {
          "output_type": "stream",
          "name": "stdout",
          "text": [
            "10\n",
            "ESOPS FOR THE LONG TERM  Part IV\n",
            "Social Impact Considerations  \n",
            "•Companies focused on social impact goals and/or in developing \n",
            "markets may have unique ESOP considerations  \n",
            "•Consider two possible scenarios:  \n",
            "–Financial Inclusion Goals : Employee -friendly hiring practices and \n",
            "ESOPs can help build local financial inclusion. If this is part of your \n",
            "corporate mandate, consider the added social impact value of \n",
            "offering your options program to all levels of employees  \n",
            "–Local Ownership Culture : Conversely, in certain regions stock \n",
            "options may have negligible value to employees, either because of \n",
            "risk aversion, lack of liquidity, or lack of understanding. If this is the \n",
            "case, it is not worth extensively offering options to employees who \n",
            "would rather be paid in cash\n"
          ]
        }
      ]
    },
    {
      "cell_type": "markdown",
      "source": [
        "**Implementing Generation Pipeline with Langchain and HFHub Models**"
      ],
      "metadata": {
        "id": "vLamkB6Z1_Xk"
      }
    },
    {
      "cell_type": "markdown",
      "source": [
        "**Setup LLM**"
      ],
      "metadata": {
        "id": "OrG4cqSM2LFo"
      }
    },
    {
      "cell_type": "code",
      "source": [
        "%%capture\n",
        "!pip install llama-cpp-python"
      ],
      "metadata": {
        "id": "e8oYmf5h-xJ3"
      },
      "execution_count": 40,
      "outputs": []
    },
    {
      "cell_type": "code",
      "source": [
        "from langchain.llms import LlamaCpp\n",
        "llms = LlamaCpp(streaming=True,\n",
        "                model_path=\"/content/drive/MyDrive/zephyr-7b-beta.Q4_K_M.gguf\",\n",
        "                max_tokens=2048,\n",
        "                temperature=0.6,\n",
        "                top_p=0.95,\n",
        "                gpu_layers=0,\n",
        "                stream=True,\n",
        "                verbose=True,\n",
        "                n_threads=int(os.cpu_count()/2),\n",
        "                n_ctx=8192) #context length"
      ],
      "metadata": {
        "colab": {
          "base_uri": "https://localhost:8080/"
        },
        "id": "5N0G8yRI2GjC",
        "outputId": "77afaf2c-1910-4780-af92-efe51da43428"
      },
      "execution_count": 49,
      "outputs": [
        {
          "output_type": "stream",
          "name": "stderr",
          "text": [
            "/usr/local/lib/python3.10/dist-packages/langchain_core/utils/utils.py:159: UserWarning: WARNING! gpu_layers is not default parameter.\n",
            "                gpu_layers was transferred to model_kwargs.\n",
            "                Please confirm that gpu_layers is what you intended.\n",
            "  warnings.warn(\n",
            "/usr/local/lib/python3.10/dist-packages/langchain_core/utils/utils.py:159: UserWarning: WARNING! stream is not default parameter.\n",
            "                stream was transferred to model_kwargs.\n",
            "                Please confirm that stream is what you intended.\n",
            "  warnings.warn(\n",
            "AVX = 1 | AVX2 = 1 | AVX512 = 0 | AVX512_VBMI = 0 | AVX512_VNNI = 0 | FMA = 1 | NEON = 0 | ARM_FMA = 0 | F16C = 1 | FP16_VA = 0 | WASM_SIMD = 0 | BLAS = 0 | SSE3 = 1 | SSSE3 = 1 | VSX = 0 | \n"
          ]
        }
      ]
    },
    {
      "cell_type": "markdown",
      "source": [
        "**Setup RetrievalQA Chain**"
      ],
      "metadata": {
        "id": "69rD8gpn3FK3"
      }
    },
    {
      "cell_type": "code",
      "source": [
        "from langchain.chains import RetrievalQA\n",
        "\n",
        "qa = RetrievalQA.from_chain_type(\n",
        "    llm=llms,\n",
        "    chain_type=\"stuff\",\n",
        "    retriever= compression_retriever_reordered,\n",
        "    return_source_documents=True\n",
        ")"
      ],
      "metadata": {
        "id": "5suvXokb3JDY"
      },
      "execution_count": 50,
      "outputs": []
    },
    {
      "cell_type": "markdown",
      "source": [
        "**Querying**"
      ],
      "metadata": {
        "id": "ZHALy4cm3flF"
      }
    },
    {
      "cell_type": "code",
      "source": [
        "query = \"What is esop?\"\n",
        "results = qa(query)\n",
        "print(results['result'])\n",
        "\n",
        "print(results[\"source_documents\"])\n"
      ],
      "metadata": {
        "id": "WNLaMmuY3haC"
      },
      "execution_count": null,
      "outputs": []
    },
    {
      "cell_type": "code",
      "source": [
        "results = qa(\"How to determine Dollar value of the options Grant\")\n",
        "print(results['result'])\n",
        "\n",
        "print(results['source_documents'])\n",
        "\n",
        "for source in results['source_documents']:\n",
        "  print(source.metadata)"
      ],
      "metadata": {
        "id": "F_vzsFg03hl_"
      },
      "execution_count": null,
      "outputs": []
    }
  ]
}